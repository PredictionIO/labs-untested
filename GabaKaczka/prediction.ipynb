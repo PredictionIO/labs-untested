{
 "cells": [
  {
   "cell_type": "code",
   "execution_count": 632,
   "metadata": {
    "collapsed": false
   },
   "outputs": [],
   "source": [
    "import csv\n",
    "import pandas as pd\n",
    "import numpy as np\n",
    "import matplotlib.pyplot as plt\n",
    "import random\n",
    "import seaborn as sns\n",
    "from scipy.stats import kendalltau\n",
    "from matplotlib.ticker import FuncFormatter, MultipleLocator\n",
    "import matplotlib.cm as cm"
   ]
  },
  {
   "cell_type": "code",
   "execution_count": 633,
   "metadata": {
    "collapsed": false
   },
   "outputs": [],
   "source": [
    "def get_data(location):\n",
    "    data = pd.read_csv(location, header=None)\n",
    "    data = data.sample(frac=0.05)\n",
    "   \n",
    "    if location.endswith('users.csv'):\n",
    "        data.columns = ['userId', 'registerCountry', 'signupTime']\n",
    "    elif location.endswith('conversions.csv'):\n",
    "        data.columns = ['userId', 'itemId', 'price', 'quantity', 'timestamp']\n",
    "    elif location.endswith('items.csv'):\n",
    "        data.columns = ['itemId', 'style', 'personality', 'color', 'theme', 'price', 'category']\n",
    "    elif location.endswith('users_ads.csv'):\n",
    "        data.columns = ['userId', 'utmSource', 'utmCampaign']\n",
    "    return data\n"
   ]
  },
  {
   "cell_type": "markdown",
   "metadata": {},
   "source": [
    "Obtains data from files."
   ]
  },
  {
   "cell_type": "code",
   "execution_count": 634,
   "metadata": {
    "collapsed": true
   },
   "outputs": [],
   "source": [
    "def getYearMonth(s):\n",
    "    return s.split(\"-\")[1]+\"-\"+s.split(\"-\")[2].split(\" \")[0]"
   ]
  },
  {
   "cell_type": "markdown",
   "metadata": {},
   "source": [
    "Util function: extracts months from dates."
   ]
  },
  {
   "cell_type": "code",
   "execution_count": 635,
   "metadata": {
    "collapsed": false
   },
   "outputs": [],
   "source": [
    " def number_of_new_users_per_month():\n",
    "    users = get_data('../../fb2015/users.csv')\n",
    "    users['month'] = pd.DatetimeIndex(users['signupTime']).month\n",
    "    users['year'] = pd.DatetimeIndex(users['signupTime']).year\n",
    "    users_per_yearmonth = users.groupby(['year', 'month'])['userId'].count()\n",
    "    users_per_yearmonth = users_per_yearmonth.sort_index()\n",
    "    users_per_yearmonth.plot(kind='bar')\n",
    "    plt.show()"
   ]
  },
  {
   "cell_type": "markdown",
   "metadata": {},
   "source": [
    "Displays number of newly registered users per month."
   ]
  },
  {
   "cell_type": "code",
   "execution_count": 636,
   "metadata": {
    "collapsed": false
   },
   "outputs": [],
   "source": [
    "def number_of_conversions_per_month():\n",
    "    conv = get_data('../../fb2015/conversions.csv')\n",
    "    conv['month'] = pd.DatetimeIndex(conv['timestamp']).month\n",
    "    conv['year'] = pd.DatetimeIndex(conv['timestamp']).year\n",
    "    conv_per_yearmonth = conv.groupby(['year', 'month']).count()\n",
    "    conv_per_yearmonth = conv_per_yearmonth.sort_index()\n",
    "    conv_per_yearmonth.plot()\n",
    "    plt.show()"
   ]
  },
  {
   "cell_type": "markdown",
   "metadata": {},
   "source": [
    "Displays number of conversions per month."
   ]
  },
  {
   "cell_type": "code",
   "execution_count": 637,
   "metadata": {
    "collapsed": true
   },
   "outputs": [],
   "source": [
    "def number_of_items_purchased_per_month():\n",
    "    conv = get_data('../../fb2015/conversions.csv')\n",
    "    conv['month'] = pd.DatetimeIndex(conv['timestamp']).month\n",
    "    conv['year'] = pd.DatetimeIndex(conv['timestamp']).year\n",
    "    conv_per_yearmonth = conv.groupby(['year', 'month'])['quantity'].count()\n",
    "    conv_per_yearmonth = conv_per_yearmonth.sort_index()\n",
    "    conv_per_yearmonth.plot()\n",
    "    plt.show()"
   ]
  },
  {
   "cell_type": "markdown",
   "metadata": {},
   "source": [
    "Displays number of items purchased per month."
   ]
  },
  {
   "cell_type": "code",
   "execution_count": 638,
   "metadata": {
    "collapsed": true
   },
   "outputs": [],
   "source": [
    "def income_per_month():\n",
    "    conv = get_data('../../fb2015/conversions.csv')\n",
    "    conv['month'] = pd.DatetimeIndex(conv['timestamp']).month\n",
    "    conv['year'] = pd.DatetimeIndex(conv['timestamp']).year\n",
    "    conv_per_yearmonth = conv.groupby(['year', 'month'])['price'].sum()\n",
    "    conv_per_yearmonth = conv_per_yearmonth.sort_index()\n",
    "    conv_per_yearmonth.plot()\n",
    "    plt.show()"
   ]
  },
  {
   "cell_type": "markdown",
   "metadata": {},
   "source": [
    "Displays income per month."
   ]
  },
  {
   "cell_type": "code",
   "execution_count": 639,
   "metadata": {
    "collapsed": false
   },
   "outputs": [],
   "source": [
    "def number_of_purchases_per_user_in_the_first_week():\n",
    "    users = get_data('../../fb2015/users.csv')\n",
    "    users['week_after'] = pd.DatetimeIndex(users['signupTime'])+pd.Timedelta(days=7)\n",
    "    \n",
    "    conv = get_data('../../fb2015/conversions.csv')\n",
    "    conv['timestamp'] = pd.DatetimeIndex(conv['timestamp'])\n",
    "    \n",
    "    joined = pd.merge(users, conv, left_on='userId', right_on='userId', how='inner')\n",
    "    conversions_per_user_in_the_first_week = joined[joined['timestamp'] <= joined['week_after']].groupby('userId')['quantity'].sum()\n",
    "    \n",
    "    conversions_per_user_in_the_first_week.plot(kind='bar')\n",
    "    plt.show()"
   ]
  },
  {
   "cell_type": "markdown",
   "metadata": {},
   "source": [
    "Displays number of items purchased during the first week after signing in."
   ]
  },
  {
   "cell_type": "code",
   "execution_count": 640,
   "metadata": {
    "collapsed": false
   },
   "outputs": [],
   "source": [
    "def number_of_items_from_particular_category_purchased_in_all_countries():\n",
    "    conv = get_data('../../fb2015/conversions.csv')\n",
    "    items = get_data('../../fb2015/items.csv')\n",
    "    \n",
    "    joined = pd.merge(items, conv, left_on='itemId', right_on='itemId', how='inner')\n",
    "    count_of_items = joined.groupby('category')['quantity'].sum()\n",
    "    \n",
    "    count_of_items.plot(kind='bar', title='Number of items purchased in all countries, grouped by category.')\n",
    "    plt.show()"
   ]
  },
  {
   "cell_type": "markdown",
   "metadata": {},
   "source": [
    "Displays number of items from particular category purchased by people from all countries."
   ]
  },
  {
   "cell_type": "code",
   "execution_count": 641,
   "metadata": {
    "collapsed": false
   },
   "outputs": [],
   "source": [
    "def number_of_items_purchased_in_particular_country_grouped_by_category(country):\n",
    "    conv = get_data('../../fb2015/conversions.csv')\n",
    "    items = get_data('../../fb2015/items.csv')\n",
    "    users = get_data('../../fb2015/users.csv')\n",
    "    \n",
    "    joined_items_conv = pd.merge(items, conv, left_on='itemId', right_on='itemId', how='inner')\n",
    "    joined = pd.merge(joined_items_conv, users, left_on='userId', right_on='userId', how='inner')\n",
    "    filtered = joined[joined['registerCountry']==country]\n",
    "    grouped = filtered.groupby('category')['quantity'].sum()\n",
    "    \n",
    "    grouped.plot(kind='bar', title=\"Number of items purchased in \" + country + \", grouped by category.\")\n",
    "    plt.show()"
   ]
  },
  {
   "cell_type": "markdown",
   "metadata": {},
   "source": [
    "Displays number of items from all cattegories purchased in particular country."
   ]
  },
  {
   "cell_type": "code",
   "execution_count": 642,
   "metadata": {
    "collapsed": false
   },
   "outputs": [],
   "source": [
    "def number_of_purchased_items_grouped_by_categories_in_all_countries():\n",
    "    conv = get_data('../../fb2015/conversions.csv')\n",
    "    items = get_data('../../fb2015/items.csv')\n",
    "    users = get_data('../../fb2015/users.csv')\n",
    "    \n",
    "    joined_items_conv = pd.merge(items, conv, left_on='itemId', right_on='itemId', how='inner')\n",
    "    joined = pd.merge(joined_items_conv, users, left_on='userId', right_on='userId', how='inner')\n",
    " \n",
    "    joined = joined.dropna(subset=['category', 'quantity', 'registerCountry'])\n",
    "    \n",
    "    y_labels = []\n",
    "    x_labels = []\n",
    "    y_ticks = []\n",
    "    x_ticks = []\n",
    "    x = []\n",
    "    y = []\n",
    "\n",
    "    for i, row in enumerate(joined['registerCountry'].unique()):\n",
    "        y_labels.append(row)\n",
    "        y_ticks.append(i)\n",
    "        y.append(i)\n",
    "    \n",
    "    for i, row in enumerate(joined['category'].unique()):\n",
    "        x_labels.append(row)\n",
    "        x_ticks.append(i)\n",
    "        x.append(i)\n",
    "    \n",
    "    fig = plt.figure(figsize=(len(x)*0.6, max(len(y)+2, 7)))\n",
    "    ax = fig.add_subplot(1, 1, 1)\n",
    "    \n",
    "    for j, country in enumerate(y_labels):\n",
    "        if country == '' or country == 'None' or country == None:\n",
    "            continue\n",
    "        area = []\n",
    "        color = cm.rainbow(np.linspace(j, j+1, 1))       \n",
    "        for i, category in enumerate(x_labels):\n",
    "            if category == '' or category == 'None' or category == None:\n",
    "                continue\n",
    "            countryFiltered = joined[joined['registerCountry']==country]\n",
    "            filtered = countryFiltered[countryFiltered['category']==category]\n",
    "            area=filtered['quantity'].sum()*20\n",
    "            ax.scatter(x=i, y=j, s=area, c=color, alpha=0.5)  \n",
    "    \n",
    "    ax.set(xticks=range(len(x_labels)), xticklabels=x_labels,\n",
    "       yticks=range(len(y_labels)), yticklabels=y_labels)\n",
    "    plt.tick_params(axis='x', labelsize=8)\n",
    "    plt.xticks(rotation=70)Displays general view on sum of purchased items grouped by country and category\n",
    "   \n",
    "    plt.show()"
   ]
  },
  {
   "cell_type": "markdown",
   "metadata": {},
   "source": [
    "Displays general view on sum of purchased items grouped by country and category."
   ]
  },
  {
   "cell_type": "code",
   "execution_count": 643,
   "metadata": {
    "collapsed": false
   },
   "outputs": [],
   "source": [
    "number_of_purchased_items_grouped_by_categories_in_all_countries()"
   ]
  }
 ],
 "metadata": {
  "kernelspec": {
   "display_name": "Python 3",
   "language": "python",
   "name": "python3"
  },
  "language_info": {
   "codemirror_mode": {
    "name": "ipython",
    "version": 3
   },
   "file_extension": ".py",
   "mimetype": "text/x-python",
   "name": "python",
   "nbconvert_exporter": "python",
   "pygments_lexer": "ipython3",
   "version": "3.5.0"
  }
 },
 "nbformat": 4,
 "nbformat_minor": 0
}
