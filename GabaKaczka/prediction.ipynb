{
 "cells": [
  {
   "cell_type": "code",
   "execution_count": 352,
   "metadata": {
    "collapsed": false
   },
   "outputs": [],
   "source": [
    "import csv\n",
    "import pandas as pd\n",
    "import numpy as np\n",
    "import matplotlib.pyplot as plt\n",
    "import random\n",
    "import seaborn as sns\n",
    "from scipy.stats import kendalltau"
   ]
  },
  {
   "cell_type": "code",
   "execution_count": 353,
   "metadata": {
    "collapsed": false
   },
   "outputs": [],
   "source": [
    "def get_data(location):\n",
    "    data = pd.read_csv(location, header=None)\n",
    "    data = data.sample(frac=0.05)\n",
    "   \n",
    "    if location.endswith('users.csv'):\n",
    "        data.columns = ['userId', 'registerCountry', 'signupTime']\n",
    "    elif location.endswith('conversions.csv'):\n",
    "        data.columns = ['userId', 'itemId', 'price', 'quantity', 'timestamp']\n",
    "    elif location.endswith('items.csv'):\n",
    "        data.columns = ['itemId', 'style', 'personality', 'color', 'theme', 'price', 'category']\n",
    "    elif location.endswith('users_ads.csv'):\n",
    "        data.columns = ['userId', 'utmSource', 'utmCampaign']\n",
    "    return data\n"
   ]
  },
  {
   "cell_type": "markdown",
   "metadata": {},
   "source": [
    "Obtains data from files."
   ]
  },
  {
   "cell_type": "code",
   "execution_count": 354,
   "metadata": {
    "collapsed": true
   },
   "outputs": [],
   "source": [
    "def getYearMonth(s):\n",
    "    return s.split(\"-\")[1]+\"-\"+s.split(\"-\")[2].split(\" \")[0]"
   ]
  },
  {
   "cell_type": "markdown",
   "metadata": {},
   "source": [
    "Util function: extracts months from dates."
   ]
  },
  {
   "cell_type": "code",
   "execution_count": 355,
   "metadata": {
    "collapsed": false
   },
   "outputs": [],
   "source": [
    " def number_of_new_users_per_month():\n",
    "    users = get_data('../../fb2015/users.csv')\n",
    "    users['month'] = pd.DatetimeIndex(users['signupTime']).month\n",
    "    users['year'] = pd.DatetimeIndex(users['signupTime']).year\n",
    "    users_per_yearmonth = users.groupby(['year', 'month'])['userId'].count()\n",
    "    users_per_yearmonth = users_per_yearmonth.sort_index()\n",
    "    users_per_yearmonth.plot(kind='bar')\n",
    "    plt.show()"
   ]
  },
  {
   "cell_type": "markdown",
   "metadata": {},
   "source": [
    "Displays number of newly registered users per month."
   ]
  },
  {
   "cell_type": "code",
   "execution_count": 356,
   "metadata": {
    "collapsed": false
   },
   "outputs": [],
   "source": [
    "def number_of_conversions_per_month():\n",
    "    conv = get_data('../../fb2015/conversions.csv')\n",
    "    conv['month'] = pd.DatetimeIndex(conv['timestamp']).month\n",
    "    conv['year'] = pd.DatetimeIndex(conv['timestamp']).year\n",
    "    conv_per_yearmonth = conv.groupby(['year', 'month']).count()\n",
    "    conv_per_yearmonth = conv_per_yearmonth.sort_index()\n",
    "    conv_per_yearmonth.plot()\n",
    "    plt.show()"
   ]
  },
  {
   "cell_type": "markdown",
   "metadata": {},
   "source": [
    "Displays number of conversions per month."
   ]
  },
  {
   "cell_type": "code",
   "execution_count": 357,
   "metadata": {
    "collapsed": true
   },
   "outputs": [],
   "source": [
    "def number_of_items_purchased_per_month():\n",
    "    conv = get_data('../../fb2015/conversions.csv')\n",
    "    conv['month'] = pd.DatetimeIndex(conv['timestamp']).month\n",
    "    conv['year'] = pd.DatetimeIndex(conv['timestamp']).year\n",
    "    conv_per_yearmonth = conv.groupby(['year', 'month'])['quantity'].count()\n",
    "    conv_per_yearmonth = conv_per_yearmonth.sort_index()\n",
    "    conv_per_yearmonth.plot()\n",
    "    plt.show()"
   ]
  },
  {
   "cell_type": "markdown",
   "metadata": {},
   "source": [
    "Displays number of items purchased per month."
   ]
  },
  {
   "cell_type": "code",
   "execution_count": 358,
   "metadata": {
    "collapsed": true
   },
   "outputs": [],
   "source": [
    "def income_per_month():\n",
    "    conv = get_data('../../fb2015/conversions.csv')\n",
    "    conv['month'] = pd.DatetimeIndex(conv['timestamp']).month\n",
    "    conv['year'] = pd.DatetimeIndex(conv['timestamp']).year\n",
    "    conv_per_yearmonth = conv.groupby(['year', 'month'])['price'].sum()\n",
    "    conv_per_yearmonth = conv_per_yearmonth.sort_index()\n",
    "    conv_per_yearmonth.plot()\n",
    "    plt.show()"
   ]
  },
  {
   "cell_type": "markdown",
   "metadata": {},
   "source": [
    "Displays income per month."
   ]
  },
  {
   "cell_type": "code",
   "execution_count": 359,
   "metadata": {
    "collapsed": false
   },
   "outputs": [],
   "source": [
    "def number_of_purchases_per_user_in_the_first_week():\n",
    "    users = get_data('../../fb2015/users.csv')\n",
    "    users['week_after'] = pd.DatetimeIndex(users['signupTime'])+pd.Timedelta(days=7)\n",
    "    \n",
    "    conv = get_data('../../fb2015/conversions.csv')\n",
    "    conv['timestamp'] = pd.DatetimeIndex(conv['timestamp'])\n",
    "    \n",
    "    joined = pd.merge(users, conv, left_on='userId', right_on='userId', how='inner')\n",
    "    conversions_per_user_in_the_first_week = joined[joined['timestamp'] <= joined['week_after']].groupby('userId')['quantity'].sum()\n",
    "    \n",
    "    conversions_per_user_in_the_first_week.plot(kind='bar')\n",
    "    plt.show()"
   ]
  },
  {
   "cell_type": "markdown",
   "metadata": {},
   "source": [
    "Displays number of items purchased during the first week after signing in."
   ]
  },
  {
   "cell_type": "code",
   "execution_count": 360,
   "metadata": {
    "collapsed": false
   },
   "outputs": [],
   "source": [
    "def number_of_items_from_particular_category_purchased_in_all_countries():\n",
    "    conv = get_data('../../fb2015/conversions.csv')\n",
    "    items = get_data('../../fb2015/items.csv')\n",
    "    \n",
    "    joined = pd.merge(items, conv, left_on='itemId', right_on='itemId', how='inner')\n",
    "    count_of_items = joined.groupby('category')['quantity'].sum()\n",
    "    #count_of_items.columns = ['category', 'sum']\n",
    "    \n",
    "    count_of_items.plot(kind='bar', title='Number of items purchased in all countries, grouped by category.')\n",
    "    plt.show()"
   ]
  },
  {
   "cell_type": "markdown",
   "metadata": {},
   "source": [
    "Displays number of items from particular category purchased by people from all countries."
   ]
  },
  {
   "cell_type": "code",
   "execution_count": 361,
   "metadata": {
    "collapsed": false
   },
   "outputs": [],
   "source": [
    "def number_of_items_purchased_in_particular_country_grouped_by_category(country):\n",
    "    conv = get_data('../../fb2015/conversions.csv')\n",
    "    items = get_data('../../fb2015/items.csv')\n",
    "    users = get_data('../../fb2015/users.csv')\n",
    "    \n",
    "    joined_items_conv = pd.merge(items, conv, left_on='itemId', right_on='itemId', how='inner')\n",
    "    joined = pd.merge(joined_items_conv, users, left_on='userId', right_on='userId', how='inner')\n",
    "    filtered = joined[joined['registerCountry']==country]\n",
    "    grouped = filtered.groupby('category')['quantity'].sum()\n",
    "    \n",
    "    grouped.plot(kind='bar', title=\"Number of items purchased in \" + country + \", grouped by category.\")\n",
    "    plt.show()"
   ]
  },
  {
   "cell_type": "markdown",
   "metadata": {},
   "source": [
    "Displays number of items from all cattegories purchased in particular country."
   ]
  },
  {
   "cell_type": "code",
   "execution_count": 362,
   "metadata": {
    "collapsed": false
   },
   "outputs": [],
   "source": [
    "def number_of_purchased_items_grouped_by_categories_in_all_countries():#TODO\n",
    "    conv = get_data('../../fb2015/conversions.csv')\n",
    "    items = get_data('../../fb2015/items.csv')\n",
    "    users = get_data('../../fb2015/users.csv')\n",
    "    \n",
    "    joined_items_conv = pd.merge(items, conv, left_on='itemId', right_on='itemId', how='inner')\n",
    "    joined = pd.merge(joined_items_conv, users, left_on='userId', right_on='userId', how='inner')\n",
    " \n",
    "    #joined = joined[joined['category'] != 'NaN'].to_frame()\n",
    "    #joined = joined[joined['quantity'] != 'NaN'].to_frame()\n",
    "    #joined = joined[joined['registerCountry'] != 'NaN'].to_frame()\n",
    "    joined['category'] = joined.category.dropna()\n",
    "    joined['quantity'] = joined.quantity.dropna()\n",
    "    joined['registerCountry'] = joined.registerCountry.dropna()\n",
    "    #joined['quantitySum'] = joined.groupby(['registerCountry', 'category'])['quantity'].sum()\n",
    "    #print(joined['quantitySum'])\n",
    "    #print(\"+++++++++++\")\n",
    "    #for x in joined.groupby(['registerCountry', 'category'])['quantity'].sum():\n",
    "    #    print(x)\n",
    "    #print(\"+++++++++++\")\n",
    "    print(joined.groupby(['registerCountry', 'category'])['quantity'].sum())\n",
    "    g = sns.FacetGrid(joined, col=\"registerCountry\")\n",
    "    g.map(sns.barplot, \"category\", \"quantity\");\n",
    "\n",
    "    plt.show()"
   ]
  },
  {
   "cell_type": "code",
   "execution_count": 363,
   "metadata": {
    "collapsed": true
   },
   "outputs": [],
   "source": [
    "def number_of_all_items_grouped_by_categories_in_all_countries2():#TODO\n",
    "    conv = get_data('../../fb2015/conversions.csv')\n",
    "    items = get_data('../../fb2015/items.csv')\n",
    "    users = get_data('../../fb2015/users.csv')\n",
    "    \n",
    "    joined_items_conv = pd.merge(items, conv, left_on='itemId', right_on='itemId', how='inner')\n",
    "    joined = pd.merge(joined_items_conv, users, left_on='userId', right_on='userId', how='inner')\n",
    "    #joined = joined.groupby('registerCountry')#['grouped_by_country'] = \n",
    "    #joined = joined.groupby('category')#['quantity'].sum()#['grouped_by_categoried']\n",
    "    #print(type(grouped_by_country))\n",
    "    #print(type(grouped_by_categoried))\n",
    "    sns.jointplot(x='signupTime', y='category', data=joined, kind=\"hex\", color=\"#4CB391\", ratio=13)\n",
    "    #kdeplot(joined['signupTime'], joined['category'])\n",
    "    plt.show()"
   ]
  },
  {
   "cell_type": "code",
   "execution_count": 364,
   "metadata": {
    "collapsed": false
   },
   "outputs": [],
   "source": [
    "#def neww():\n",
    "#    sns.set(style=\"darkgrid\")\n",
    "#    tips = sns.load_dataset(\"tips\")\n",
    "#    g = sns.FacetGrid(tips, row=\"sex\", col=\"time\", margin_titles=True)\n",
    "#    bins = np.linspace(0, 60, 13)\n",
    "#    g.map(plt.hist, \"total_bill\", color=\"steelblue\", bins=bins, lw=0)\n",
    "#    plt.show()"
   ]
  },
  {
   "cell_type": "code",
   "execution_count": 365,
   "metadata": {
    "collapsed": true
   },
   "outputs": [],
   "source": [
    "#def neww2():\n",
    "#    sns.set(style=\"ticks\")\n",
    "\n",
    "#    rs = np.random.RandomState(11)\n",
    "#    x = rs.gamma(12, size=1000)\n",
    "#    y = -.5 * x + rs.normal(size=1000)\n",
    "\n",
    "#    sns.jointplot(x, y, kind=\"hex\", stat_func=kendalltau, color=\"#4CB391\")\n",
    "#    plt.show()"
   ]
  },
  {
   "cell_type": "code",
   "execution_count": 366,
   "metadata": {
    "collapsed": false
   },
   "outputs": [
    {
     "name": "stdout",
     "output_type": "stream",
     "text": [
      "registerCountry  category  \n",
      "None             1230687117    1\n",
      "                 2095064690    4\n",
      "United States    48494886      6\n",
      "                 463366985     3\n",
      "                 489875200     3\n",
      "                 525094781     1\n",
      "                 938176607     1\n",
      "                 938803198     1\n",
      "                 1230687117    3\n",
      "                 1242167586    1\n",
      "                 1723305630    1\n",
      "                 2095064690    7\n",
      "                 2325837962    1\n",
      "                 3308992943    1\n",
      "                 3462847467    1\n",
      "                 3751981041    1\n",
      "                 3772617607    1\n",
      "                 4129351864    7\n",
      "                 4245010542    1\n",
      "Name: quantity, dtype: int64\n"
     ]
    },
    {
     "name": "stderr",
     "output_type": "stream",
     "text": [
      "/home/gaba/anaconda3/lib/python3.5/site-packages/matplotlib/__init__.py:892: UserWarning: axes.color_cycle is deprecated and replaced with axes.prop_cycle; please use the latter.\n",
      "  warnings.warn(self.msg_depr % (key, alt_key))\n"
     ]
    },
    {
     "ename": "AttributeError",
     "evalue": "bins must increase monotonically.",
     "output_type": "error",
     "traceback": [
      "\u001b[1;31m---------------------------------------------------------------------------\u001b[0m",
      "\u001b[1;31mAttributeError\u001b[0m                            Traceback (most recent call last)",
      "\u001b[1;32m<ipython-input-366-ff2033d1ec19>\u001b[0m in \u001b[0;36m<module>\u001b[1;34m()\u001b[0m\n\u001b[1;32m----> 1\u001b[1;33m \u001b[0mnumber_of_purchased_items_grouped_by_categories_in_all_countries\u001b[0m\u001b[1;33m(\u001b[0m\u001b[1;33m)\u001b[0m\u001b[1;33m\u001b[0m\u001b[0m\n\u001b[0m\u001b[0;32m      2\u001b[0m \u001b[1;31m#number_of_items_purchased_in_particular_country_grouped_by_category('United States')\u001b[0m\u001b[1;33m\u001b[0m\u001b[1;33m\u001b[0m\u001b[0m\n\u001b[0;32m      3\u001b[0m \u001b[1;31m#number_of_items_from_particular_category_purchased_in_all_countries()\u001b[0m\u001b[1;33m\u001b[0m\u001b[1;33m\u001b[0m\u001b[0m\n",
      "\u001b[1;32m<ipython-input-362-dca22626892a>\u001b[0m in \u001b[0;36mnumber_of_purchased_items_grouped_by_categories_in_all_countries\u001b[1;34m()\u001b[0m\n\u001b[0;32m     21\u001b[0m     \u001b[0mprint\u001b[0m\u001b[1;33m(\u001b[0m\u001b[0mjoined\u001b[0m\u001b[1;33m.\u001b[0m\u001b[0mgroupby\u001b[0m\u001b[1;33m(\u001b[0m\u001b[1;33m[\u001b[0m\u001b[1;34m'registerCountry'\u001b[0m\u001b[1;33m,\u001b[0m \u001b[1;34m'category'\u001b[0m\u001b[1;33m]\u001b[0m\u001b[1;33m)\u001b[0m\u001b[1;33m[\u001b[0m\u001b[1;34m'quantity'\u001b[0m\u001b[1;33m]\u001b[0m\u001b[1;33m.\u001b[0m\u001b[0msum\u001b[0m\u001b[1;33m(\u001b[0m\u001b[1;33m)\u001b[0m\u001b[1;33m)\u001b[0m\u001b[1;33m\u001b[0m\u001b[0m\n\u001b[0;32m     22\u001b[0m     \u001b[0mg\u001b[0m \u001b[1;33m=\u001b[0m \u001b[0msns\u001b[0m\u001b[1;33m.\u001b[0m\u001b[0mFacetGrid\u001b[0m\u001b[1;33m(\u001b[0m\u001b[0mjoined\u001b[0m\u001b[1;33m,\u001b[0m \u001b[0mcol\u001b[0m\u001b[1;33m=\u001b[0m\u001b[1;34m\"registerCountry\"\u001b[0m\u001b[1;33m)\u001b[0m\u001b[1;33m\u001b[0m\u001b[0m\n\u001b[1;32m---> 23\u001b[1;33m     \u001b[0mg\u001b[0m\u001b[1;33m.\u001b[0m\u001b[0mmap\u001b[0m\u001b[1;33m(\u001b[0m\u001b[0mplt\u001b[0m\u001b[1;33m.\u001b[0m\u001b[0mhist\u001b[0m\u001b[1;33m,\u001b[0m \u001b[1;34m\"category\"\u001b[0m\u001b[1;33m,\u001b[0m \u001b[1;34m\"quantity\"\u001b[0m\u001b[1;33m)\u001b[0m\u001b[1;33m;\u001b[0m\u001b[1;33m\u001b[0m\u001b[0m\n\u001b[0m\u001b[0;32m     24\u001b[0m \u001b[1;33m\u001b[0m\u001b[0m\n\u001b[0;32m     25\u001b[0m     \u001b[0mplt\u001b[0m\u001b[1;33m.\u001b[0m\u001b[0mshow\u001b[0m\u001b[1;33m(\u001b[0m\u001b[1;33m)\u001b[0m\u001b[1;33m\u001b[0m\u001b[0m\n",
      "\u001b[1;32m/home/gaba/anaconda3/lib/python3.5/site-packages/seaborn/axisgrid.py\u001b[0m in \u001b[0;36mmap\u001b[1;34m(self, func, *args, **kwargs)\u001b[0m\n\u001b[0;32m    724\u001b[0m \u001b[1;33m\u001b[0m\u001b[0m\n\u001b[0;32m    725\u001b[0m             \u001b[1;31m# Draw the plot\u001b[0m\u001b[1;33m\u001b[0m\u001b[1;33m\u001b[0m\u001b[0m\n\u001b[1;32m--> 726\u001b[1;33m             \u001b[0mself\u001b[0m\u001b[1;33m.\u001b[0m\u001b[0m_facet_plot\u001b[0m\u001b[1;33m(\u001b[0m\u001b[0mfunc\u001b[0m\u001b[1;33m,\u001b[0m \u001b[0max\u001b[0m\u001b[1;33m,\u001b[0m \u001b[0mplot_args\u001b[0m\u001b[1;33m,\u001b[0m \u001b[0mkwargs\u001b[0m\u001b[1;33m)\u001b[0m\u001b[1;33m\u001b[0m\u001b[0m\n\u001b[0m\u001b[0;32m    727\u001b[0m \u001b[1;33m\u001b[0m\u001b[0m\n\u001b[0;32m    728\u001b[0m         \u001b[1;31m# Finalize the annotations and layout\u001b[0m\u001b[1;33m\u001b[0m\u001b[1;33m\u001b[0m\u001b[0m\n",
      "\u001b[1;32m/home/gaba/anaconda3/lib/python3.5/site-packages/seaborn/axisgrid.py\u001b[0m in \u001b[0;36m_facet_plot\u001b[1;34m(self, func, ax, plot_args, plot_kwargs)\u001b[0m\n\u001b[0;32m    808\u001b[0m \u001b[1;33m\u001b[0m\u001b[0m\n\u001b[0;32m    809\u001b[0m         \u001b[1;31m# Draw the plot\u001b[0m\u001b[1;33m\u001b[0m\u001b[1;33m\u001b[0m\u001b[0m\n\u001b[1;32m--> 810\u001b[1;33m         \u001b[0mfunc\u001b[0m\u001b[1;33m(\u001b[0m\u001b[1;33m*\u001b[0m\u001b[0mplot_args\u001b[0m\u001b[1;33m,\u001b[0m \u001b[1;33m**\u001b[0m\u001b[0mplot_kwargs\u001b[0m\u001b[1;33m)\u001b[0m\u001b[1;33m\u001b[0m\u001b[0m\n\u001b[0m\u001b[0;32m    811\u001b[0m \u001b[1;33m\u001b[0m\u001b[0m\n\u001b[0;32m    812\u001b[0m         \u001b[1;31m# Sort out the supporting information\u001b[0m\u001b[1;33m\u001b[0m\u001b[1;33m\u001b[0m\u001b[0m\n",
      "\u001b[1;32m/home/gaba/anaconda3/lib/python3.5/site-packages/matplotlib/pyplot.py\u001b[0m in \u001b[0;36mhist\u001b[1;34m(x, bins, range, normed, weights, cumulative, bottom, histtype, align, orientation, rwidth, log, color, label, stacked, hold, data, **kwargs)\u001b[0m\n\u001b[0;32m   2956\u001b[0m                       \u001b[0mhisttype\u001b[0m\u001b[1;33m=\u001b[0m\u001b[0mhisttype\u001b[0m\u001b[1;33m,\u001b[0m \u001b[0malign\u001b[0m\u001b[1;33m=\u001b[0m\u001b[0malign\u001b[0m\u001b[1;33m,\u001b[0m \u001b[0morientation\u001b[0m\u001b[1;33m=\u001b[0m\u001b[0morientation\u001b[0m\u001b[1;33m,\u001b[0m\u001b[1;33m\u001b[0m\u001b[0m\n\u001b[0;32m   2957\u001b[0m                       \u001b[0mrwidth\u001b[0m\u001b[1;33m=\u001b[0m\u001b[0mrwidth\u001b[0m\u001b[1;33m,\u001b[0m \u001b[0mlog\u001b[0m\u001b[1;33m=\u001b[0m\u001b[0mlog\u001b[0m\u001b[1;33m,\u001b[0m \u001b[0mcolor\u001b[0m\u001b[1;33m=\u001b[0m\u001b[0mcolor\u001b[0m\u001b[1;33m,\u001b[0m \u001b[0mlabel\u001b[0m\u001b[1;33m=\u001b[0m\u001b[0mlabel\u001b[0m\u001b[1;33m,\u001b[0m\u001b[1;33m\u001b[0m\u001b[0m\n\u001b[1;32m-> 2958\u001b[1;33m                       stacked=stacked, data=data, **kwargs)\n\u001b[0m\u001b[0;32m   2959\u001b[0m     \u001b[1;32mfinally\u001b[0m\u001b[1;33m:\u001b[0m\u001b[1;33m\u001b[0m\u001b[0m\n\u001b[0;32m   2960\u001b[0m         \u001b[0max\u001b[0m\u001b[1;33m.\u001b[0m\u001b[0mhold\u001b[0m\u001b[1;33m(\u001b[0m\u001b[0mwashold\u001b[0m\u001b[1;33m)\u001b[0m\u001b[1;33m\u001b[0m\u001b[0m\n",
      "\u001b[1;32m/home/gaba/anaconda3/lib/python3.5/site-packages/matplotlib/__init__.py\u001b[0m in \u001b[0;36minner\u001b[1;34m(ax, *args, **kwargs)\u001b[0m\n\u001b[0;32m   1809\u001b[0m                     warnings.warn(msg % (label_namer, func.__name__),\n\u001b[0;32m   1810\u001b[0m                                   RuntimeWarning, stacklevel=2)\n\u001b[1;32m-> 1811\u001b[1;33m             \u001b[1;32mreturn\u001b[0m \u001b[0mfunc\u001b[0m\u001b[1;33m(\u001b[0m\u001b[0max\u001b[0m\u001b[1;33m,\u001b[0m \u001b[1;33m*\u001b[0m\u001b[0margs\u001b[0m\u001b[1;33m,\u001b[0m \u001b[1;33m**\u001b[0m\u001b[0mkwargs\u001b[0m\u001b[1;33m)\u001b[0m\u001b[1;33m\u001b[0m\u001b[0m\n\u001b[0m\u001b[0;32m   1812\u001b[0m         \u001b[0mpre_doc\u001b[0m \u001b[1;33m=\u001b[0m \u001b[0minner\u001b[0m\u001b[1;33m.\u001b[0m\u001b[0m__doc__\u001b[0m\u001b[1;33m\u001b[0m\u001b[0m\n\u001b[0;32m   1813\u001b[0m         \u001b[1;32mif\u001b[0m \u001b[0mpre_doc\u001b[0m \u001b[1;32mis\u001b[0m \u001b[1;32mNone\u001b[0m\u001b[1;33m:\u001b[0m\u001b[1;33m\u001b[0m\u001b[0m\n",
      "\u001b[1;32m/home/gaba/anaconda3/lib/python3.5/site-packages/matplotlib/axes/_axes.py\u001b[0m in \u001b[0;36mhist\u001b[1;34m(self, x, bins, range, normed, weights, cumulative, bottom, histtype, align, orientation, rwidth, log, color, label, stacked, **kwargs)\u001b[0m\n\u001b[0;32m   5993\u001b[0m             \u001b[1;31m# this will automatically overwrite bins,\u001b[0m\u001b[1;33m\u001b[0m\u001b[1;33m\u001b[0m\u001b[0m\n\u001b[0;32m   5994\u001b[0m             \u001b[1;31m# so that each histogram uses the same bins\u001b[0m\u001b[1;33m\u001b[0m\u001b[1;33m\u001b[0m\u001b[0m\n\u001b[1;32m-> 5995\u001b[1;33m             \u001b[0mm\u001b[0m\u001b[1;33m,\u001b[0m \u001b[0mbins\u001b[0m \u001b[1;33m=\u001b[0m \u001b[0mnp\u001b[0m\u001b[1;33m.\u001b[0m\u001b[0mhistogram\u001b[0m\u001b[1;33m(\u001b[0m\u001b[0mx\u001b[0m\u001b[1;33m[\u001b[0m\u001b[0mi\u001b[0m\u001b[1;33m]\u001b[0m\u001b[1;33m,\u001b[0m \u001b[0mbins\u001b[0m\u001b[1;33m,\u001b[0m \u001b[0mweights\u001b[0m\u001b[1;33m=\u001b[0m\u001b[0mw\u001b[0m\u001b[1;33m[\u001b[0m\u001b[0mi\u001b[0m\u001b[1;33m]\u001b[0m\u001b[1;33m,\u001b[0m \u001b[1;33m**\u001b[0m\u001b[0mhist_kwargs\u001b[0m\u001b[1;33m)\u001b[0m\u001b[1;33m\u001b[0m\u001b[0m\n\u001b[0m\u001b[0;32m   5996\u001b[0m             \u001b[0mm\u001b[0m \u001b[1;33m=\u001b[0m \u001b[0mm\u001b[0m\u001b[1;33m.\u001b[0m\u001b[0mastype\u001b[0m\u001b[1;33m(\u001b[0m\u001b[0mfloat\u001b[0m\u001b[1;33m)\u001b[0m  \u001b[1;31m# causes problems later if it's an int\u001b[0m\u001b[1;33m\u001b[0m\u001b[0m\n\u001b[0;32m   5997\u001b[0m             \u001b[1;32mif\u001b[0m \u001b[0mmlast\u001b[0m \u001b[1;32mis\u001b[0m \u001b[1;32mNone\u001b[0m\u001b[1;33m:\u001b[0m\u001b[1;33m\u001b[0m\u001b[0m\n",
      "\u001b[1;32m/home/gaba/anaconda3/lib/python3.5/site-packages/numpy/lib/function_base.py\u001b[0m in \u001b[0;36mhistogram\u001b[1;34m(a, bins, range, normed, weights, density)\u001b[0m\n\u001b[0;32m    255\u001b[0m         \u001b[1;32mif\u001b[0m \u001b[1;33m(\u001b[0m\u001b[0mnp\u001b[0m\u001b[1;33m.\u001b[0m\u001b[0mdiff\u001b[0m\u001b[1;33m(\u001b[0m\u001b[0mbins\u001b[0m\u001b[1;33m)\u001b[0m \u001b[1;33m<\u001b[0m \u001b[1;36m0\u001b[0m\u001b[1;33m)\u001b[0m\u001b[1;33m.\u001b[0m\u001b[0many\u001b[0m\u001b[1;33m(\u001b[0m\u001b[1;33m)\u001b[0m\u001b[1;33m:\u001b[0m\u001b[1;33m\u001b[0m\u001b[0m\n\u001b[0;32m    256\u001b[0m             raise AttributeError(\n\u001b[1;32m--> 257\u001b[1;33m                 'bins must increase monotonically.')\n\u001b[0m\u001b[0;32m    258\u001b[0m \u001b[1;33m\u001b[0m\u001b[0m\n\u001b[0;32m    259\u001b[0m         \u001b[1;31m# Initialize empty histogram\u001b[0m\u001b[1;33m\u001b[0m\u001b[1;33m\u001b[0m\u001b[0m\n",
      "\u001b[1;31mAttributeError\u001b[0m: bins must increase monotonically."
     ]
    }
   ],
   "source": [
    "number_of_purchased_items_grouped_by_categories_in_all_countries()\n",
    "#number_of_items_purchased_in_particular_country_grouped_by_category('United States')\n",
    "#number_of_items_from_particular_category_purchased_in_all_countries()"
   ]
  },
  {
   "cell_type": "code",
   "execution_count": null,
   "metadata": {
    "collapsed": true
   },
   "outputs": [],
   "source": [
    " #grouped = joined.groupby('category')['quantity'].sum()\n",
    "#summ = joined.groupby('category')['quantity'].sum()\n",
    "#sns.set(style=\"darkgrid\")\n",
    "#g = sns.FacetGrid(joined, row='category', col='registerCountry', margin_titles=True)#, col=\"registerCountry\"\n",
    "#bins = np.linspace(0, 60, 13)\n",
    "#g.map(plt.hist, 'quantity', color=\"steelblue\", bins=bins, lw=0)\n",
    "\n",
    "\n",
    "\n",
    "#joined_items_conv = pd.merge(items, conv, left_on='itemId', right_on='itemId', how='inner')\n",
    "#joined = pd.merge(joined_items_conv, users, left_on='userId', right_on='userId', how='inner')\n",
    "#joined['sum'] = joined.groupby('category', 'quantity')\n",
    "#joined = joined.groupby('registerCountry')#['grouped_by_country'] = \n",
    "#joined = joined.groupby('category')#['quantity'].sum()#['grouped_by_categoried']\n",
    "#print(type(grouped_by_country))\n",
    "#print(type(grouped_by_categoried))\n",
    "#sns.jointplot(x='sum', y='category', data=joined, kind=\"hex\", color=\"#4CB391\", ratio=13)\n",
    "\n",
    "#kind='hist'))#(color='DarkGreen', legend=None)#kind='pie', 'subplots=True')#)#kind='scatter', \n",
    "#for x in count_of_items:\n",
    "#    print(x)\n",
    "#print(type(count_of_items))\n",
    "#print(count_of_items.axes)\n",
    "#print(\"++++++++++++++++++++++\")\n",
    "#print(count_of_items['sum'])\n",
    "#x = np.random.rand(10)\n",
    "#y = np.random.rand(count_of_items['itemId'])\n",
    "#conversions_per_user = conv.groupby(['userId'])['timestamp', 'quantity']\n",
    "#print(conversions_per_user_in_the_first_week)\n",
    "#pd.DatetimeIndex(users['signupTime']).month\n",
    "#users['month'] = pd.DatetimeIndex(users['signupTime']).month\n",
    "#users['year'] = pd.DatetimeIndex(users['signupTime']).year\n",
    "#print(users)\n",
    "\n",
    "#conv['month'] = pd.DatetimeIndex(conv['timestamp']).month\n",
    "#conv['year'] = pd.DatetimeIndex(conv['timestamp']).year\n",
    "\n",
    "#conversions_per_user = pd.concat([users, conv], axis=1, join='inner')\n",
    "\n",
    "\n",
    "#conversions_per_user = pd.concat([users, conv], axis=1, join='inner')\n",
    "\n",
    "#conversions_per_user = conv[conv.timestamp < users.signupTime]\n",
    "\n",
    "#for x in conversions_per_user:\n",
    "#    print(x)\n",
    "#print(conversions_per_yearmonth)\n",
    "\n",
    "#conv = get_data('fb2015/conversions_part.csv')\n",
    "#users = get_data('fb2015/users_part.csv')\n",
    "#result = pd.concat([users, conv], axis=1, join='inner')\n",
    "\n",
    "#data = get_data('fb2015/users.csv')\n",
    "#data['signupTime'] = pd.to_datetime(data['signupTime'])#month\n",
    "#data['yearmonth'] = data['signupTime'].apply(lambda x: getYearMonth(x))\n",
    "#data.set_index(['signupTime'])\n",
    "#print(data['signupTime'].month)\n",
    "#ts = data.groupby(['yearmonth'].sum()#groupby([lambda x: x.year, lambda x: x.month]).sum()\n",
    "#ts.plot()\n",
    "#plt.show() \n",
    "#print(ts)\n",
    "#dates.groupby()\n",
    "#\n",
    "#print(data['yearmonth'])\n",
    "#ts = data['yearmonth'].cumsum()\n",
    "#ts = data['signupTime'].groupby([lambda x: x.year, lambda x: x.month]).sum()\n",
    "#df = pandas.DataFrame(np.random.randn(100, 4), columns=list('ABCD'))\n",
    "\n",
    "#In [120]: rows = random.sample(df.index, 10)\n",
    "#rindex =  np.array(sample(xrange(len(data)), 10))\n",
    "#rows = random.sample(data.index, 10)\n",
    "\n",
    "#data = data.ix[rows]\n",
    "\n",
    "# get 10 random rows from df\n",
    "#data = data.ix[rindex]"
   ]
  }
 ],
 "metadata": {
  "kernelspec": {
   "display_name": "Python 3",
   "language": "python",
   "name": "python3"
  },
  "language_info": {
   "codemirror_mode": {
    "name": "ipython",
    "version": 3
   },
   "file_extension": ".py",
   "mimetype": "text/x-python",
   "name": "python",
   "nbconvert_exporter": "python",
   "pygments_lexer": "ipython3",
   "version": "3.5.0"
  }
 },
 "nbformat": 4,
 "nbformat_minor": 0
}
