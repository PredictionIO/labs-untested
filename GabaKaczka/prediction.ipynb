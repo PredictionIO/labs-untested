{
 "cells": [
  {
   "cell_type": "code",
   "execution_count": 301,
   "metadata": {
    "collapsed": false
   },
   "outputs": [],
   "source": [
    "import csv\n",
    "import pandas as pd\n",
    "import numpy as np\n",
    "import matplotlib.pyplot as plt\n",
    "import random\n",
    "import seaborn as sns\n",
    "from scipy.stats import kendalltau\n",
    "from matplotlib.ticker import FuncFormatter, MultipleLocator\n",
    "import matplotlib.cm as cm\n",
    "from matplotlib.widgets import Slider"
   ]
  },
  {
   "cell_type": "code",
   "execution_count": 302,
   "metadata": {
    "collapsed": false
   },
   "outputs": [],
   "source": [
    "def get_data(location):\n",
    "    data = pd.read_csv(location, header=None)\n",
    "    data = data.sample(frac=0.03)\n",
    "   \n",
    "    if location.endswith('users.csv'):\n",
    "        data.columns = ['userId', 'registerCountry', 'signupTime']\n",
    "    elif location.endswith('conversions.csv'):\n",
    "        data.columns = ['userId', 'itemId', 'price', 'quantity', 'timestamp']\n",
    "    elif location.endswith('items.csv'):\n",
    "        data.columns = ['itemId', 'style', 'personality', 'color', 'theme', 'price', 'category']\n",
    "    elif location.endswith('users_ads.csv'):\n",
    "        data.columns = ['userId', 'utmSource', 'utmCampaign']\n",
    "    return data\n"
   ]
  },
  {
   "cell_type": "markdown",
   "metadata": {},
   "source": [
    "Obtains data from files."
   ]
  },
  {
   "cell_type": "code",
   "execution_count": 303,
   "metadata": {
    "collapsed": true
   },
   "outputs": [],
   "source": [
    "def getYearMonth(s):\n",
    "    return s.split(\"-\")[1]+\"-\"+s.split(\"-\")[2].split(\" \")[0]"
   ]
  },
  {
   "cell_type": "markdown",
   "metadata": {},
   "source": [
    "Util function: extracts months from dates."
   ]
  },
  {
   "cell_type": "code",
   "execution_count": 304,
   "metadata": {
    "collapsed": false
   },
   "outputs": [],
   "source": [
    " def number_of_new_users_per_month():\n",
    "    users = get_data('../../fb2015/users.csv')\n",
    "    \n",
    "    users = users.dropna(subset=['signupTime'])\n",
    "    users = users[~users.signupTime.isin(['None'])]\n",
    "    \n",
    "    users['month'] = pd.DatetimeIndex(users['signupTime']).month\n",
    "    users['year'] = pd.DatetimeIndex(users['signupTime']).year\n",
    "    \n",
    "    grouped = users.groupby(['year', 'month'])['userId'].count()\n",
    "    sortedd = grouped.sort_index()\n",
    "    \n",
    "    ax = sortedd.plot(kind='bar')\n",
    "    \n",
    "    ax.set_xlabel('Month')\n",
    "    ax.set_ylabel('Number of new users')\n",
    "    ax.set_title(\"Number of new users per month.\", fontsize=18)\n",
    "    \n",
    "    plt.xticks(rotation=70)\n",
    "    plt.tight_layout()\n",
    "    plt.show()"
   ]
  },
  {
   "cell_type": "markdown",
   "metadata": {},
   "source": [
    "Displays number of newly registered users per month."
   ]
  },
  {
   "cell_type": "code",
   "execution_count": 305,
   "metadata": {
    "collapsed": false
   },
   "outputs": [],
   "source": [
    "def number_of_conversions_per_month():\n",
    "    conv = get_data('../../fb2015/conversions.csv')\n",
    "    \n",
    "    conv = conv.dropna(subset=['timestamp'])\n",
    "    conv = conv[~conv.timestamp.isin(['None'])]\n",
    "    \n",
    "    conv['month'] = pd.DatetimeIndex(conv['timestamp']).month\n",
    "    conv['year'] = pd.DatetimeIndex(conv['timestamp']).year\n",
    "    \n",
    "    grouped = conv.groupby(['year', 'month']).count()\n",
    "    sortedd = grouped.sort_index()\n",
    "    \n",
    "    ax = sortedd.plot(legend=None)\n",
    "    ax.set_xlabel('Month')\n",
    "    ax.set_ylabel('Number of conversions')\n",
    "    ax.set_title(\"Number of conversions per month.\", fontsize=18)\n",
    "    \n",
    "    plt.xticks(rotation=70)\n",
    "    plt.tight_layout()\n",
    "    \n",
    "    plt.show()"
   ]
  },
  {
   "cell_type": "markdown",
   "metadata": {},
   "source": [
    "Displays number of conversions per month."
   ]
  },
  {
   "cell_type": "code",
   "execution_count": 306,
   "metadata": {
    "collapsed": true
   },
   "outputs": [],
   "source": [
    "def number_of_items_purchased_per_month():\n",
    "    conv = get_data('../../fb2015/conversions.csv')\n",
    "    \n",
    "    conv = conv.dropna(subset=['timestamp', 'quantity'])\n",
    "    conv = conv[~conv.timestamp.isin(['None'])]\n",
    "    conv = conv[~conv.quantity.isin(['None'])]\n",
    "    \n",
    "    conv['month'] = pd.DatetimeIndex(conv['timestamp']).month\n",
    "    conv['year'] = pd.DatetimeIndex(conv['timestamp']).year\n",
    "    \n",
    "    grouped = conv.groupby(['year', 'month'])['quantity'].count()\n",
    "    sortedd = grouped.sort_index()\n",
    "    \n",
    "    ax = sortedd.plot(kind='bar')\n",
    "    ax.set_xlabel('Month')\n",
    "    ax.set_ylabel('Number of items')\n",
    "    ax.set_title(\"Number of items purchased per month.\", fontsize=18)\n",
    "    \n",
    "    plt.xticks(rotation=70)\n",
    "    plt.tight_layout()\n",
    "    \n",
    "    plt.show()"
   ]
  },
  {
   "cell_type": "markdown",
   "metadata": {},
   "source": [
    "Displays number of items purchased per month."
   ]
  },
  {
   "cell_type": "code",
   "execution_count": 307,
   "metadata": {
    "collapsed": true
   },
   "outputs": [],
   "source": [
    "def income_per_month():\n",
    "    conv = get_data('../../fb2015/conversions.csv')\n",
    "    \n",
    "    conv = conv.dropna(subset=['timestamp', 'price'])\n",
    "    conv = conv[~conv.timestamp.isin(['None'])]\n",
    "    conv = conv[~conv.price.isin(['None'])]\n",
    "    \n",
    "    conv['month'] = pd.DatetimeIndex(conv['timestamp']).month\n",
    "    conv['year'] = pd.DatetimeIndex(conv['timestamp']).year\n",
    "    grouped = conv.groupby(['year', 'month'])['price'].sum()\n",
    "    sortedd = grouped.sort_index()\n",
    "    \n",
    "    ax = sortedd.plot() \n",
    "    ax.set_xlabel('Month')\n",
    "    ax.set_ylabel('Income')\n",
    "    ax.set_title(\"Income per month.\", fontsize=18)\n",
    "    \n",
    "    plt.xticks(rotation=70)\n",
    "    plt.tight_layout()\n",
    "    \n",
    "    plt.show()"
   ]
  },
  {
   "cell_type": "markdown",
   "metadata": {},
   "source": [
    "Displays income per month."
   ]
  },
  {
   "cell_type": "code",
   "execution_count": 308,
   "metadata": {
    "collapsed": false
   },
   "outputs": [],
   "source": [
    "def number_of_purchases_per_user_in_the_first_week_after_signing_in():\n",
    "    users = get_data('../../fb2015/users.csv')\n",
    "    users['week_after'] = pd.DatetimeIndex(users['signupTime'])+pd.Timedelta(days=7)\n",
    "    \n",
    "    conv = get_data('../../fb2015/conversions.csv')\n",
    "    conv['timestamp'] = pd.DatetimeIndex(conv['timestamp'])\n",
    "    \n",
    "    joined = pd.merge(users, conv, left_on='userId', right_on='userId', how='inner')\n",
    "    \n",
    "    joined = joined.dropna(subset=['timestamp', 'userId', 'quantity'])\n",
    "    joined = joined[~joined.timestamp.isin(['None'])]\n",
    "    joined = joined[~joined.userId.isin(['None'])]\n",
    "    joined = joined[~joined.quantity.isin(['None'])]\n",
    "    \n",
    "    grouped = joined[joined['timestamp'] <= joined['week_after']].groupby('userId')['quantity'].sum()\n",
    "    \n",
    "    ax = grouped.plot(kind='bar')\n",
    "    ax.set_xlabel('Category')\n",
    "    ax.set_ylabel('Quantity')\n",
    "    ax.set_title(\"Number of items purchased in the first week after signing in, grouped by userId.\", fontsize=18)\n",
    "    \n",
    "    plt.xticks(rotation=70)\n",
    "    plt.tight_layout()\n",
    "    \n",
    "    plt.show()"
   ]
  },
  {
   "cell_type": "markdown",
   "metadata": {},
   "source": [
    "Displays number of items purchased during the first week after signing in."
   ]
  },
  {
   "cell_type": "code",
   "execution_count": 309,
   "metadata": {
    "collapsed": false
   },
   "outputs": [],
   "source": [
    "def number_of_items_purchased_from_particular_category_grouped_by_country(category):\n",
    "    conv = get_data('../../fb2015/conversions.csv')\n",
    "    items = get_data('../../fb2015/items.csv')\n",
    "    users = get_data('../../fb2015/users.csv')\n",
    "    \n",
    "    joined_items_conv = pd.merge(items, conv, left_on='itemId', right_on='itemId', how='inner')\n",
    "    joined = pd.merge(joined_items_conv, users, left_on='userId', right_on='userId', how='inner')\n",
    "    \n",
    "    joined = joined.dropna(subset=['category', 'quantity', 'registerCountry'])\n",
    "    joined = joined[~joined.registerCountry.isin(['None'])]\n",
    "    joined = joined[~joined.category.isin(['None'])]\n",
    "    joined = joined[~joined.quantity.isin(['None'])]\n",
    "    \n",
    "    \n",
    "    filtered = joined[joined['category']==category]\n",
    "    grouped = filtered.groupby('registerCountry')['quantity'].sum()\n",
    "    \n",
    "    ax = grouped.plot(kind='bar')\n",
    "    ax.set_xlabel('Category')\n",
    "    ax.set_ylabel('Quantity')\n",
    "    ax.set_title(\"Number of items from \"+str(category)+\" category, grouped by country.\", fontsize=18)\n",
    "    \n",
    "    plt.xticks(rotation=70)\n",
    "    plt.tight_layout()\n",
    "    plt.show()"
   ]
  },
  {
   "cell_type": "markdown",
   "metadata": {},
   "source": [
    "Displays number of items from particular category purchased by people from all countries."
   ]
  },
  {
   "cell_type": "code",
   "execution_count": 310,
   "metadata": {
    "collapsed": false
   },
   "outputs": [],
   "source": [
    "def number_of_items_purchased_in_particular_country_grouped_by_category(country):\n",
    "    conv = get_data('../../fb2015/conversions.csv')\n",
    "    items = get_data('../../fb2015/items.csv')\n",
    "    users = get_data('../../fb2015/users.csv')\n",
    "    \n",
    "    joined_items_conv = pd.merge(items, conv, left_on='itemId', right_on='itemId', how='inner')\n",
    "    joined = pd.merge(joined_items_conv, users, left_on='userId', right_on='userId', how='inner')\n",
    "    \n",
    "    joined = joined.dropna(subset=['category', 'quantity', 'registerCountry'])\n",
    "    joined = joined[~joined.registerCountry.isin(['None'])]\n",
    "    joined = joined[~joined.category.isin(['None'])]\n",
    "    joined = joined[~joined.quantity.isin(['None'])]\n",
    "    \n",
    "    filtered = joined[joined['registerCountry']==country]\n",
    "    grouped = filtered.groupby('category')['quantity'].sum()\n",
    "    \n",
    "    ax = grouped.plot(kind='bar')\n",
    "    ax.set_xlabel('Category')\n",
    "    ax.set_ylabel('Quantity')\n",
    "    ax.set_title(\"Number of items purchased in \" + country + \", grouped by category.\", fontsize=18)\n",
    "    \n",
    "    plt.xticks(rotation=70)\n",
    "    plt.tight_layout()\n",
    "    plt.show()"
   ]
  },
  {
   "cell_type": "markdown",
   "metadata": {},
   "source": [
    "Displays number of items from all cattegories purchased in particular country."
   ]
  },
  {
   "cell_type": "code",
   "execution_count": 311,
   "metadata": {
    "collapsed": false
   },
   "outputs": [],
   "source": [
    "def number_of_purchased_items_grouped_by_categories_in_all_countries():\n",
    "    conv = get_data('../../fb2015/conversions.csv')\n",
    "    items = get_data('../../fb2015/items.csv')\n",
    "    users = get_data('../../fb2015/users.csv')\n",
    "    \n",
    "    joined_items_conv = pd.merge(items, conv, left_on='itemId', right_on='itemId', how='inner')\n",
    "    joined = pd.merge(joined_items_conv, users, left_on='userId', right_on='userId', how='inner')\n",
    " \n",
    "    joined = joined.dropna(subset=['category', 'quantity', 'registerCountry'])\n",
    "    joined = joined[~joined.registerCountry.isin(['None'])]\n",
    "    joined = joined[~joined.category.isin(['None'])]\n",
    "    joined = joined[~joined.quantity.isin(['None'])]\n",
    "\n",
    "    y_labels = []\n",
    "    x_labels = []\n",
    "    y_ticks = []\n",
    "    x_ticks = []\n",
    "    x = []\n",
    "    y = []\n",
    "\n",
    "    for i, row in enumerate(joined['registerCountry'].unique()):\n",
    "        y_labels.append(row)\n",
    "        y_ticks.append(i)\n",
    "        y.append(i)\n",
    "\n",
    "    for i, row in enumerate(joined['category'].unique()):\n",
    "        x_labels.append(row)\n",
    "        x_ticks.append(i)\n",
    "        x.append(i)\n",
    "    \n",
    "    fig = plt.figure()\n",
    "    ax = fig.add_subplot(1, 1, 1)\n",
    "    \n",
    "    for j, country in enumerate(y_labels):\n",
    "        r = np.random.rand(1)\n",
    "        color = cm.rainbow(np.linspace(r, r+1, 1))       \n",
    "        for i, category in enumerate(x_labels):\n",
    "            countryFiltered = joined[joined['registerCountry']==country]\n",
    "            filtered = countryFiltered[countryFiltered['category']==category]\n",
    "            area=filtered['quantity'].sum()*20\n",
    "            ax.scatter(x=i, y=j, s=area, c=color, alpha=0.7)  \n",
    "    \n",
    "    ax.set(xticks=range(len(x_labels)), xticklabels=x_labels,\n",
    "       yticks=range(len(y_labels)), yticklabels=y_labels)\n",
    "    \n",
    "    ax.set_xlabel('Category')\n",
    "    ax.set_ylabel('Country')\n",
    "    ax.set_title('Sum of purchased items, grouped by country and category.', fontsize=18)\n",
    "\n",
    "    plt.tick_params(axis='x', labelsize=8)\n",
    "    plt.xticks(rotation=70)\n",
    "    plt.tight_layout()\n",
    "    \n",
    "    plt.show()"
   ]
  },
  {
   "cell_type": "markdown",
   "metadata": {},
   "source": [
    "Displays general view on sum of purchased items grouped by country and category."
   ]
  },
  {
   "cell_type": "code",
   "execution_count": 312,
   "metadata": {
    "collapsed": false,
    "scrolled": false
   },
   "outputs": [],
   "source": [
    "#number_of_new_users_per_month()\n",
    "#number_of_conversions_per_month()\n",
    "#number_of_items_purchased_per_month()\n",
    "#income_per_month()\n",
    "#number_of_purchases_per_user_in_the_first_week_after_signing_in()\n",
    "#number_of_items_purchased_from_particular_category_grouped_by_country('category_arg')\n",
    "#number_of_items_purchased_in_particular_country_grouped_by_category('country_arg')\n",
    "#number_of_purchased_items_grouped_by_categories_in_all_countries()"
   ]
  }
 ],
 "metadata": {
  "kernelspec": {
   "display_name": "Python 3",
   "language": "python",
   "name": "python3"
  }
 },
 "nbformat": 4,
 "nbformat_minor": 0
}
