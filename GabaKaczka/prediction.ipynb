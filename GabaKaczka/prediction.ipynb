{
 "cells": [
  {
   "cell_type": "code",
   "execution_count": 92,
   "metadata": {
    "collapsed": false
   },
   "outputs": [],
   "source": [
    "import math\n",
    "import statistics\n",
    "import numpy\n",
    "import csv\n",
    "from scipy.stats import poisson\n",
    "import pandas as pd\n",
    "import numpy as np\n",
    "import matplotlib.pyplot as plt\n",
    "import random\n",
    "import seaborn as sns\n",
    "from scipy.stats import kendalltau\n",
    "from matplotlib.ticker import FuncFormatter, MultipleLocator\n",
    "import matplotlib.cm as cm\n",
    "from matplotlib.widgets import Slider\n",
    "import matplotlib.ticker as ticker\n",
    "import plotly.plotly as py\n",
    "import cufflinks as cf\n",
    "import plotly.graph_objs as go\n",
    "py.sign_in('PythonAPI', 'ubpiol2cve')"
   ]
  },
  {
   "cell_type": "code",
   "execution_count": 99,
   "metadata": {
    "collapsed": false
   },
   "outputs": [],
   "source": [
    "global_users = pd.read_csv('../../fb2015/users.csv', header=None).sample(frac=0.01)\n",
    "global_users.columns = ['userId', 'registerCountry', 'signupTime']\n",
    "global_conv = pd.read_csv('../../fb2015/conversions.csv', header=None).sample(frac=0.01)\n",
    "global_conv.columns = ['userId', 'itemId', 'price', 'quantity', 'timestamp']\n",
    "global_items = pd.read_csv('../../fb2015/items.csv', header=None).sample(frac=0.01)\n",
    "global_items.columns = ['itemId', 'style', 'personality', 'color', 'theme', 'price', 'category']\n",
    "global_users_ads = pd.read_csv('../../fb2015/users_ads.csv', header=None).sample(frac=0.01)\n",
    "global_users_ads.columns = ['userId', 'utmSource', 'utmCampaign', 'utmMedium', 'utmTerm', 'utmContent']"
   ]
  },
  {
   "cell_type": "markdown",
   "metadata": {},
   "source": [
    "Obtains data from files."
   ]
  },
  {
   "cell_type": "code",
   "execution_count": 29,
   "metadata": {
    "collapsed": true
   },
   "outputs": [],
   "source": [
    "def drop_nulls(table, columns):\n",
    "    table = table.dropna(subset=columns)\n",
    "    for col in columns:\n",
    "        table = table[~table[col].isin(['None'])]\n",
    "    return table"
   ]
  },
  {
   "cell_type": "markdown",
   "metadata": {},
   "source": [
    "Drops NaN, None values from given data."
   ]
  },
  {
   "cell_type": "code",
   "execution_count": null,
   "metadata": {
    "collapsed": false
   },
   "outputs": [],
   "source": [
    "def number_of_new_users_per_month():\n",
    "    users = drop_nulls(global_users, ['signupTime', 'userId'])\n",
    "\n",
    "    users['month'] = pd.DatetimeIndex(users['signupTime']).month\n",
    "    users['year'] = pd.DatetimeIndex(users['signupTime']).year\n",
    "\n",
    "    grouped = users.groupby(['year', 'month'])['userId'].count()\n",
    "    sortedd = grouped.sort_index()\n",
    "\n",
    "    ax = sortedd.plot(kind='bar')\n",
    "\n",
    "    ax.set_xlabel('Month')\n",
    "    ax.set_ylabel('Number of new users')\n",
    "    ax.set_title(\"Number of new users per month.\", fontsize=18)\n",
    "\n",
    "    plt.xticks(rotation=70)\n",
    "    plt.tight_layout()\n",
    "    plt.show()"
   ]
  },
  {
   "cell_type": "markdown",
   "metadata": {},
   "source": [
    "Displays number of newly registered users per month."
   ]
  },
  {
   "cell_type": "code",
   "execution_count": null,
   "metadata": {
    "collapsed": false
   },
   "outputs": [],
   "source": [
    "def number_of_conversions_per_month():\n",
    "    conv = drop_nulls(global_conv, ['timestamp'])\n",
    "\n",
    "    conv['month'] = pd.DatetimeIndex(conv['timestamp']).month\n",
    "    conv['year'] = pd.DatetimeIndex(conv['timestamp']).year\n",
    "\n",
    "    grouped = conv.groupby(['year', 'month']).count()\n",
    "    sortedd = grouped.sort_index()\n",
    "\n",
    "    ax = sortedd.plot(legend=None)\n",
    "    ax.set_xlabel('Month')\n",
    "    ax.set_ylabel('Number of conversions')\n",
    "    ax.set_title(\"Number of conversions per month.\", fontsize=18)\n",
    "\n",
    "    plt.xticks(rotation=70)\n",
    "    plt.tight_layout()\n",
    "\n",
    "    plt.show()"
   ]
  },
  {
   "cell_type": "markdown",
   "metadata": {},
   "source": [
    "Displays number of conversions per month."
   ]
  },
  {
   "cell_type": "code",
   "execution_count": null,
   "metadata": {
    "collapsed": true
   },
   "outputs": [],
   "source": [
    "def number_of_items_purchased_per_month():\n",
    "    conv = drop_nulls(global_conv, ['timestamp', 'quantity'])\n",
    "\n",
    "    conv['month'] = pd.DatetimeIndex(conv['timestamp']).month\n",
    "    conv['year'] = pd.DatetimeIndex(conv['timestamp']).year\n",
    "\n",
    "    grouped = conv.groupby(['year', 'month'])['quantity'].sum()\n",
    "    sortedd = grouped.sort_index()\n",
    "\n",
    "    ax = sortedd.plot(kind='bar')\n",
    "    ax.set_xlabel('Month')\n",
    "    ax.set_ylabel('Number of items')\n",
    "    ax.set_title(\"Number of items purchased per month.\", fontsize=18)\n",
    "\n",
    "    plt.xticks(rotation=70)\n",
    "    plt.tight_layout()\n",
    "\n",
    "    plt.show()"
   ]
  },
  {
   "cell_type": "markdown",
   "metadata": {},
   "source": [
    "Displays number of items purchased per month."
   ]
  },
  {
   "cell_type": "code",
   "execution_count": null,
   "metadata": {
    "collapsed": false
   },
   "outputs": [],
   "source": [
    "def revenue_per_month():\n",
    "    conv = drop_nulls(global_conv, ['timestamp', 'price'])\n",
    "\n",
    "    conv['month'] = pd.DatetimeIndex(conv['timestamp']).month\n",
    "    conv['year'] = pd.DatetimeIndex(conv['timestamp']).year\n",
    "    grouped = conv.groupby(['year', 'month'])['price'].sum()\n",
    "    sortedd = grouped.sort_index()\n",
    "\n",
    "    ax = sortedd.plot() \n",
    "    ax.set_xlabel('Month')\n",
    "    ax.set_ylabel('Revenue')\n",
    "    ax.set_title(\"Revenue per month.\", fontsize=18)\n",
    "\n",
    "    plt.xticks(rotation=70)\n",
    "    plt.tight_layout()\n",
    "\n",
    "    plt.show()"
   ]
  },
  {
   "cell_type": "markdown",
   "metadata": {},
   "source": [
    "Displays income per month."
   ]
  },
  {
   "cell_type": "code",
   "execution_count": null,
   "metadata": {
    "collapsed": false
   },
   "outputs": [],
   "source": [
    "def number_of_purchases_per_user_in_the_first_week_after_registration():\n",
    "    #does not include users without purchase in the first week after registration\n",
    "    users = drop_nulls(global_users, ['userId', 'signupTime'])\n",
    "    conv = drop_nulls(global_conv, ['userId', 'quantity', 'timestamp'])\n",
    "\n",
    "    users['signupTime'] =  pd.DatetimeIndex(users['signupTime'])\n",
    "    users['week_after'] = pd.DatetimeIndex(users['signupTime'])+pd.Timedelta(days=7)\n",
    "    conv['timestamp'] = pd.DatetimeIndex(conv['timestamp'])\n",
    "\n",
    "    joined = pd.merge(users, conv, left_on='userId', right_on='userId', how='inner')\n",
    "    grouped = joined[joined['timestamp'] <= joined['week_after']].groupby('userId')['quantity'].sum()\n",
    "\n",
    "    ax = grouped.plot(kind='bar')\n",
    "    ax.set_xlabel('User id')\n",
    "    ax.set_ylabel('Quantity')\n",
    "    ax.set_title(\"Number of items purchased in the first week after registration, grouped by userId.\", fontsize=18)\n",
    "\n",
    "    plt.xticks(rotation=70)\n",
    "    plt.tight_layout()\n",
    "\n",
    "    plt.show()"
   ]
  },
  {
   "cell_type": "markdown",
   "metadata": {},
   "source": [
    "Displays number of items purchased during the first week after signing in."
   ]
  },
  {
   "cell_type": "code",
   "execution_count": null,
   "metadata": {
    "collapsed": false
   },
   "outputs": [],
   "source": [
    "def number_of_items_purchased_from_particular_category_grouped_by_country(category):\n",
    "    category = 2346301904\n",
    "    conv = drop_nulls(global_conv, ['quantity'])\n",
    "    items = drop_nulls(global_items, ['category'])\n",
    "    users = drop_nulls(global_users, ['registerCountry'])\n",
    "\n",
    "    joined_items_conv = pd.merge(items, conv, left_on='itemId', right_on='itemId', how='inner')\n",
    "    joined = pd.merge(joined_items_conv, users, left_on='userId', right_on='userId', how='inner')\n",
    "\n",
    "    filtered = joined[joined['category']==category]\n",
    "    grouped = filtered.groupby('registerCountry')['quantity'].sum()\n",
    "\n",
    "    ax = grouped.plot(kind='bar')\n",
    "    ax.set_xlabel('Category')\n",
    "    ax.set_ylabel('Quantity')\n",
    "    ax.set_title(\"Number of items from \"+str(category)+\" category, grouped by country.\", fontsize=18)\n",
    "\n",
    "    plt.xticks(rotation=70)\n",
    "    plt.tight_layout()\n",
    "    plt.show()"
   ]
  },
  {
   "cell_type": "markdown",
   "metadata": {},
   "source": [
    "Displays number of items from particular category purchased by people from all countries."
   ]
  },
  {
   "cell_type": "code",
   "execution_count": null,
   "metadata": {
    "collapsed": false
   },
   "outputs": [],
   "source": [
    "def number_of_items_purchased_in_particular_country_grouped_by_category(country):\n",
    "    country = 'United States'\n",
    "    conv = drop_nulls(global_conv, ['quantity'])\n",
    "    items = drop_nulls(global_items, ['category'])\n",
    "    users = drop_nulls(global_users, ['registerCountry'])\n",
    "\n",
    "    joined_items_conv = pd.merge(items, conv, left_on='itemId', right_on='itemId', how='inner')\n",
    "    joined = pd.merge(joined_items_conv, users, left_on='userId', right_on='userId', how='inner')\n",
    "\n",
    "    filtered = joined[joined['registerCountry']==country]\n",
    "    grouped = filtered.groupby('category')['quantity'].sum()\n",
    "\n",
    "    ax = grouped.plot(kind='bar')\n",
    "    ax.set_xlabel('Category')\n",
    "    ax.set_ylabel('Quantity')\n",
    "    ax.set_title(\"Number of items purchased in \" + country + \", grouped by category.\", fontsize=18)\n",
    "\n",
    "    plt.xticks(rotation=70)\n",
    "    plt.tight_layout()\n",
    "    plt.show()"
   ]
  },
  {
   "cell_type": "markdown",
   "metadata": {},
   "source": [
    "Displays number of items from all cattegories purchased in particular country."
   ]
  },
  {
   "cell_type": "code",
   "execution_count": 15,
   "metadata": {
    "collapsed": false
   },
   "outputs": [],
   "source": [
    "def number_of_purchased_items_grouped_by_categories_in_all_countries():\n",
    "    conv = drop_nulls(global_conv, ['quantity'])\n",
    "    items = drop_nulls(global_items, ['category'])\n",
    "    users = drop_nulls(global_users, ['registerCountry'])\n",
    "\n",
    "    joined_items_conv = pd.merge(items, conv, left_on='itemId', right_on='itemId', how='inner')\n",
    "    joined = pd.merge(joined_items_conv, users, left_on='userId', right_on='userId', how='inner')\n",
    "\n",
    "    y_labels = []\n",
    "    x_labels = []\n",
    "    y_ticks = []\n",
    "    x_ticks = []\n",
    "\n",
    "    for i, row in enumerate(joined['registerCountry'].unique()):\n",
    "        y_labels.append(row)\n",
    "        y_ticks.append(i)\n",
    "\n",
    "    for i, row in enumerate(joined['category'].unique()):\n",
    "        x_labels.append(row)\n",
    "        x_ticks.append(i)\n",
    "\n",
    "    fig = plt.figure()\n",
    "    ax = fig.add_subplot(1, 1, 1)\n",
    "\n",
    "    for j, country in enumerate(y_labels):\n",
    "        r = np.random.rand(1)\n",
    "        color = cm.rainbow(np.linspace(r, r+1, 1))       \n",
    "        for i, category in enumerate(x_labels):\n",
    "            countryFiltered = joined[joined['registerCountry']==country]\n",
    "            filtered = countryFiltered[countryFiltered['category']==category]\n",
    "            area=filtered['quantity'].sum()\n",
    "            ax.scatter(x=i, y=j, s=area, c=color, alpha=0.7)  \n",
    "\n",
    "    ax.set(xticks=range(len(x_labels)), xticklabels=x_labels,\n",
    "       yticks=range(len(y_labels)), yticklabels=y_labels)\n",
    "\n",
    "    ax.set_xlabel('Category')\n",
    "    ax.set_ylabel('Country')\n",
    "    ax.set_title('Sum of purchased items, grouped by country and category.', fontsize=18)\n",
    "\n",
    "    plt.tick_params(axis='x')\n",
    "    plt.xticks(rotation=90)\n",
    "    plt.tight_layout()\n",
    "\n",
    "    plt.show()"
   ]
  },
  {
   "cell_type": "markdown",
   "metadata": {},
   "source": [
    "Displays general view on sum of purchased items grouped by country and category."
   ]
  },
  {
   "cell_type": "code",
   "execution_count": 4,
   "metadata": {
    "collapsed": false
   },
   "outputs": [
    {
     "name": "stderr",
     "output_type": "stream",
     "text": [
      "/home/ducki13/anaconda3/lib/python3.5/site-packages/numpy/lib/arraysetops.py:379: FutureWarning: elementwise comparison failed; returning scalar instead, but in the future will perform elementwise comparison\n",
      "  mask |= (ar1 == a)\n",
      "/home/ducki13/anaconda3/lib/python3.5/site-packages/matplotlib/collections.py:590: FutureWarning: elementwise comparison failed; returning scalar instead, but in the future will perform elementwise comparison\n",
      "  if self._edgecolors == str('face'):\n"
     ]
    }
   ],
   "source": [
    "def number_of_purchased_items_after_seeing_campaigns_grouped_by_categories():\n",
    "    conv = drop_nulls(global_conv, ['timestamp'])\n",
    "    users_ads = drop_nulls(global_users_ads, ['utmCampaign'])\n",
    "    users = drop_nulls(global_users, ['signupTime'])\n",
    "    items = drop_nulls(global_items, ['category'])\n",
    "\n",
    "    users['week_after'] = pd.DatetimeIndex(users['signupTime'])+pd.Timedelta(days=7)\n",
    "    conv['timestamp'] = pd.DatetimeIndex(conv['timestamp'])\n",
    "\n",
    "    joined = pd.merge(users, users_ads, left_on='userId', right_on='userId', how='inner')\n",
    "    joined = pd.merge(joined, conv, left_on='userId', right_on='userId', how='inner')\n",
    "    joined = pd.merge(joined, items, left_on='itemId', right_on='itemId', how='inner')\n",
    "\n",
    "    filtered = joined[joined['timestamp'] <= joined['week_after']]\n",
    "\n",
    "    y_labels = []\n",
    "    x_labels = []\n",
    "    y_ticks = []\n",
    "    x_ticks = []\n",
    "    x = []\n",
    "    y = []\n",
    "\n",
    "    for i, row in enumerate(filtered['utmCampaign'].unique()):\n",
    "        y_labels.append(row)\n",
    "        y_ticks.append(i)\n",
    "        y.append(i)\n",
    "\n",
    "    for i, row in enumerate(filtered['category'].unique()):\n",
    "        x_labels.append(row)\n",
    "        x_ticks.append(i)\n",
    "        x.append(i)\n",
    "\n",
    "    fig = plt.figure()\n",
    "    ax = fig.add_subplot(1, 1, 1)\n",
    "\n",
    "    for j, utmCampaign in enumerate(y_labels):\n",
    "        r = np.random.rand(1)\n",
    "        color = cm.rainbow(np.linspace(r, r+1, 1))       \n",
    "        for i, category in enumerate(x_labels):\n",
    "            utmCampaignFiltered = filtered[filtered['utmCampaign']==utmCampaign]\n",
    "            categoryFiltered = utmCampaignFiltered[utmCampaignFiltered['category']==category]\n",
    "            area=categoryFiltered['quantity'].sum()\n",
    "            ax.scatter(x=i, y=j, s=area, c=color, alpha=0.7)  \n",
    "\n",
    "    ax.set(xticks=range(len(x_labels)), xticklabels=x_labels,\n",
    "       yticks=range(len(y_labels)), yticklabels=y_labels)\n",
    "\n",
    "    ax.set_xlabel('Category')\n",
    "    ax.set_ylabel('utmCampaign')\n",
    "    ax.set_title('Sum of purchased items in the first week after signing in, grouped by campaigns and category.', fontsize=18)\n",
    "\n",
    "    plt.tick_params(axis='x', labelsize=8)\n",
    "    plt.xticks(rotation=70)\n",
    "    plt.tight_layout()\n",
    "\n",
    "    plt.show()"
   ]
  },
  {
   "cell_type": "markdown",
   "metadata": {},
   "source": [
    "Displays general view on sum of purchased items in the first week after signing in, connected with campaigns being seen, grouped by category and campaign."
   ]
  },
  {
   "cell_type": "code",
   "execution_count": 2,
   "metadata": {
    "collapsed": false
   },
   "outputs": [],
   "source": [
    "def average_number_of_purchased_items_during_the_first_month_after_signing_in():\n",
    "    conv = drop_nulls(global_conv, ['timestamp', 'quantity'])\n",
    "    users = drop_nulls(global_users, ['signupTime', 'userId'])\n",
    "\n",
    "    users['signupTime'] = pd.DatetimeIndex(users['signupTime'])\n",
    "    conv['timestamp'] = pd.DatetimeIndex(conv['timestamp'])\n",
    "\n",
    "    joined = pd.merge(users, conv, left_on='userId', right_on='userId', how='inner')\n",
    "    joined['purchase_day'] = pd.to_timedelta(joined['timestamp'])-pd.to_timedelta(joined['signupTime'])\n",
    "\n",
    "    filtered = joined[joined['purchase_day']>=pd.Timedelta(days=0)]\n",
    "    filtered = filtered[filtered['purchase_day']<pd.Timedelta(days=30)]\n",
    "    filtered['purchase_day'] = pd.DatetimeIndex(filtered['purchase_day']).day\n",
    "\n",
    "    aver = filtered.groupby(['purchase_day', 'userId'])['quantity'].sum()\n",
    "\n",
    "    summ = [0 for x in range(0,31)]\n",
    "    countt = [0 for x in range(0,31)]\n",
    "    average = [0 for x in range(0,31)]\n",
    "\n",
    "    for x in aver.iteritems():\n",
    "        day = x[0][0]\n",
    "        quantitySum = x[1]\n",
    "        summ[day] += quantitySum\n",
    "        countt[day] += 1\n",
    "\n",
    "    for y in range(0, 31):\n",
    "        if countt[y] != 0:\n",
    "            average[y] = summ[y]/countt[y]\n",
    "\n",
    "    ax = sns.barplot(y=average, x=[i for i in range(0, 31)])\n",
    "    ax.set_xlabel('Day after signing in')\n",
    "    ax.set_ylabel('Average quantity')\n",
    "    ax.set_title('Average sum of purchases (quantities) during first month after signing in.', fontsize=18)\n",
    "\n",
    "    plt.tick_params(axis='x', labelsize=8)\n",
    "    plt.tight_layout()\n",
    "\n",
    "    plt.show()"
   ]
  },
  {
   "cell_type": "markdown",
   "metadata": {},
   "source": [
    "Displays average sum of purchases during first month after signing in."
   ]
  },
  {
   "cell_type": "code",
   "execution_count": 6,
   "metadata": {
    "collapsed": false
   },
   "outputs": [
    {
     "data": {
      "text/plain": [
       "'https://plot.ly/~PythonAPI/1438'"
      ]
     },
     "execution_count": 6,
     "metadata": {},
     "output_type": "execute_result"
    }
   ],
   "source": [
    "def distribution_number_of_purchases_per_user_in_the_first_week_after_registration():\n",
    "    users = drop_nulls(global_users, ['signupTime'])\n",
    "    conv = drop_nulls(global_conv, ['timestamp', 'quantity'])\n",
    "\n",
    "    users['signupTime'] =  pd.DatetimeIndex(users['signupTime'])\n",
    "    users['week_after'] = pd.DatetimeIndex(users['signupTime'])+pd.Timedelta(days=7)\n",
    "    conv['timestamp'] = pd.DatetimeIndex(conv['timestamp'])\n",
    "\n",
    "    joined = pd.merge(users, conv, left_on='userId', right_on='userId', how='inner')\n",
    "    filtered = joined[joined['timestamp'] <= joined['week_after']]\n",
    "    grouped = filtered.groupby('userId')['quantity'].sum()\n",
    "\n",
    "    d = dict()\n",
    "    for x in grouped:\n",
    "        if x not in d.keys():\n",
    "            d[x] = 1\n",
    "        else:\n",
    "            d[x] += 1\n",
    "\n",
    "    d[0] = len(joined[~joined['userId'].isin(filtered['userId'].unique())].groupby('userId'))\n",
    "\n",
    "    layout = go.Layout(\n",
    "        title='Distribution of sum of purchases per user during first week after registration',\n",
    "        xaxis=dict(\n",
    "            title='Number of purchased products',\n",
    "            titlefont=dict(\n",
    "                family='Courier New, monospace',\n",
    "                size=18,\n",
    "                color='#7f7f7f'\n",
    "            )\n",
    "        ),\n",
    "        yaxis=dict(\n",
    "            title='Number of users',\n",
    "            titlefont=dict(\n",
    "                family='Courier New, monospace',\n",
    "                size=18,\n",
    "                color='#7f7f7f'\n",
    "            )\n",
    "        )\n",
    "    )\n",
    "    data = [go.Bar(x=list(d.keys()), y=list(d.values()))]\n",
    "    fig = go.Figure(data=data, layout=layout)\n",
    "    py.plot(fig, filename='pandas-bar-chart')"
   ]
  },
  {
   "cell_type": "markdown",
   "metadata": {},
   "source": [
    "Shows distribution of how many items users bought during first week after sign up."
   ]
  },
  {
   "cell_type": "code",
   "execution_count": 17,
   "metadata": {
    "collapsed": false
   },
   "outputs": [
    {
     "name": "stderr",
     "output_type": "stream",
     "text": [
      "/home/gaba/anaconda3/lib/python3.5/site-packages/numpy/lib/arraysetops.py:379: FutureWarning:\n",
      "\n",
      "elementwise comparison failed; returning scalar instead, but in the future will perform elementwise comparison\n",
      "\n",
      "/home/gaba/anaconda3/lib/python3.5/site-packages/matplotlib/__init__.py:892: UserWarning:\n",
      "\n",
      "axes.color_cycle is deprecated and replaced with axes.prop_cycle; please use the latter.\n",
      "\n"
     ]
    }
   ],
   "source": [
    "def probability_of_purchase_during_the_first_month_after_registration():\n",
    "    conv = drop_nulls(global_conv, ['timestamp', 'quantity'])\n",
    "    users = drop_nulls(global_users, ['signupTime'])\n",
    "\n",
    "    users['signupTime'] = pd.DatetimeIndex(users['signupTime'])\n",
    "    conv['timestamp'] = pd.DatetimeIndex(conv['timestamp'])\n",
    "\n",
    "    joined = pd.merge(users, conv, left_on='userId', right_on='userId', how='inner')\n",
    "    joined['purchase_day'] = pd.to_timedelta(joined['timestamp'])-pd.to_timedelta(joined['signupTime'])\n",
    "\n",
    "    nr_of_users = len(joined.groupby(['userId']))\n",
    "\n",
    "    filtered = joined[joined['purchase_day']>=pd.Timedelta(days=0)]\n",
    "    filtered = filtered[filtered['purchase_day']<pd.Timedelta(days=30)]\n",
    "    filtered['purchase_day'] = pd.DatetimeIndex(filtered['purchase_day']).day\n",
    "\n",
    "    purch = filtered.groupby(['purchase_day'])['userId'].count()\n",
    "    probabil = [0 for x in range(0,31)]\n",
    "\n",
    "    for x in purch.iteritems():\n",
    "        day = x[0]\n",
    "        probabil[day] = x[1]/nr_of_users\n",
    "\n",
    "    ax = sns.barplot(y=probabil, x=[i for i in range(0, 31)])\n",
    "    ax.set_xlabel('Day after registration')\n",
    "    ax.set_ylabel('Probability (sum of purchases/number of users who have at least one purchase)')\n",
    "    ax.set_title('Probability of purchase during the first month after registration', fontsize=18)\n",
    "\n",
    "    plt.tick_params(axis='x', labelsize=8)\n",
    "    plt.tight_layout()\n",
    "\n",
    "    plt.show()"
   ]
  },
  {
   "cell_type": "markdown",
   "metadata": {},
   "source": [
    "Shows how probably is user's purchase during the first month after sign up."
   ]
  },
  {
   "cell_type": "code",
   "execution_count": 30,
   "metadata": {
    "collapsed": false
   },
   "outputs": [
    {
     "ename": "KeyboardInterrupt",
     "evalue": "",
     "output_type": "error",
     "traceback": [
      "\u001b[1;31m---------------------------------------------------------------------------\u001b[0m",
      "\u001b[1;31mKeyboardInterrupt\u001b[0m                         Traceback (most recent call last)",
      "\u001b[1;32m<ipython-input-30-9bc6c20fe324>\u001b[0m in \u001b[0;36m<module>\u001b[1;34m()\u001b[0m\n\u001b[0;32m      2\u001b[0m \u001b[0mconv\u001b[0m \u001b[1;33m=\u001b[0m \u001b[0mdrop_nulls\u001b[0m\u001b[1;33m(\u001b[0m\u001b[0mglobal_conv\u001b[0m\u001b[1;33m,\u001b[0m \u001b[1;33m[\u001b[0m\u001b[1;34m'timestamp'\u001b[0m\u001b[1;33m,\u001b[0m \u001b[1;34m'price'\u001b[0m\u001b[1;33m]\u001b[0m\u001b[1;33m)\u001b[0m\u001b[1;33m\u001b[0m\u001b[0m\n\u001b[0;32m      3\u001b[0m \u001b[1;33m\u001b[0m\u001b[0m\n\u001b[1;32m----> 4\u001b[1;33m \u001b[0mconv\u001b[0m\u001b[1;33m[\u001b[0m\u001b[1;34m'month'\u001b[0m\u001b[1;33m]\u001b[0m \u001b[1;33m=\u001b[0m \u001b[0mpd\u001b[0m\u001b[1;33m.\u001b[0m\u001b[0mDatetimeIndex\u001b[0m\u001b[1;33m(\u001b[0m\u001b[0mconv\u001b[0m\u001b[1;33m[\u001b[0m\u001b[1;34m'timestamp'\u001b[0m\u001b[1;33m]\u001b[0m\u001b[1;33m)\u001b[0m\u001b[1;33m.\u001b[0m\u001b[0mmonth\u001b[0m\u001b[1;33m\u001b[0m\u001b[0m\n\u001b[0m\u001b[0;32m      5\u001b[0m \u001b[0mconv\u001b[0m\u001b[1;33m[\u001b[0m\u001b[1;34m'year'\u001b[0m\u001b[1;33m]\u001b[0m \u001b[1;33m=\u001b[0m \u001b[0mpd\u001b[0m\u001b[1;33m.\u001b[0m\u001b[0mDatetimeIndex\u001b[0m\u001b[1;33m(\u001b[0m\u001b[0mconv\u001b[0m\u001b[1;33m[\u001b[0m\u001b[1;34m'timestamp'\u001b[0m\u001b[1;33m]\u001b[0m\u001b[1;33m)\u001b[0m\u001b[1;33m.\u001b[0m\u001b[0myear\u001b[0m\u001b[1;33m\u001b[0m\u001b[0m\n\u001b[0;32m      6\u001b[0m \u001b[0mgrouped\u001b[0m \u001b[1;33m=\u001b[0m \u001b[0mconv\u001b[0m\u001b[1;33m.\u001b[0m\u001b[0mgroupby\u001b[0m\u001b[1;33m(\u001b[0m\u001b[1;33m[\u001b[0m\u001b[1;34m'year'\u001b[0m\u001b[1;33m,\u001b[0m \u001b[1;34m'month'\u001b[0m\u001b[1;33m]\u001b[0m\u001b[1;33m)\u001b[0m\u001b[1;33m[\u001b[0m\u001b[1;34m'price'\u001b[0m\u001b[1;33m]\u001b[0m\u001b[1;33m.\u001b[0m\u001b[0msum\u001b[0m\u001b[1;33m(\u001b[0m\u001b[1;33m)\u001b[0m\u001b[1;33m\u001b[0m\u001b[0m\n",
      "\u001b[1;32m/home/gaba/anaconda3/lib/python3.5/site-packages/pandas/util/decorators.py\u001b[0m in \u001b[0;36mwrapper\u001b[1;34m(*args, **kwargs)\u001b[0m\n\u001b[0;32m     87\u001b[0m                 \u001b[1;32melse\u001b[0m\u001b[1;33m:\u001b[0m\u001b[1;33m\u001b[0m\u001b[0m\n\u001b[0;32m     88\u001b[0m                     \u001b[0mkwargs\u001b[0m\u001b[1;33m[\u001b[0m\u001b[0mnew_arg_name\u001b[0m\u001b[1;33m]\u001b[0m \u001b[1;33m=\u001b[0m \u001b[0mnew_arg_value\u001b[0m\u001b[1;33m\u001b[0m\u001b[0m\n\u001b[1;32m---> 89\u001b[1;33m             \u001b[1;32mreturn\u001b[0m \u001b[0mfunc\u001b[0m\u001b[1;33m(\u001b[0m\u001b[1;33m*\u001b[0m\u001b[0margs\u001b[0m\u001b[1;33m,\u001b[0m \u001b[1;33m**\u001b[0m\u001b[0mkwargs\u001b[0m\u001b[1;33m)\u001b[0m\u001b[1;33m\u001b[0m\u001b[0m\n\u001b[0m\u001b[0;32m     90\u001b[0m         \u001b[1;32mreturn\u001b[0m \u001b[0mwrapper\u001b[0m\u001b[1;33m\u001b[0m\u001b[0m\n\u001b[0;32m     91\u001b[0m     \u001b[1;32mreturn\u001b[0m \u001b[0m_deprecate_kwarg\u001b[0m\u001b[1;33m\u001b[0m\u001b[0m\n",
      "\u001b[1;32m/home/gaba/anaconda3/lib/python3.5/site-packages/pandas/tseries/index.py\u001b[0m in \u001b[0;36m__new__\u001b[1;34m(cls, data, freq, start, end, periods, copy, name, tz, verify_integrity, normalize, closed, ambiguous, dtype, **kwargs)\u001b[0m\n\u001b[0;32m    309\u001b[0m             \u001b[1;32mif\u001b[0m \u001b[0mlib\u001b[0m\u001b[1;33m.\u001b[0m\u001b[0mis_string_array\u001b[0m\u001b[1;33m(\u001b[0m\u001b[0mvalues\u001b[0m\u001b[1;33m)\u001b[0m\u001b[1;33m:\u001b[0m\u001b[1;33m\u001b[0m\u001b[0m\n\u001b[0;32m    310\u001b[0m                 subarr = tslib.parse_str_array_to_datetime(values, freq=freq, dayfirst=dayfirst,\n\u001b[1;32m--> 311\u001b[1;33m                                                      yearfirst=yearfirst)\n\u001b[0m\u001b[0;32m    312\u001b[0m \u001b[1;33m\u001b[0m\u001b[0m\n\u001b[0;32m    313\u001b[0m             \u001b[1;32melse\u001b[0m\u001b[1;33m:\u001b[0m\u001b[1;33m\u001b[0m\u001b[0m\n",
      "\u001b[1;32mpandas/tslib.pyx\u001b[0m in \u001b[0;36mpandas.tslib.parse_str_array_to_datetime (pandas/tslib.c:37151)\u001b[1;34m()\u001b[0m\n",
      "\u001b[1;32mpandas/tslib.pyx\u001b[0m in \u001b[0;36mpandas.tslib.parse_datetime_string (pandas/tslib.c:29166)\u001b[1;34m()\u001b[0m\n",
      "\u001b[1;32m/home/gaba/anaconda3/lib/python3.5/site-packages/dateutil/parser.py\u001b[0m in \u001b[0;36mparse\u001b[1;34m(timestr, parserinfo, **kwargs)\u001b[0m\n\u001b[0;32m   1006\u001b[0m         \u001b[1;32mreturn\u001b[0m \u001b[0mparser\u001b[0m\u001b[1;33m(\u001b[0m\u001b[0mparserinfo\u001b[0m\u001b[1;33m)\u001b[0m\u001b[1;33m.\u001b[0m\u001b[0mparse\u001b[0m\u001b[1;33m(\u001b[0m\u001b[0mtimestr\u001b[0m\u001b[1;33m,\u001b[0m \u001b[1;33m**\u001b[0m\u001b[0mkwargs\u001b[0m\u001b[1;33m)\u001b[0m\u001b[1;33m\u001b[0m\u001b[0m\n\u001b[0;32m   1007\u001b[0m     \u001b[1;32melse\u001b[0m\u001b[1;33m:\u001b[0m\u001b[1;33m\u001b[0m\u001b[0m\n\u001b[1;32m-> 1008\u001b[1;33m         \u001b[1;32mreturn\u001b[0m \u001b[0mDEFAULTPARSER\u001b[0m\u001b[1;33m.\u001b[0m\u001b[0mparse\u001b[0m\u001b[1;33m(\u001b[0m\u001b[0mtimestr\u001b[0m\u001b[1;33m,\u001b[0m \u001b[1;33m**\u001b[0m\u001b[0mkwargs\u001b[0m\u001b[1;33m)\u001b[0m\u001b[1;33m\u001b[0m\u001b[0m\n\u001b[0m\u001b[0;32m   1009\u001b[0m \u001b[1;33m\u001b[0m\u001b[0m\n\u001b[0;32m   1010\u001b[0m \u001b[1;33m\u001b[0m\u001b[0m\n",
      "\u001b[1;32m/home/gaba/anaconda3/lib/python3.5/site-packages/dateutil/parser.py\u001b[0m in \u001b[0;36mparse\u001b[1;34m(self, timestr, default, ignoretz, tzinfos, **kwargs)\u001b[0m\n\u001b[0;32m    390\u001b[0m             \u001b[0mres\u001b[0m\u001b[1;33m,\u001b[0m \u001b[0mskipped_tokens\u001b[0m \u001b[1;33m=\u001b[0m \u001b[0mself\u001b[0m\u001b[1;33m.\u001b[0m\u001b[0m_parse\u001b[0m\u001b[1;33m(\u001b[0m\u001b[0mtimestr\u001b[0m\u001b[1;33m,\u001b[0m \u001b[1;33m**\u001b[0m\u001b[0mkwargs\u001b[0m\u001b[1;33m)\u001b[0m\u001b[1;33m\u001b[0m\u001b[0m\n\u001b[0;32m    391\u001b[0m         \u001b[1;32melse\u001b[0m\u001b[1;33m:\u001b[0m\u001b[1;33m\u001b[0m\u001b[0m\n\u001b[1;32m--> 392\u001b[1;33m             \u001b[0mres\u001b[0m \u001b[1;33m=\u001b[0m \u001b[0mself\u001b[0m\u001b[1;33m.\u001b[0m\u001b[0m_parse\u001b[0m\u001b[1;33m(\u001b[0m\u001b[0mtimestr\u001b[0m\u001b[1;33m,\u001b[0m \u001b[1;33m**\u001b[0m\u001b[0mkwargs\u001b[0m\u001b[1;33m)\u001b[0m\u001b[1;33m\u001b[0m\u001b[0m\n\u001b[0m\u001b[0;32m    393\u001b[0m \u001b[1;33m\u001b[0m\u001b[0m\n\u001b[0;32m    394\u001b[0m         \u001b[1;32mif\u001b[0m \u001b[0mres\u001b[0m \u001b[1;32mis\u001b[0m \u001b[1;32mNone\u001b[0m\u001b[1;33m:\u001b[0m\u001b[1;33m\u001b[0m\u001b[0m\n",
      "\u001b[1;32m/home/gaba/anaconda3/lib/python3.5/site-packages/dateutil/parser.py\u001b[0m in \u001b[0;36m_parse\u001b[1;34m(self, timestr, dayfirst, yearfirst, fuzzy, fuzzy_with_tokens)\u001b[0m\n\u001b[0;32m    639\u001b[0m \u001b[1;33m\u001b[0m\u001b[0m\n\u001b[0;32m    640\u001b[0m                         \u001b[1;32mif\u001b[0m \u001b[0mi\u001b[0m \u001b[1;33m<\u001b[0m \u001b[0mlen_l\u001b[0m \u001b[1;32mand\u001b[0m \u001b[0ml\u001b[0m\u001b[1;33m[\u001b[0m\u001b[0mi\u001b[0m\u001b[1;33m]\u001b[0m \u001b[1;33m==\u001b[0m \u001b[1;34m':'\u001b[0m\u001b[1;33m:\u001b[0m\u001b[1;33m\u001b[0m\u001b[0m\n\u001b[1;32m--> 641\u001b[1;33m                             \u001b[0mres\u001b[0m\u001b[1;33m.\u001b[0m\u001b[0msecond\u001b[0m\u001b[1;33m,\u001b[0m \u001b[0mres\u001b[0m\u001b[1;33m.\u001b[0m\u001b[0mmicrosecond\u001b[0m \u001b[1;33m=\u001b[0m \u001b[0m_parsems\u001b[0m\u001b[1;33m(\u001b[0m\u001b[0ml\u001b[0m\u001b[1;33m[\u001b[0m\u001b[0mi\u001b[0m\u001b[1;33m+\u001b[0m\u001b[1;36m1\u001b[0m\u001b[1;33m]\u001b[0m\u001b[1;33m)\u001b[0m\u001b[1;33m\u001b[0m\u001b[0m\n\u001b[0m\u001b[0;32m    642\u001b[0m                             \u001b[0mi\u001b[0m \u001b[1;33m+=\u001b[0m \u001b[1;36m2\u001b[0m\u001b[1;33m\u001b[0m\u001b[0m\n\u001b[0;32m    643\u001b[0m \u001b[1;33m\u001b[0m\u001b[0m\n",
      "\u001b[1;32m/home/gaba/anaconda3/lib/python3.5/site-packages/dateutil/parser.py\u001b[0m in \u001b[0;36m_parsems\u001b[1;34m(value)\u001b[0m\n\u001b[0;32m   1199\u001b[0m         \u001b[1;32mreturn\u001b[0m \u001b[0mint\u001b[0m\u001b[1;33m(\u001b[0m\u001b[0mvalue\u001b[0m\u001b[1;33m)\u001b[0m\u001b[1;33m,\u001b[0m \u001b[1;36m0\u001b[0m\u001b[1;33m\u001b[0m\u001b[0m\n\u001b[0;32m   1200\u001b[0m     \u001b[1;32melse\u001b[0m\u001b[1;33m:\u001b[0m\u001b[1;33m\u001b[0m\u001b[0m\n\u001b[1;32m-> 1201\u001b[1;33m         \u001b[0mi\u001b[0m\u001b[1;33m,\u001b[0m \u001b[0mf\u001b[0m \u001b[1;33m=\u001b[0m \u001b[0mvalue\u001b[0m\u001b[1;33m.\u001b[0m\u001b[0msplit\u001b[0m\u001b[1;33m(\u001b[0m\u001b[1;34m\".\"\u001b[0m\u001b[1;33m)\u001b[0m\u001b[1;33m\u001b[0m\u001b[0m\n\u001b[0m\u001b[0;32m   1202\u001b[0m         \u001b[1;32mreturn\u001b[0m \u001b[0mint\u001b[0m\u001b[1;33m(\u001b[0m\u001b[0mi\u001b[0m\u001b[1;33m)\u001b[0m\u001b[1;33m,\u001b[0m \u001b[0mint\u001b[0m\u001b[1;33m(\u001b[0m\u001b[0mf\u001b[0m\u001b[1;33m.\u001b[0m\u001b[0mljust\u001b[0m\u001b[1;33m(\u001b[0m\u001b[1;36m6\u001b[0m\u001b[1;33m,\u001b[0m \u001b[1;34m\"0\"\u001b[0m\u001b[1;33m)\u001b[0m\u001b[1;33m[\u001b[0m\u001b[1;33m:\u001b[0m\u001b[1;36m6\u001b[0m\u001b[1;33m]\u001b[0m\u001b[1;33m)\u001b[0m\u001b[1;33m\u001b[0m\u001b[0m\n\u001b[0;32m   1203\u001b[0m \u001b[1;33m\u001b[0m\u001b[0m\n",
      "\u001b[1;31mKeyboardInterrupt\u001b[0m: "
     ]
    }
   ],
   "source": [
    "#def poisson_distribution_revenue_per_month():\n",
    "conv = drop_nulls(global_conv, ['timestamp', 'price'])\n",
    "\n",
    "conv['month'] = pd.DatetimeIndex(conv['timestamp']).month\n",
    "conv['year'] = pd.DatetimeIndex(conv['timestamp']).year\n",
    "grouped = conv.groupby(['year', 'month'])['price'].sum()\n",
    "aver = grouped.mean()\n",
    "\n",
    "print(aver)\n",
    "\n",
    "print(numpy.random.poisson(lam=aver*12))\n",
    "print(\"++++++++\")\n",
    "#print(poisson.pmf(aver*24, aver*12))\n",
    "for i in range(1, 24):\n",
    "    print(\"i:\"+str(i))\n",
    "    print(np.random.normal( aver*12,  math.sqrt(aver*i)))\n",
    "print(\"++++++++\")\n",
    "for lambd in grouped:\n",
    "    values = []\n",
    "    print(lambd)\n",
    "    #for k in range(1, len(grouped)+1):\n",
    "    #values.append((math.pow(lambd, k)*math.exp(-lambd))/math.factorial(k))\n",
    "    #print(\"  \"+str(k))\n",
    "    print(numpy.random.poisson(lam=lambd))#, size=len(grouped)))\n",
    "#sortedd = grouped.sort_index()\n",
    "\n",
    "#ax = sortedd.plot() \n",
    "#ax.set_xlabel('Month')\n",
    "#ax.set_ylabel('Income')\n",
    "#ax.set_title(\"Income per month.\", fontsize=18)\n",
    "\n",
    "#plt.xticks(rotation=70)\n",
    "#plt.tight_layout()\n",
    "\n",
    "#plt.show()"
   ]
  },
  {
   "cell_type": "code",
   "execution_count": 40,
   "metadata": {
    "collapsed": false
   },
   "outputs": [],
   "source": [
    "def number_of_active_users_per_month():\n",
    "    users = global_users\n",
    "    conv = drop_nulls(global_conv, ['timestamp'])\n",
    "\n",
    "    conv['month'] = pd.DatetimeIndex(conv['timestamp']).month\n",
    "    conv['year'] = pd.DatetimeIndex(conv['timestamp']).year\n",
    "\n",
    "    joined = pd.merge(users, conv, left_on='userId', right_on='userId', how='inner')\n",
    "    grouped = joined.groupby(['year', 'month'])['userId'].count()\n",
    "    sortedd = grouped.sort_index()\n",
    "\n",
    "    ax = sortedd.plot(kind='bar')\n",
    "\n",
    "    ax.set_xlabel('Month')\n",
    "    ax.set_ylabel('Number of active users')\n",
    "    ax.set_title(\"Number of active users per month.\", fontsize=18)\n",
    "\n",
    "    plt.xticks(rotation=70)\n",
    "    plt.tight_layout()\n",
    "    plt.show()"
   ]
  },
  {
   "cell_type": "markdown",
   "metadata": {},
   "source": [
    "Number of users who have at least one purchase in particular month."
   ]
  },
  {
   "cell_type": "code",
   "execution_count": null,
   "metadata": {
    "collapsed": false
   },
   "outputs": [],
   "source": [
    "#def variance_sum_of_revenue_for_items_purchased_during_first_month_after_signup():\n",
    "users = drop_nulls(global_users, ['userId'])\n",
    "conv = drop_nulls(global_conv, ['timestamp'])\n",
    "\n",
    "conv['conv_month'] = pd.DatetimeIndex(conv['timestamp']).month\n",
    "conv['conv_year'] = pd.DatetimeIndex(conv['timestamp']).year\n",
    "\n",
    "users['signup_month'] = pd.DatetimeIndex(users['signupTime']).month\n",
    "users['signup_year'] = pd.DatetimeIndex(users['signupTime']).year\n",
    "\n",
    "joined = pd.merge(users, conv, left_on='userId', right_on='userId', how='inner')\n",
    "grouped = joined.groupby(['conv_year', 'conv_month', 'userId'])['price'].sum()\n",
    "grouped = grouped.sort_index()\n",
    "signup_grouped = users.groupby(['signup_year', 'signup_month'])['userId'].count()\n",
    "signup_grouped = signup_grouped.sort_index()\n",
    "for i, x in enumerate(signup_grouped):\n",
    "    if i != 0:\n",
    "        signup_grouped[i] += signup_grouped[i-1]\n",
    "\n",
    "signed = []\n",
    "for i in range(0, 3):\n",
    "    signed.append([])\n",
    "    for j in range(0, 13):\n",
    "        signed[i].append(0)\n",
    "\n",
    "print(\"len=\"+str(len(signup_grouped)))\n",
    "print(len(signed[0]))\n",
    "for i, year_id in enumerate(signup_grouped.index.labels[0]):\n",
    "    month_id = signup_grouped.index.labels[1][i]\n",
    "    year = signup_grouped.index.levels[0][year_id]\n",
    "    month = signup_grouped.index.levels[1][month_id]\n",
    "    print(\"y:\"+str(year-2013)+\" m:\"+str(month)+\" i:\"+str(i))\n",
    "    signed[year-2013][month] = signup_grouped[i]\n",
    "    \n",
    "res = []\n",
    "for i in range(0, 3):\n",
    "    res.append([])\n",
    "    for j in range(0, 13):\n",
    "        res[i].append(0)\n",
    "\n",
    "#count variance for each month\n",
    "m = -1\n",
    "y = -1\n",
    "data = []\n",
    "for i, year_id in enumerate(conv_grouped.index.labels[0]):\n",
    "    month_id = grouped.index.labels[1][i]\n",
    "    year = grouped.index.levels[0][year_id]\n",
    "    month = grouped.index.levels[1][month_id]\n",
    "    if(i != 0 and (y != year or m != month)) or (i == len(grouped.index.labels[0])-1):\n",
    "        if i == len(grouped.index.labels[0])-1:\n",
    "            data.append(grouped[i])\n",
    "        if signed[y-2013][m] > 0:\n",
    "            data.extend([0] * (signed[y-2013][m] - len(data)))\n",
    "            res[y-2013][m] = statistics.variance(data)\n",
    "        data = []\n",
    "\n",
    "    data.append(grouped[i])\n",
    "    y = year\n",
    "    m = month\n",
    "\n",
    "variance = []\n",
    "labels = []                                                 \n",
    "for i in range(0, 3):\n",
    "    for j in range(0, 13):\n",
    "        variance.append(res[i][j])\n",
    "        labels.append(str(j)+\" / \"+str(i+2013))\n",
    "                                                 \n",
    "ax = sns.barplot(y=variance, x=labels)\n",
    "ax.set_xlabel('Year and month')\n",
    "ax.set_ylabel('Variance')\n",
    "ax.set_title('Variance: sum of prices of purchases for each user in each month after sign up', fontsize=18)\n",
    "\n",
    "plt.tick_params(axis='x', labelsize=10)\n",
    "plt.xticks(rotation=70)\n",
    "plt.tight_layout()\n",
    "\n",
    "plt.show()"
   ]
  },
  {
   "cell_type": "code",
   "execution_count": null,
   "metadata": {
    "collapsed": true
   },
   "outputs": [],
   "source": []
  }
 ],
 "metadata": {
  "kernelspec": {
   "display_name": "Python 3",
   "language": "python",
   "name": "python3"
  },
  "language_info": {
   "codemirror_mode": {
    "name": "ipython",
    "version": 3
   },
   "file_extension": ".py",
   "mimetype": "text/x-python",
   "name": "python",
   "nbconvert_exporter": "python",
   "pygments_lexer": "ipython3",
   "version": "3.5.0"
  }
 },
 "nbformat": 4,
 "nbformat_minor": 0
}
