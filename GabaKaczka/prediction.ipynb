{
 "cells": [
  {
   "cell_type": "code",
   "execution_count": 4,
   "metadata": {
    "collapsed": false
   },
   "outputs": [],
   "source": [
    "import csv\n",
    "import pandas as pd\n",
    "import numpy as np\n",
    "import matplotlib.pyplot as plt\n",
    "import random\n",
    "import seaborn as sns\n",
    "from scipy.stats import kendalltau\n",
    "from matplotlib.ticker import FuncFormatter, MultipleLocator\n",
    "import matplotlib.cm as cm\n",
    "from matplotlib.widgets import Slider\n",
    "import matplotlib.ticker as ticker\n",
    "import plotly.plotly as py\n",
    "import cufflinks as cf\n",
    "import plotly.graph_objs as go\n",
    "py.sign_in('PythonAPI', 'ubpiol2cve')"
   ]
  },
  {
   "cell_type": "code",
   "execution_count": 16,
   "metadata": {
    "collapsed": false
   },
   "outputs": [],
   "source": [
    "global_users = pd.read_csv('../../fb2015/users.csv', header=None)#.sample(frac=0.01)\n",
    "global_users.columns = ['userId', 'registerCountry', 'signupTime']\n",
    "global_conv = pd.read_csv('../../fb2015/conversions.csv', header=None)#.sample(frac=0.01)\n",
    "global_conv.columns = ['userId', 'itemId', 'price', 'quantity', 'timestamp']\n",
    "global_items = pd.read_csv('../../fb2015/items.csv', header=None)#.sample(frac=0.01)\n",
    "global_items.columns = ['itemId', 'style', 'personality', 'color', 'theme', 'price', 'category']\n",
    "global_users_ads = pd.read_csv('../../fb2015/users_ads.csv', header=None)#.sample(frac=0.01)\n",
    "global_users_ads.columns = ['userId', 'utmSource', 'utmCampaign', 'utmMedium', 'utmTerm', 'utmContent']"
   ]
  },
  {
   "cell_type": "markdown",
   "metadata": {},
   "source": [
    "Obtains data from files."
   ]
  },
  {
   "cell_type": "code",
   "execution_count": 6,
   "metadata": {
    "collapsed": true
   },
   "outputs": [],
   "source": [
    "def drop_nulls(table, columns):\n",
    "    table = table.dropna(subset=columns)\n",
    "    for col in columns:\n",
    "        table = table[~table[col].isin(['None'])]\n",
    "    return table"
   ]
  },
  {
   "cell_type": "markdown",
   "metadata": {},
   "source": [
    "Drops NaN, None values from given data."
   ]
  },
  {
   "cell_type": "code",
   "execution_count": null,
   "metadata": {
    "collapsed": false
   },
   "outputs": [],
   "source": [
    "def number_of_new_users_per_month():\n",
    "    users = drop_nulls(global_users, ['signupTime', 'userId'])\n",
    "\n",
    "    users['month'] = pd.DatetimeIndex(users['signupTime']).month\n",
    "    users['year'] = pd.DatetimeIndex(users['signupTime']).year\n",
    "\n",
    "    grouped = users.groupby(['year', 'month'])['userId'].count()\n",
    "    sortedd = grouped.sort_index()\n",
    "\n",
    "    ax = sortedd.plot(kind='bar')\n",
    "\n",
    "    ax.set_xlabel('Month')\n",
    "    ax.set_ylabel('Number of new users')\n",
    "    ax.set_title(\"Number of new users per month.\", fontsize=18)\n",
    "\n",
    "    plt.xticks(rotation=70)\n",
    "    plt.tight_layout()\n",
    "    plt.show()"
   ]
  },
  {
   "cell_type": "markdown",
   "metadata": {},
   "source": [
    "Displays number of newly registered users per month."
   ]
  },
  {
   "cell_type": "code",
   "execution_count": null,
   "metadata": {
    "collapsed": false
   },
   "outputs": [],
   "source": [
    "def number_of_conversions_per_month():\n",
    "    conv = drop_nulls(global_conv, ['timestamp'])\n",
    "\n",
    "    conv['month'] = pd.DatetimeIndex(conv['timestamp']).month\n",
    "    conv['year'] = pd.DatetimeIndex(conv['timestamp']).year\n",
    "\n",
    "    grouped = conv.groupby(['year', 'month']).count()\n",
    "    sortedd = grouped.sort_index()\n",
    "\n",
    "    ax = sortedd.plot(legend=None)\n",
    "    ax.set_xlabel('Month')\n",
    "    ax.set_ylabel('Number of conversions')\n",
    "    ax.set_title(\"Number of conversions per month.\", fontsize=18)\n",
    "\n",
    "    plt.xticks(rotation=70)\n",
    "    plt.tight_layout()\n",
    "\n",
    "    plt.show()"
   ]
  },
  {
   "cell_type": "markdown",
   "metadata": {},
   "source": [
    "Displays number of conversions per month."
   ]
  },
  {
   "cell_type": "code",
   "execution_count": null,
   "metadata": {
    "collapsed": true
   },
   "outputs": [],
   "source": [
    "def number_of_items_purchased_per_month():\n",
    "    conv = drop_nulls(global_conv, ['timestamp', 'quantity'])\n",
    "\n",
    "    conv['month'] = pd.DatetimeIndex(conv['timestamp']).month\n",
    "    conv['year'] = pd.DatetimeIndex(conv['timestamp']).year\n",
    "\n",
    "    grouped = conv.groupby(['year', 'month'])['quantity'].sum()\n",
    "    sortedd = grouped.sort_index()\n",
    "\n",
    "    ax = sortedd.plot(kind='bar')\n",
    "    ax.set_xlabel('Month')\n",
    "    ax.set_ylabel('Number of items')\n",
    "    ax.set_title(\"Number of items purchased per month.\", fontsize=18)\n",
    "\n",
    "    plt.xticks(rotation=70)\n",
    "    plt.tight_layout()\n",
    "\n",
    "    plt.show()"
   ]
  },
  {
   "cell_type": "markdown",
   "metadata": {},
   "source": [
    "Displays number of items purchased per month."
   ]
  },
  {
   "cell_type": "code",
   "execution_count": null,
   "metadata": {
    "collapsed": false
   },
   "outputs": [],
   "source": [
    "def income_per_month():\n",
    "    conv = drop_nulls(global_conv, ['timestamp', 'price'])\n",
    "\n",
    "    conv['month'] = pd.DatetimeIndex(conv['timestamp']).month\n",
    "    conv['year'] = pd.DatetimeIndex(conv['timestamp']).year\n",
    "    grouped = conv.groupby(['year', 'month'])['price'].sum()\n",
    "    sortedd = grouped.sort_index()\n",
    "\n",
    "    ax = sortedd.plot() \n",
    "    ax.set_xlabel('Month')\n",
    "    ax.set_ylabel('Income')\n",
    "    ax.set_title(\"Income per month.\", fontsize=18)\n",
    "\n",
    "    plt.xticks(rotation=70)\n",
    "    plt.tight_layout()\n",
    "\n",
    "    plt.show()"
   ]
  },
  {
   "cell_type": "markdown",
   "metadata": {},
   "source": [
    "Displays income per month."
   ]
  },
  {
   "cell_type": "code",
   "execution_count": null,
   "metadata": {
    "collapsed": false
   },
   "outputs": [],
   "source": [
    "def number_of_purchases_per_user_in_the_first_week_after_registration():\n",
    "    #does not include users without purchase in the first week after registration\n",
    "    users = drop_nulls(global_users, ['userId', 'signupTime'])\n",
    "    conv = drop_nulls(global_conv, ['userId', 'quantity', 'timestamp'])\n",
    "\n",
    "    users['signupTime'] =  pd.DatetimeIndex(users['signupTime'])\n",
    "    users['week_after'] = pd.DatetimeIndex(users['signupTime'])+pd.Timedelta(days=7)\n",
    "    conv['timestamp'] = pd.DatetimeIndex(conv['timestamp'])\n",
    "\n",
    "    joined = pd.merge(users, conv, left_on='userId', right_on='userId', how='inner')\n",
    "    grouped = joined[joined['timestamp'] <= joined['week_after']].groupby('userId')['quantity'].sum()\n",
    "\n",
    "    ax = grouped.plot(kind='bar')\n",
    "    ax.set_xlabel('User id')\n",
    "    ax.set_ylabel('Quantity')\n",
    "    ax.set_title(\"Number of items purchased in the first week after registration, grouped by userId.\", fontsize=18)\n",
    "\n",
    "    plt.xticks(rotation=70)\n",
    "    plt.tight_layout()\n",
    "\n",
    "    plt.show()"
   ]
  },
  {
   "cell_type": "markdown",
   "metadata": {},
   "source": [
    "Displays number of items purchased during the first week after signing in."
   ]
  },
  {
   "cell_type": "code",
   "execution_count": null,
   "metadata": {
    "collapsed": false
   },
   "outputs": [],
   "source": [
    "def number_of_items_purchased_from_particular_category_grouped_by_country(category):\n",
    "    category = 2346301904\n",
    "    conv = drop_nulls(global_conv, ['quantity'])\n",
    "    items = drop_nulls(global_items, ['category'])\n",
    "    users = drop_nulls(global_users, ['registerCountry'])\n",
    "\n",
    "    joined_items_conv = pd.merge(items, conv, left_on='itemId', right_on='itemId', how='inner')\n",
    "    joined = pd.merge(joined_items_conv, users, left_on='userId', right_on='userId', how='inner')\n",
    "\n",
    "    filtered = joined[joined['category']==category]\n",
    "    grouped = filtered.groupby('registerCountry')['quantity'].sum()\n",
    "\n",
    "    ax = grouped.plot(kind='bar')\n",
    "    ax.set_xlabel('Category')\n",
    "    ax.set_ylabel('Quantity')\n",
    "    ax.set_title(\"Number of items from \"+str(category)+\" category, grouped by country.\", fontsize=18)\n",
    "\n",
    "    plt.xticks(rotation=70)\n",
    "    plt.tight_layout()\n",
    "    plt.show()"
   ]
  },
  {
   "cell_type": "markdown",
   "metadata": {},
   "source": [
    "Displays number of items from particular category purchased by people from all countries."
   ]
  },
  {
   "cell_type": "code",
   "execution_count": null,
   "metadata": {
    "collapsed": false
   },
   "outputs": [],
   "source": [
    "def number_of_items_purchased_in_particular_country_grouped_by_category(country):\n",
    "    country = 'United States'\n",
    "    conv = drop_nulls(global_conv, ['quantity'])\n",
    "    items = drop_nulls(global_items, ['category'])\n",
    "    users = drop_nulls(global_users, ['registerCountry'])\n",
    "\n",
    "    joined_items_conv = pd.merge(items, conv, left_on='itemId', right_on='itemId', how='inner')\n",
    "    joined = pd.merge(joined_items_conv, users, left_on='userId', right_on='userId', how='inner')\n",
    "\n",
    "    filtered = joined[joined['registerCountry']==country]\n",
    "    grouped = filtered.groupby('category')['quantity'].sum()\n",
    "\n",
    "    ax = grouped.plot(kind='bar')\n",
    "    ax.set_xlabel('Category')\n",
    "    ax.set_ylabel('Quantity')\n",
    "    ax.set_title(\"Number of items purchased in \" + country + \", grouped by category.\", fontsize=18)\n",
    "\n",
    "    plt.xticks(rotation=70)\n",
    "    plt.tight_layout()\n",
    "    plt.show()"
   ]
  },
  {
   "cell_type": "markdown",
   "metadata": {},
   "source": [
    "Displays number of items from all cattegories purchased in particular country."
   ]
  },
  {
   "cell_type": "code",
   "execution_count": 15,
   "metadata": {
    "collapsed": false
   },
   "outputs": [],
   "source": [
    "def number_of_purchased_items_grouped_by_categories_in_all_countries():\n",
    "    conv = drop_nulls(global_conv, ['quantity'])\n",
    "    items = drop_nulls(global_items, ['category'])\n",
    "    users = drop_nulls(global_users, ['registerCountry'])\n",
    "\n",
    "    joined_items_conv = pd.merge(items, conv, left_on='itemId', right_on='itemId', how='inner')\n",
    "    joined = pd.merge(joined_items_conv, users, left_on='userId', right_on='userId', how='inner')\n",
    "\n",
    "    y_labels = []\n",
    "    x_labels = []\n",
    "    y_ticks = []\n",
    "    x_ticks = []\n",
    "\n",
    "    for i, row in enumerate(joined['registerCountry'].unique()):\n",
    "        y_labels.append(row)\n",
    "        y_ticks.append(i)\n",
    "\n",
    "    for i, row in enumerate(joined['category'].unique()):\n",
    "        x_labels.append(row)\n",
    "        x_ticks.append(i)\n",
    "\n",
    "    fig = plt.figure()\n",
    "    ax = fig.add_subplot(1, 1, 1)\n",
    "\n",
    "    for j, country in enumerate(y_labels):\n",
    "        r = np.random.rand(1)\n",
    "        color = cm.rainbow(np.linspace(r, r+1, 1))       \n",
    "        for i, category in enumerate(x_labels):\n",
    "            countryFiltered = joined[joined['registerCountry']==country]\n",
    "            filtered = countryFiltered[countryFiltered['category']==category]\n",
    "            area=filtered['quantity'].sum()\n",
    "            ax.scatter(x=i, y=j, s=area, c=color, alpha=0.7)  \n",
    "\n",
    "    ax.set(xticks=range(len(x_labels)), xticklabels=x_labels,\n",
    "       yticks=range(len(y_labels)), yticklabels=y_labels)\n",
    "\n",
    "    ax.set_xlabel('Category')\n",
    "    ax.set_ylabel('Country')\n",
    "    ax.set_title('Sum of purchased items, grouped by country and category.', fontsize=18)\n",
    "\n",
    "    plt.tick_params(axis='x')\n",
    "    plt.xticks(rotation=90)\n",
    "    plt.tight_layout()\n",
    "\n",
    "    plt.show()"
   ]
  },
  {
   "cell_type": "markdown",
   "metadata": {},
   "source": [
    "Displays general view on sum of purchased items grouped by country and category."
   ]
  },
  {
   "cell_type": "code",
   "execution_count": 4,
   "metadata": {
    "collapsed": false
   },
   "outputs": [
    {
     "name": "stderr",
     "output_type": "stream",
     "text": [
      "/home/ducki13/anaconda3/lib/python3.5/site-packages/numpy/lib/arraysetops.py:379: FutureWarning: elementwise comparison failed; returning scalar instead, but in the future will perform elementwise comparison\n",
      "  mask |= (ar1 == a)\n",
      "/home/ducki13/anaconda3/lib/python3.5/site-packages/matplotlib/collections.py:590: FutureWarning: elementwise comparison failed; returning scalar instead, but in the future will perform elementwise comparison\n",
      "  if self._edgecolors == str('face'):\n"
     ]
    }
   ],
   "source": [
    "def number_of_purchased_items_after_seeing_campaigns_grouped_by_categories():\n",
    "    conv = drop_nulls(global_conv, ['timestamp'])\n",
    "    users_ads = drop_nulls(global_users_ads, ['utmCampaign'])\n",
    "    users = drop_nulls(global_users, ['signupTime'])\n",
    "    items = drop_nulls(global_items, ['category'])\n",
    "\n",
    "    users['week_after'] = pd.DatetimeIndex(users['signupTime'])+pd.Timedelta(days=7)\n",
    "    conv['timestamp'] = pd.DatetimeIndex(conv['timestamp'])\n",
    "\n",
    "    joined = pd.merge(users, users_ads, left_on='userId', right_on='userId', how='inner')\n",
    "    joined = pd.merge(joined, conv, left_on='userId', right_on='userId', how='inner')\n",
    "    joined = pd.merge(joined, items, left_on='itemId', right_on='itemId', how='inner')\n",
    "\n",
    "    filtered = joined[joined['timestamp'] <= joined['week_after']]\n",
    "\n",
    "    y_labels = []\n",
    "    x_labels = []\n",
    "    y_ticks = []\n",
    "    x_ticks = []\n",
    "    x = []\n",
    "    y = []\n",
    "\n",
    "    for i, row in enumerate(filtered['utmCampaign'].unique()):\n",
    "        y_labels.append(row)\n",
    "        y_ticks.append(i)\n",
    "        y.append(i)\n",
    "\n",
    "    for i, row in enumerate(filtered['category'].unique()):\n",
    "        x_labels.append(row)\n",
    "        x_ticks.append(i)\n",
    "        x.append(i)\n",
    "\n",
    "    fig = plt.figure()\n",
    "    ax = fig.add_subplot(1, 1, 1)\n",
    "\n",
    "    for j, utmCampaign in enumerate(y_labels):\n",
    "        r = np.random.rand(1)\n",
    "        color = cm.rainbow(np.linspace(r, r+1, 1))       \n",
    "        for i, category in enumerate(x_labels):\n",
    "            utmCampaignFiltered = filtered[filtered['utmCampaign']==utmCampaign]\n",
    "            categoryFiltered = utmCampaignFiltered[utmCampaignFiltered['category']==category]\n",
    "            area=categoryFiltered['quantity'].sum()\n",
    "            ax.scatter(x=i, y=j, s=area, c=color, alpha=0.7)  \n",
    "\n",
    "    ax.set(xticks=range(len(x_labels)), xticklabels=x_labels,\n",
    "       yticks=range(len(y_labels)), yticklabels=y_labels)\n",
    "\n",
    "    ax.set_xlabel('Category')\n",
    "    ax.set_ylabel('utmCampaign')\n",
    "    ax.set_title('Sum of purchased items in the first week after signing in, grouped by campaigns and category.', fontsize=18)\n",
    "\n",
    "    plt.tick_params(axis='x', labelsize=8)\n",
    "    plt.xticks(rotation=70)\n",
    "    plt.tight_layout()\n",
    "\n",
    "    plt.show()"
   ]
  },
  {
   "cell_type": "markdown",
   "metadata": {},
   "source": [
    "Displays general view on sum of purchased items in the first week after signing in, connected with campaigns being seen, grouped by category and campaign."
   ]
  },
  {
   "cell_type": "code",
   "execution_count": 2,
   "metadata": {
    "collapsed": false
   },
   "outputs": [],
   "source": [
    "def average_number_of_purchased_items_during_the_first_month_after_signing_in():\n",
    "    conv = drop_nulls(global_conv, ['timestamp', 'quantity'])\n",
    "    users = drop_nulls(global_users, ['signupTime', 'userId'])\n",
    "\n",
    "    users['signupTime'] = pd.DatetimeIndex(users['signupTime'])\n",
    "    conv['timestamp'] = pd.DatetimeIndex(conv['timestamp'])\n",
    "\n",
    "    joined = pd.merge(users, conv, left_on='userId', right_on='userId', how='inner')\n",
    "    joined['purchase_day'] = pd.to_timedelta(joined['timestamp'])-pd.to_timedelta(joined['signupTime'])\n",
    "\n",
    "    filtered = joined[joined['purchase_day']>=pd.Timedelta(days=0)]\n",
    "    filtered = filtered[filtered['purchase_day']<pd.Timedelta(days=30)]\n",
    "    filtered['purchase_day'] = pd.DatetimeIndex(filtered['purchase_day']).day\n",
    "\n",
    "    aver = filtered.groupby(['purchase_day', 'userId'])['quantity'].sum()\n",
    "\n",
    "    summ = [0 for x in range(0,31)]\n",
    "    countt = [0 for x in range(0,31)]\n",
    "    average = [0 for x in range(0,31)]\n",
    "\n",
    "    for x in aver.iteritems():\n",
    "        day = x[0][0]\n",
    "        quantitySum = x[1]\n",
    "        summ[day] += quantitySum\n",
    "        countt[day] += 1\n",
    "\n",
    "    for y in range(0, 31):\n",
    "        if countt[y] != 0:\n",
    "            average[y] = summ[y]/countt[y]\n",
    "\n",
    "    ax = sns.barplot(y=average, x=[i for i in range(0, 31)])\n",
    "    ax.set_xlabel('Day after signing in')\n",
    "    ax.set_ylabel('Average quantity')\n",
    "    ax.set_title('Average sum of purchases (quantities) during first month after signing in.', fontsize=18)\n",
    "\n",
    "    plt.tick_params(axis='x', labelsize=8)\n",
    "    plt.tight_layout()\n",
    "\n",
    "    plt.show()"
   ]
  },
  {
   "cell_type": "markdown",
   "metadata": {},
   "source": [
    "Displays average sum of purchases during first month after signing in."
   ]
  },
  {
   "cell_type": "code",
   "execution_count": 49,
   "metadata": {
    "collapsed": false
   },
   "outputs": [
    {
     "name": "stderr",
     "output_type": "stream",
     "text": [
      "/home/ducki13/anaconda3/lib/python3.5/site-packages/numpy/lib/arraysetops.py:379: FutureWarning:\n",
      "\n",
      "elementwise comparison failed; returning scalar instead, but in the future will perform elementwise comparison\n",
      "\n"
     ]
    },
    {
     "data": {
      "text/plain": [
       "'https://plot.ly/~PythonAPI/1438'"
      ]
     },
     "execution_count": 49,
     "metadata": {},
     "output_type": "execute_result"
    }
   ],
   "source": [
    "#def distribution_number_of_purchases_per_user_in_the_first_week_after_registration():\n",
    "users = drop_nulls(global_users, ['userId', 'signupTime'])\n",
    "conv = drop_nulls(global_conv, ['userId', 'timestamp', 'quantity'])\n",
    "\n",
    "users['signupTime'] =  pd.DatetimeIndex(users['signupTime'])\n",
    "users['week_after'] = pd.DatetimeIndex(users['signupTime'])+pd.Timedelta(days=7)\n",
    "conv['timestamp'] = pd.DatetimeIndex(conv['timestamp'])\n",
    "\n",
    "joined = pd.merge(users, conv, left_on='userId', right_on='userId', how='inner')\n",
    "filtered = joined[joined['timestamp'] <= joined['week_after']]\n",
    "grouped = filtered.groupby('userId')['quantity'].sum()\n",
    "\n",
    "d = dict()\n",
    "for x in grouped:\n",
    "    if x not in d.keys():\n",
    "        d[x] = 1\n",
    "    else:\n",
    "        d[x] += 1\n",
    "        \n",
    "d[0] = len(joined[~joined['userId'].isin(filtered['userId'].unique())].groupby('userId'))\n",
    "\n",
    "layout = go.Layout(\n",
    "    title='Distribution of sum of purchases per user during first week after registartion',\n",
    "    xaxis=dict(\n",
    "        title='Number of purchased products',\n",
    "        titlefont=dict(\n",
    "            family='Courier New, monospace',\n",
    "            size=18,\n",
    "            color='#7f7f7f'\n",
    "        )\n",
    "    ),\n",
    "    yaxis=dict(\n",
    "        title='Number of users',\n",
    "        titlefont=dict(\n",
    "            family='Courier New, monospace',\n",
    "            size=18,\n",
    "            color='#7f7f7f'\n",
    "        )\n",
    "    )\n",
    ")\n",
    "data = [go.Bar(x=list(d.keys()), y=list(d.values()))]\n",
    "fig = go.Figure(data=data, layout=layout)\n",
    "py.plot(fig, filename='pandas-bar-chart')"
   ]
  },
  {
   "cell_type": "code",
   "execution_count": 17,
   "metadata": {
    "collapsed": false
   },
   "outputs": [
    {
     "name": "stderr",
     "output_type": "stream",
     "text": [
      "/home/gaba/anaconda3/lib/python3.5/site-packages/numpy/lib/arraysetops.py:379: FutureWarning:\n",
      "\n",
      "elementwise comparison failed; returning scalar instead, but in the future will perform elementwise comparison\n",
      "\n",
      "/home/gaba/anaconda3/lib/python3.5/site-packages/matplotlib/__init__.py:892: UserWarning:\n",
      "\n",
      "axes.color_cycle is deprecated and replaced with axes.prop_cycle; please use the latter.\n",
      "\n"
     ]
    }
   ],
   "source": [
    "#def probability_of_purchase_during_the_first_month_after_registration():\n",
    "conv = drop_nulls(global_conv, ['timestamp', 'quantity'])\n",
    "users = drop_nulls(global_users, ['signupTime', 'userId'])\n",
    "\n",
    "users['signupTime'] = pd.DatetimeIndex(users['signupTime'])\n",
    "conv['timestamp'] = pd.DatetimeIndex(conv['timestamp'])\n",
    "\n",
    "joined = pd.merge(users, conv, left_on='userId', right_on='userId', how='inner')\n",
    "joined['purchase_day'] = pd.to_timedelta(joined['timestamp'])-pd.to_timedelta(joined['signupTime'])\n",
    "\n",
    "nr_of_users = len(joined.groupby(['userId']))\n",
    "\n",
    "filtered = joined[joined['purchase_day']>=pd.Timedelta(days=0)]\n",
    "filtered = filtered[filtered['purchase_day']<pd.Timedelta(days=30)]\n",
    "filtered['purchase_day'] = pd.DatetimeIndex(filtered['purchase_day']).day\n",
    "\n",
    "purch = filtered.groupby(['purchase_day'])['userId'].count()\n",
    "probabil = [0 for x in range(0,31)]\n",
    "\n",
    "for x in purch.iteritems():\n",
    "    day = x[0]\n",
    "    probabil[day] = x[1]/nr_of_users\n",
    "\n",
    "ax = sns.barplot(y=probabil, x=[i for i in range(0, 31)])\n",
    "ax.set_xlabel('Day after registration')\n",
    "ax.set_ylabel('Probabilty (sum of purchases/number of users who have at least one purchase)')\n",
    "ax.set_title('Probability of purchase during the first month after registration', fontsize=18)\n",
    "\n",
    "plt.tick_params(axis='x', labelsize=8)\n",
    "plt.tight_layout()\n",
    "\n",
    "plt.show()"
   ]
  }
 ],
 "metadata": {
  "kernelspec": {
   "display_name": "Python 3",
   "language": "python",
   "name": "python3"
  },
  "language_info": {
   "codemirror_mode": {
    "name": "ipython",
    "version": 3
   },
   "file_extension": ".py",
   "mimetype": "text/x-python",
   "name": "python",
   "nbconvert_exporter": "python",
   "pygments_lexer": "ipython3",
   "version": "3.5.0"
  }
 },
 "nbformat": 4,
 "nbformat_minor": 0
}
