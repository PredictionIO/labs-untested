{
 "cells": [
  {
   "cell_type": "code",
   "execution_count": 11,
   "metadata": {
    "collapsed": false
   },
   "outputs": [],
   "source": [
    "import csv\n",
    "import pandas as pd\n",
    "import numpy as np\n",
    "import matplotlib.pyplot as plt\n",
    "import random"
   ]
  },
  {
   "cell_type": "code",
   "execution_count": 12,
   "metadata": {
    "collapsed": true
   },
   "outputs": [],
   "source": [
    "def get_data(location):\n",
    "    data = pd.read_csv(location, header=None)\n",
    "    data = data.sample(frac=0.03)\n",
    "   \n",
    "    if location.endswith('users.csv'):\n",
    "        data.columns = ['userId', 'registerCountry', 'signupTime']\n",
    "    elif location.endswith('conversions.csv'):\n",
    "        data.columns = ['userId', 'itemId', 'price', 'quantity', 'timestamp']\n",
    "    elif location.endswith('items.csv'):\n",
    "        data.columns = ['itemId', 'style', 'personality', 'color', 'theme', 'price', 'category']\n",
    "    elif location.endswith('users_ads.csv'):\n",
    "        data.columns = ['userId', 'utmSource', 'utmCampaign']\n",
    "    return data\n"
   ]
  },
  {
   "cell_type": "markdown",
   "metadata": {},
   "source": [
    "Obtains data from files."
   ]
  },
  {
   "cell_type": "code",
   "execution_count": 13,
   "metadata": {
    "collapsed": true
   },
   "outputs": [],
   "source": [
    "def getYearMonth(s):\n",
    "    return s.split(\"-\")[1]+\"-\"+s.split(\"-\")[2].split(\" \")[0]"
   ]
  },
  {
   "cell_type": "markdown",
   "metadata": {},
   "source": [
    "Util function: extracts months from dates."
   ]
  },
  {
   "cell_type": "code",
   "execution_count": 14,
   "metadata": {
    "collapsed": false
   },
   "outputs": [],
   "source": [
    " def number_of_new_users_per_month():\n",
    "    users = get_data('../../fb2015/users.csv')\n",
    "    users['month'] = pd.DatetimeIndex(users['signupTime']).month\n",
    "    users['year'] = pd.DatetimeIndex(users['signupTime']).year\n",
    "    users_per_yearmonth = users.groupby(['year', 'month'])['userId'].count()\n",
    "    users_per_yearmonth = users_per_yearmonth.sort_index()\n",
    "    users_per_yearmonth.plot(kind='bar')\n",
    "    plt.show()"
   ]
  },
  {
   "cell_type": "markdown",
   "metadata": {},
   "source": [
    "Displays number of newly registered users per month."
   ]
  },
  {
   "cell_type": "code",
   "execution_count": 15,
   "metadata": {
    "collapsed": false
   },
   "outputs": [],
   "source": [
    "def number_of_conversions_per_month():\n",
    "    conv = get_data('../../fb2015/conversions.csv')\n",
    "    conv['month'] = pd.DatetimeIndex(conv['timestamp']).month\n",
    "    conv['year'] = pd.DatetimeIndex(conv['timestamp']).year\n",
    "    conv_per_yearmonth = conv.groupby(['year', 'month']).count()\n",
    "    conv_per_yearmonth = conv_per_yearmonth.sort_index()\n",
    "    conv_per_yearmonth.plot()\n",
    "    plt.show()"
   ]
  },
  {
   "cell_type": "markdown",
   "metadata": {},
   "source": [
    "Displays number of conversions per month."
   ]
  },
  {
   "cell_type": "code",
   "execution_count": 16,
   "metadata": {
    "collapsed": true
   },
   "outputs": [],
   "source": [
    "def number_of_items_purchased_per_month():\n",
    "    conv = get_data('../../fb2015/conversions.csv')\n",
    "    conv['month'] = pd.DatetimeIndex(conv['timestamp']).month\n",
    "    conv['year'] = pd.DatetimeIndex(conv['timestamp']).year\n",
    "    conv_per_yearmonth = conv.groupby(['year', 'month'])['quantity'].count()\n",
    "    conv_per_yearmonth = conv_per_yearmonth.sort_index()\n",
    "    conv_per_yearmonth.plot()\n",
    "    plt.show()"
   ]
  },
  {
   "cell_type": "markdown",
   "metadata": {},
   "source": [
    "Displays number of items purchased per month."
   ]
  },
  {
   "cell_type": "code",
   "execution_count": 17,
   "metadata": {
    "collapsed": true
   },
   "outputs": [],
   "source": [
    "def income_per_month():\n",
    "    conv = get_data('../../fb2015/conversions.csv')\n",
    "    conv['month'] = pd.DatetimeIndex(conv['timestamp']).month\n",
    "    conv['year'] = pd.DatetimeIndex(conv['timestamp']).year\n",
    "    conv_per_yearmonth = conv.groupby(['year', 'month'])['price'].sum()\n",
    "    conv_per_yearmonth = conv_per_yearmonth.sort_index()\n",
    "    conv_per_yearmonth.plot()\n",
    "    plt.show()"
   ]
  },
  {
   "cell_type": "markdown",
   "metadata": {},
   "source": [
    "Displays income per month."
   ]
  },
  {
   "cell_type": "code",
   "execution_count": 18,
   "metadata": {
    "collapsed": false
   },
   "outputs": [],
   "source": [
    "def number_of_purchases_per_user_in_the_first_week():\n",
    "    users = get_data('../../fb2015/users.csv')\n",
    "    users['week_after'] = pd.DatetimeIndex(users['signupTime'])+pd.Timedelta(days=7)\n",
    "    \n",
    "    conv = get_data('../../fb2015/conversions.csv')\n",
    "    conv['timestamp'] = pd.DatetimeIndex(conv['timestamp'])\n",
    "    \n",
    "    joined = pd.merge(users, conv, left_on='userId', right_on='userId', how='inner')\n",
    "    conversions_per_user_in_the_first_week = joined[joined['timestamp'] <= joined['week_after']].groupby('userId')['quantity'].sum()\n",
    "    \n",
    "    conversions_per_user_in_the_first_week.plot(kind='bar')\n",
    "    plt.show()"
   ]
  },
  {
   "cell_type": "markdown",
   "metadata": {},
   "source": [
    "Displays number of items purchased during the first week after signing in."
   ]
  },
  {
   "cell_type": "code",
   "execution_count": 19,
   "metadata": {
    "collapsed": false
   },
   "outputs": [],
   "source": [
    "number_of_purchases_per_user_in_the_first_week()"
   ]
  },
  {
   "cell_type": "code",
   "execution_count": 20,
   "metadata": {
    "collapsed": true
   },
   "outputs": [],
   "source": [
    "#conversions_per_user = conv.groupby(['userId'])['timestamp', 'quantity']\n",
    "#print(conversions_per_user_in_the_first_week)\n",
    "#pd.DatetimeIndex(users['signupTime']).month\n",
    "#users['month'] = pd.DatetimeIndex(users['signupTime']).month\n",
    "#users['year'] = pd.DatetimeIndex(users['signupTime']).year\n",
    "#print(users)\n",
    "\n",
    "#conv['month'] = pd.DatetimeIndex(conv['timestamp']).month\n",
    "#conv['year'] = pd.DatetimeIndex(conv['timestamp']).year\n",
    "\n",
    "#conversions_per_user = pd.concat([users, conv], axis=1, join='inner')\n",
    "\n",
    "\n",
    "#conversions_per_user = pd.concat([users, conv], axis=1, join='inner')\n",
    "\n",
    "#conversions_per_user = conv[conv.timestamp < users.signupTime]\n",
    "\n",
    "#for x in conversions_per_user:\n",
    "#    print(x)\n",
    "#print(conversions_per_yearmonth)\n",
    "\n",
    "#conv = get_data('fb2015/conversions_part.csv')\n",
    "#users = get_data('fb2015/users_part.csv')\n",
    "#result = pd.concat([users, conv], axis=1, join='inner')\n",
    "\n",
    "#data = get_data('fb2015/users.csv')\n",
    "#data['signupTime'] = pd.to_datetime(data['signupTime'])#month\n",
    "#data['yearmonth'] = data['signupTime'].apply(lambda x: getYearMonth(x))\n",
    "#data.set_index(['signupTime'])\n",
    "#print(data['signupTime'].month)\n",
    "#ts = data.groupby(['yearmonth'].sum()#groupby([lambda x: x.year, lambda x: x.month]).sum()\n",
    "#ts.plot()\n",
    "#plt.show() \n",
    "#print(ts)\n",
    "#dates.groupby()\n",
    "#\n",
    "#print(data['yearmonth'])\n",
    "#ts = data['yearmonth'].cumsum()\n",
    "#ts = data['signupTime'].groupby([lambda x: x.year, lambda x: x.month]).sum()\n",
    "#df = pandas.DataFrame(np.random.randn(100, 4), columns=list('ABCD'))\n",
    "\n",
    "#In [120]: rows = random.sample(df.index, 10)\n",
    "#rindex =  np.array(sample(xrange(len(data)), 10))\n",
    "#rows = random.sample(data.index, 10)\n",
    "\n",
    "#data = data.ix[rows]\n",
    "\n",
    "# get 10 random rows from df\n",
    "#data = data.ix[rindex]"
   ]
  }
 ],
 "metadata": {
  "kernelspec": {
   "display_name": "Python 3",
   "language": "python",
   "name": "python3"
  },
  "language_info": {
   "codemirror_mode": {
    "name": "ipython",
    "version": 3
   },
   "file_extension": ".py",
   "mimetype": "text/x-python",
   "name": "python",
   "nbconvert_exporter": "python",
   "pygments_lexer": "ipython3",
   "version": "3.5.0"
  }
 },
 "nbformat": 4,
 "nbformat_minor": 0
}
