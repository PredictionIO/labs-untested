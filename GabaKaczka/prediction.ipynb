{
 "cells": [
  {
   "cell_type": "code",
   "execution_count": 1,
   "metadata": {
    "collapsed": false
   },
   "outputs": [],
   "source": [
    "import math\n",
    "import statistics\n",
    "import numpy\n",
    "import csv\n",
    "import scipy as sp\n",
    "from scipy import interpolate\n",
    "from scipy.stats import poisson\n",
    "from scipy.stats import norm\n",
    "import pandas as pd\n",
    "import numpy as np\n",
    "import matplotlib.pyplot as plt\n",
    "import random\n",
    "import seaborn as sns\n",
    "import pylab\n",
    "from scipy.stats import kendalltau\n",
    "import matplotlib\n",
    "from matplotlib.ticker import FuncFormatter, MultipleLocator\n",
    "import matplotlib.cm as cm\n",
    "from matplotlib.widgets import Slider\n",
    "from matplotlib.ticker import FuncFormatter\n",
    "import matplotlib.ticker as ticker\n",
    "import plotly.plotly as py\n",
    "import cufflinks as cf\n",
    "import plotly.graph_objs as go\n",
    "from scipy.stats import invgamma\n",
    "py.sign_in('PythonAPI', 'ubpiol2cve')"
   ]
  },
  {
   "cell_type": "code",
   "execution_count": 7,
   "metadata": {
    "collapsed": false
   },
   "outputs": [],
   "source": [
    "global_users = pd.read_csv('../../fb2015/users.csv', header=None)#.sample(frac=0.01)\n",
    "global_users.columns = ['userId', 'registerCountry', 'signupTime']\n",
    "global_conv = pd.read_csv('../../fb2015/conversions.csv', header=None)#.sample(frac=0.01)\n",
    "global_conv.columns = ['userId', 'itemId', 'price', 'quantity', 'timestamp']\n",
    "global_items = pd.read_csv('../../fb2015/items.csv', header=None)#.sample(frac=0.01)\n",
    "global_items.columns = ['itemId', 'style', 'personality', 'color', 'theme', 'price', 'category']\n",
    "global_users_ads = pd.read_csv('../../fb2015/users_ads.csv', header=None)#.sample(frac=0.01)\n",
    "global_users_ads.columns = ['userId', 'utmSource', 'utmCampaign', 'utmMedium', 'utmTerm', 'utmContent']"
   ]
  },
  {
   "cell_type": "markdown",
   "metadata": {},
   "source": [
    "Obtains data from files."
   ]
  },
  {
   "cell_type": "code",
   "execution_count": 2,
   "metadata": {
    "collapsed": true
   },
   "outputs": [],
   "source": [
    "def drop_nulls(table, columns):\n",
    "    table = table.dropna(subset=columns)\n",
    "    for col in columns:\n",
    "        table = table[~table[col].isin(['None'])]\n",
    "    return table"
   ]
  },
  {
   "cell_type": "markdown",
   "metadata": {},
   "source": [
    "Drops NaN, None values from given data."
   ]
  },
  {
   "cell_type": "code",
   "execution_count": null,
   "metadata": {
    "collapsed": false
   },
   "outputs": [],
   "source": [
    "def number_of_new_users_per_month():\n",
    "    users = drop_nulls(global_users, ['signupTime', 'userId'])\n",
    "\n",
    "    users['month'] = pd.DatetimeIndex(users['signupTime']).month\n",
    "    users['year'] = pd.DatetimeIndex(users['signupTime']).year\n",
    "\n",
    "    grouped = users.groupby(['year', 'month'])['userId'].count()\n",
    "    sortedd = grouped.sort_index()\n",
    "\n",
    "    ax = sortedd.plot(kind='bar')\n",
    "\n",
    "    ax.set_xlabel('Month')\n",
    "    ax.set_ylabel('Number of new users')\n",
    "    ax.set_title(\"Number of new users per month.\", fontsize=18)\n",
    "\n",
    "    plt.xticks(rotation=70)\n",
    "    plt.tight_layout()\n",
    "    plt.show()"
   ]
  },
  {
   "cell_type": "markdown",
   "metadata": {},
   "source": [
    "Displays number of newly registered users per month."
   ]
  },
  {
   "cell_type": "code",
   "execution_count": null,
   "metadata": {
    "collapsed": false
   },
   "outputs": [],
   "source": [
    "def number_of_conversions_per_month():\n",
    "    conv = drop_nulls(global_conv, ['timestamp'])\n",
    "\n",
    "    conv['month'] = pd.DatetimeIndex(conv['timestamp']).month\n",
    "    conv['year'] = pd.DatetimeIndex(conv['timestamp']).year\n",
    "\n",
    "    grouped = conv.groupby(['year', 'month']).count()\n",
    "    sortedd = grouped.sort_index()\n",
    "\n",
    "    ax = sortedd.plot(legend=None)\n",
    "    ax.set_xlabel('Month')\n",
    "    ax.set_ylabel('Number of conversions')\n",
    "    ax.set_title(\"Number of conversions per month.\", fontsize=18)\n",
    "\n",
    "    plt.xticks(rotation=70)\n",
    "    plt.tight_layout()\n",
    "\n",
    "    plt.show()"
   ]
  },
  {
   "cell_type": "markdown",
   "metadata": {},
   "source": [
    "Displays number of conversions per month."
   ]
  },
  {
   "cell_type": "code",
   "execution_count": null,
   "metadata": {
    "collapsed": true
   },
   "outputs": [],
   "source": [
    "def number_of_items_purchased_per_month():\n",
    "    conv = drop_nulls(global_conv, ['timestamp', 'quantity'])\n",
    "\n",
    "    conv['month'] = pd.DatetimeIndex(conv['timestamp']).month\n",
    "    conv['year'] = pd.DatetimeIndex(conv['timestamp']).year\n",
    "\n",
    "    grouped = conv.groupby(['year', 'month'])['quantity'].sum()\n",
    "    sortedd = grouped.sort_index()\n",
    "\n",
    "    ax = sortedd.plot(kind='bar')\n",
    "    ax.set_xlabel('Month')\n",
    "    ax.set_ylabel('Number of items')\n",
    "    ax.set_title(\"Number of items purchased per month.\", fontsize=18)\n",
    "\n",
    "    plt.xticks(rotation=70)\n",
    "    plt.tight_layout()\n",
    "\n",
    "    plt.show()"
   ]
  },
  {
   "cell_type": "markdown",
   "metadata": {},
   "source": [
    "Displays number of items purchased per month."
   ]
  },
  {
   "cell_type": "code",
   "execution_count": 61,
   "metadata": {
    "collapsed": false
   },
   "outputs": [],
   "source": [
    "def revenue_per_month():\n",
    "    conv = drop_nulls(global_conv, ['timestamp', 'price'])\n",
    "\n",
    "    conv['month'] = pd.DatetimeIndex(conv['timestamp']).month\n",
    "    conv['year'] = pd.DatetimeIndex(conv['timestamp']).year\n",
    "    grouped = conv.groupby(['year', 'month'])['price'].sum()\n",
    "    sortedd = grouped.sort_index()\n",
    "\n",
    "    ax = sortedd.plot() \n",
    "    ax.set_xlabel('Month')\n",
    "    ax.set_ylabel('Revenue')\n",
    "    ax.set_title(\"Revenue per month.\", fontsize=18)\n",
    "\n",
    "    plt.xticks(rotation=70)\n",
    "    plt.tight_layout()\n",
    "\n",
    "    plt.show()"
   ]
  },
  {
   "cell_type": "markdown",
   "metadata": {},
   "source": [
    "Displays income per month."
   ]
  },
  {
   "cell_type": "code",
   "execution_count": 6,
   "metadata": {
    "collapsed": false
   },
   "outputs": [
    {
     "name": "stderr",
     "output_type": "stream",
     "text": [
      "/home/gaba/anaconda3/lib/python3.5/site-packages/numpy/lib/arraysetops.py:379: FutureWarning:\n",
      "\n",
      "elementwise comparison failed; returning scalar instead, but in the future will perform elementwise comparison\n",
      "\n"
     ]
    }
   ],
   "source": [
    "def number_of_items_purchased_per_user_in_the_first_week_after_registration_histogram():\n",
    "    #does not include users without purchase in the first week after registration\n",
    "    users = drop_nulls(global_users, ['userId', 'signupTime'])\n",
    "    conv = drop_nulls(global_conv, ['userId', 'quantity', 'timestamp'])\n",
    "\n",
    "    users['signupTime'] =  pd.DatetimeIndex(users['signupTime'])\n",
    "    users['week_after'] = pd.DatetimeIndex(users['signupTime'])+pd.Timedelta(days=7)\n",
    "    conv['timestamp'] = pd.DatetimeIndex(conv['timestamp'])\n",
    "\n",
    "    joined = pd.merge(users, conv, left_on='userId', right_on='userId', how='inner')\n",
    "    grouped = joined[joined['timestamp'] <= joined['week_after']].groupby('userId')['quantity'].sum()\n",
    "\n",
    "    bins = range(1, max(grouped.values)+2)\n",
    "    #bins = bins[0::10]\n",
    "\n",
    "    fig = plt.figure()\n",
    "    ax = fig.add_subplot(111)\n",
    "\n",
    "    ax.hist(grouped.values, bins=bins, align=\"left\", facecolor='green', label='Histogram of the data') \n",
    "\n",
    "    ax.set_xlabel('Bins')\n",
    "    ax.set_ylabel('Quantity')\n",
    "    ax.set_title(\"Histogram: number of items purchased per user in the first week after registration (does not include users without purchase).\", fontsize=18)\n",
    "\n",
    "    plt.show()"
   ]
  },
  {
   "cell_type": "markdown",
   "metadata": {},
   "source": [
    "Displays number of items purchased during the first week after signing in grouped into bins."
   ]
  },
  {
   "cell_type": "code",
   "execution_count": 4,
   "metadata": {
    "collapsed": false
   },
   "outputs": [],
   "source": [
    "def number_of_items_purchased_from_particular_category_grouped_by_country(category):\n",
    "    category = 2346301904   \n",
    "    conv = drop_nulls(global_conv, ['quantity'])\n",
    "    items = drop_nulls(global_items, ['category'])\n",
    "    users = drop_nulls(global_users, ['registerCountry'])\n",
    "\n",
    "    joined_items_conv = pd.merge(items, conv, left_on='itemId', right_on='itemId', how='inner')\n",
    "    joined = pd.merge(joined_items_conv, users, left_on='userId', right_on='userId', how='inner')\n",
    "\n",
    "    filtered = joined[joined['category']==category]\n",
    "    grouped = filtered.groupby('registerCountry')['quantity'].sum()\n",
    "\n",
    "    ax = grouped.plot(kind='bar')\n",
    "    ax.set_xlabel('Category')\n",
    "    ax.set_ylabel('Quantity')\n",
    "    ax.set_title(\"Number of items from \"+str(category)+\" category, grouped by country.\", fontsize=18)\n",
    "\n",
    "    plt.xticks(rotation=70)\n",
    "    plt.tight_layout()\n",
    "    plt.show()"
   ]
  },
  {
   "cell_type": "markdown",
   "metadata": {},
   "source": [
    "Displays number of items from particular category purchased by people from all countries."
   ]
  },
  {
   "cell_type": "code",
   "execution_count": null,
   "metadata": {
    "collapsed": false
   },
   "outputs": [],
   "source": [
    "def number_of_items_purchased_in_particular_country_grouped_by_category(country):\n",
    "    country = 'United States'\n",
    "    conv = drop_nulls(global_conv, ['quantity'])\n",
    "    items = drop_nulls(global_items, ['category'])\n",
    "    users = drop_nulls(global_users, ['registerCountry'])\n",
    "\n",
    "    joined_items_conv = pd.merge(items, conv, left_on='itemId', right_on='itemId', how='inner')\n",
    "    joined = pd.merge(joined_items_conv, users, left_on='userId', right_on='userId', how='inner')\n",
    "\n",
    "    filtered = joined[joined['registerCountry']==country]\n",
    "    grouped = filtered.groupby('category')['quantity'].sum()\n",
    "\n",
    "    ax = grouped.plot(kind='bar')\n",
    "    ax.set_xlabel('Category')\n",
    "    ax.set_ylabel('Quantity')\n",
    "    ax.set_title(\"Number of items purchased in \" + country + \", grouped by category.\", fontsize=18)\n",
    "\n",
    "    plt.xticks(rotation=70)\n",
    "    plt.tight_layout()\n",
    "    plt.show()"
   ]
  },
  {
   "cell_type": "markdown",
   "metadata": {},
   "source": [
    "Displays number of items from all cattegories purchased in particular country."
   ]
  },
  {
   "cell_type": "code",
   "execution_count": 15,
   "metadata": {
    "collapsed": false
   },
   "outputs": [],
   "source": [
    "def number_of_purchased_items_grouped_by_categories_in_all_countries():\n",
    "    conv = drop_nulls(global_conv, ['quantity'])\n",
    "    items = drop_nulls(global_items, ['category'])\n",
    "    users = drop_nulls(global_users, ['registerCountry'])\n",
    "\n",
    "    joined_items_conv = pd.merge(items, conv, left_on='itemId', right_on='itemId', how='inner')\n",
    "    joined = pd.merge(joined_items_conv, users, left_on='userId', right_on='userId', how='inner')\n",
    "\n",
    "    y_labels = []\n",
    "    x_labels = []\n",
    "    y_ticks = []\n",
    "    x_ticks = []\n",
    "\n",
    "    for i, row in enumerate(joined['registerCountry'].unique()):\n",
    "        y_labels.append(row)\n",
    "        y_ticks.append(i)\n",
    "\n",
    "    for i, row in enumerate(joined['category'].unique()):\n",
    "        x_labels.append(row)\n",
    "        x_ticks.append(i)\n",
    "\n",
    "    fig = plt.figure()\n",
    "    ax = fig.add_subplot(1, 1, 1)\n",
    "\n",
    "    for j, country in enumerate(y_labels):\n",
    "        r = np.random.rand(1)\n",
    "        color = cm.rainbow(np.linspace(r, r+1, 1))       \n",
    "        for i, category in enumerate(x_labels):\n",
    "            countryFiltered = joined[joined['registerCountry']==country]\n",
    "            filtered = countryFiltered[countryFiltered['category']==category]\n",
    "            area=filtered['quantity'].sum()\n",
    "            ax.scatter(x=i, y=j, s=area, c=color, alpha=0.7)  \n",
    "\n",
    "    ax.set(xticks=range(len(x_labels)), xticklabels=x_labels,\n",
    "       yticks=range(len(y_labels)), yticklabels=y_labels)\n",
    "\n",
    "    ax.set_xlabel('Category')\n",
    "    ax.set_ylabel('Country')\n",
    "    ax.set_title('Sum of purchased items, grouped by country and category.', fontsize=18)\n",
    "\n",
    "    plt.tick_params(axis='x')\n",
    "    plt.xticks(rotation=90)\n",
    "    plt.tight_layout()\n",
    "\n",
    "    plt.show()"
   ]
  },
  {
   "cell_type": "markdown",
   "metadata": {},
   "source": [
    "Displays general view on sum of purchased items grouped by country and category."
   ]
  },
  {
   "cell_type": "code",
   "execution_count": 12,
   "metadata": {
    "collapsed": false
   },
   "outputs": [],
   "source": [
    "def number_of_purchased_items_after_seeing_campaigns_grouped_by_categories():\n",
    "    #plot generated on random 0.15 of the data\n",
    "    conv = drop_nulls(global_conv, ['timestamp'])\n",
    "    users_ads = drop_nulls(global_users_ads, ['utmCampaign'])\n",
    "    users = drop_nulls(global_users, ['signupTime'])\n",
    "    items = drop_nulls(global_items, ['category'])\n",
    "\n",
    "    users['week_after'] = pd.DatetimeIndex(users['signupTime'])+pd.Timedelta(days=7)\n",
    "    conv['timestamp'] = pd.DatetimeIndex(conv['timestamp'])\n",
    "\n",
    "    joined = pd.merge(users, users_ads, left_on='userId', right_on='userId', how='inner')\n",
    "    joined = pd.merge(joined, conv, left_on='userId', right_on='userId', how='inner')\n",
    "    joined = pd.merge(joined, items, left_on='itemId', right_on='itemId', how='inner')\n",
    "\n",
    "    filtered = joined[joined['timestamp'] <= joined['week_after']]\n",
    "\n",
    "    y_labels = []\n",
    "    x_labels = []\n",
    "    y_ticks = []\n",
    "    x_ticks = []\n",
    "    x = []\n",
    "    y = []\n",
    "\n",
    "    for i, row in enumerate(filtered['utmCampaign'].unique()):\n",
    "        y_labels.append(row)\n",
    "        y_ticks.append(i)\n",
    "        y.append(i)\n",
    "\n",
    "    for i, row in enumerate(filtered['category'].unique()):\n",
    "        x_labels.append(row)\n",
    "        x_ticks.append(i)\n",
    "        x.append(i)\n",
    "\n",
    "    fig = plt.figure()\n",
    "    ax = fig.add_subplot(1, 1, 1)\n",
    "\n",
    "    for j, utmCampaign in enumerate(y_labels):\n",
    "        r = np.random.rand(1)\n",
    "        color = cm.rainbow(np.linspace(r, r+1, 1))       \n",
    "        for i, category in enumerate(x_labels):\n",
    "            utmCampaignFiltered = filtered[filtered['utmCampaign']==utmCampaign]\n",
    "            categoryFiltered = utmCampaignFiltered[utmCampaignFiltered['category']==category]\n",
    "            area=categoryFiltered['quantity'].sum()\n",
    "            ax.scatter(x=i, y=j, s=area, c=color, alpha=0.7)  \n",
    "\n",
    "    ax.set(xticks=range(len(x_labels)), xticklabels=x_labels,\n",
    "       yticks=range(len(y_labels)), yticklabels=y_labels)\n",
    "\n",
    "    ax.set_xlabel('Category')\n",
    "    ax.set_ylabel('utmCampaign')\n",
    "    ax.set_title('Sum of purchased items in the first week after signing in, grouped by campaigns and category.', fontsize=18)\n",
    "\n",
    "    plt.tick_params(axis='x', labelsize=8)\n",
    "    plt.xticks(rotation=70)\n",
    "    plt.tight_layout()\n",
    "\n",
    "    plt.show()"
   ]
  },
  {
   "cell_type": "markdown",
   "metadata": {},
   "source": [
    "Displays general view on sum of purchased items in the first week after signing in, connected with campaigns being seen, grouped by category and campaign."
   ]
  },
  {
   "cell_type": "code",
   "execution_count": 2,
   "metadata": {
    "collapsed": false
   },
   "outputs": [],
   "source": [
    "def average_number_of_purchased_items_during_the_first_month_after_signing_in():\n",
    "    conv = drop_nulls(global_conv, ['timestamp', 'quantity'])\n",
    "    users = drop_nulls(global_users, ['signupTime', 'userId'])\n",
    "\n",
    "    users['signupTime'] = pd.DatetimeIndex(users['signupTime'])\n",
    "    conv['timestamp'] = pd.DatetimeIndex(conv['timestamp'])\n",
    "\n",
    "    joined = pd.merge(users, conv, left_on='userId', right_on='userId', how='inner')\n",
    "    joined['purchase_day'] = pd.to_timedelta(joined['timestamp'])-pd.to_timedelta(joined['signupTime'])\n",
    "\n",
    "    filtered = joined[joined['purchase_day']>=pd.Timedelta(days=0)]\n",
    "    filtered = filtered[filtered['purchase_day']<pd.Timedelta(days=30)]\n",
    "    filtered['purchase_day'] = pd.DatetimeIndex(filtered['purchase_day']).day\n",
    "\n",
    "    aver = filtered.groupby(['purchase_day', 'userId'])['quantity'].sum()\n",
    "\n",
    "    summ = [0 for x in range(0,31)]\n",
    "    countt = [0 for x in range(0,31)]\n",
    "    average = [0 for x in range(0,31)]\n",
    "\n",
    "    for x in aver.iteritems():\n",
    "        day = x[0][0]\n",
    "        quantitySum = x[1]\n",
    "        summ[day] += quantitySum\n",
    "        countt[day] += 1\n",
    "\n",
    "    for y in range(0, 31):\n",
    "        if countt[y] != 0:\n",
    "            average[y] = summ[y]/countt[y]\n",
    "\n",
    "    ax = sns.barplot(y=average, x=[i for i in range(0, 31)])\n",
    "    ax.set_xlabel('Day after signing in')\n",
    "    ax.set_ylabel('Average quantity')\n",
    "    ax.set_title('Average sum of purchases (quantities) during first month after signing in.', fontsize=18)\n",
    "\n",
    "    plt.tick_params(axis='x', labelsize=8)\n",
    "    plt.tight_layout()\n",
    "\n",
    "    plt.show()"
   ]
  },
  {
   "cell_type": "markdown",
   "metadata": {},
   "source": [
    "Displays average sum of purchases during first month after signing in."
   ]
  },
  {
   "cell_type": "code",
   "execution_count": 32,
   "metadata": {
    "collapsed": false
   },
   "outputs": [
    {
     "name": "stdout",
     "output_type": "stream",
     "text": [
      "https://plot.ly/~PythonAPI/272\n"
     ]
    },
    {
     "name": "stderr",
     "output_type": "stream",
     "text": [
      "/home/gaba/anaconda3/lib/python3.5/site-packages/plotly/plotly/plotly.py:236: UserWarning:\n",
      "\n",
      "Woah there! Look at all those points! Due to browser limitations, the Plotly SVG drawing functions have a hard time graphing more than 500k data points for line charts, or 40k points for other types of charts. Here are some suggestions:\n",
      "(1) Use the `plotly.graph_objs.Scattergl` trace object to generate a WebGl graph.\n",
      "(2) Trying using the image API to return an image instead of a graph URL\n",
      "(3) Use matplotlib\n",
      "(4) See if you can create your visualization with fewer data points\n",
      "\n",
      "If the visualization you're using aggregates points (e.g., box plot, histogram, etc.) you can disregard this warning.\n",
      "\n"
     ]
    }
   ],
   "source": [
    "def histogram_number_of_purchases_per_user_during_first_week_and_month():\n",
    "\n",
    "    users = drop_nulls(global_users, ['signupTime'])\n",
    "    conv = drop_nulls(global_conv, ['timestamp', 'quantity'])\n",
    "\n",
    "    users['signupTime'] =  pd.DatetimeIndex(users['signupTime'])\n",
    "    users['week_after'] = pd.DatetimeIndex(users['signupTime'])+pd.Timedelta(days=7)\n",
    "    users['month_after'] = pd.DatetimeIndex(users['signupTime'])+pd.Timedelta(days=30)\n",
    "    conv['timestamp'] = pd.DatetimeIndex(conv['timestamp'])\n",
    "\n",
    "    joined = pd.merge(users, conv, left_on='userId', right_on='userId', how='inner')\n",
    "    week_filtered = joined[joined['timestamp'] <= joined['week_after']]\n",
    "    month_filtered = joined[joined['timestamp'] <= joined['month_after']]\n",
    "    week_grouped = week_filtered.groupby('userId')['quantity'].sum()\n",
    "    month_grouped = month_filtered.groupby('userId')['quantity'].sum()\n",
    "\n",
    "    week_values = [0] * len(joined[~joined['userId'].isin(week_filtered['userId'].unique())].groupby('userId'))\n",
    "    week_values.extend(week_grouped.values)\n",
    "    month_values = [0] * len(joined[~joined['userId'].isin(month_filtered['userId'].unique())].groupby('userId'))\n",
    "    month_values.extend(month_grouped.values)\n",
    "\n",
    "    FirstMonth = go.Histogram(\n",
    "        x=month_values,\n",
    "        opacity=0.75\n",
    "    )\n",
    "    FirstWeek = go.Histogram(\n",
    "        x=week_values,\n",
    "        opacity=0.75\n",
    "    )\n",
    "    data = [FirstWeek, FirstMonth]\n",
    "    layout = go.Layout(\n",
    "        barmode='overlay',\n",
    "        title='Histogram: number of purchases per user during first week and first month after registration',\n",
    "            xaxis=dict(\n",
    "                title='Bins',\n",
    "                titlefont=dict(\n",
    "                    family='Courier New, monospace',\n",
    "                    size=18,\n",
    "                    color='#7f7f7f'\n",
    "                )\n",
    "            ),\n",
    "            yaxis=dict(\n",
    "                title='Quantity',\n",
    "                titlefont=dict(\n",
    "                    family='Courier New, monospace',\n",
    "                    size=18,\n",
    "                    color='#7f7f7f'\n",
    "                )\n",
    "            )\n",
    "        )\n",
    "    fig = go.Figure(data=data, layout=layout)\n",
    "    plot_url = py.plot(fig, filename='overlaid-histogram')\n",
    "    print(plot_url)"
   ]
  },
  {
   "cell_type": "markdown",
   "metadata": {},
   "source": [
    "Shows distribution of how many items users have bought during first week after sign up."
   ]
  },
  {
   "cell_type": "code",
   "execution_count": 17,
   "metadata": {
    "collapsed": false
   },
   "outputs": [
    {
     "name": "stderr",
     "output_type": "stream",
     "text": [
      "/home/gaba/anaconda3/lib/python3.5/site-packages/numpy/lib/arraysetops.py:379: FutureWarning:\n",
      "\n",
      "elementwise comparison failed; returning scalar instead, but in the future will perform elementwise comparison\n",
      "\n",
      "/home/gaba/anaconda3/lib/python3.5/site-packages/matplotlib/__init__.py:892: UserWarning:\n",
      "\n",
      "axes.color_cycle is deprecated and replaced with axes.prop_cycle; please use the latter.\n",
      "\n"
     ]
    }
   ],
   "source": [
    "def probability_of_purchase_during_the_first_month_after_registration():\n",
    "    conv = drop_nulls(global_conv, ['timestamp', 'quantity'])\n",
    "    users = drop_nulls(global_users, ['signupTime'])\n",
    "\n",
    "    users['signupTime'] = pd.DatetimeIndex(users['signupTime'])\n",
    "    conv['timestamp'] = pd.DatetimeIndex(conv['timestamp'])\n",
    "\n",
    "    joined = pd.merge(users, conv, left_on='userId', right_on='userId', how='inner')\n",
    "    joined['purchase_day'] = pd.to_timedelta(joined['timestamp'])-pd.to_timedelta(joined['signupTime'])\n",
    "\n",
    "    nr_of_users = len(joined.groupby(['userId']))\n",
    "\n",
    "    filtered = joined[joined['purchase_day']>=pd.Timedelta(days=0)]\n",
    "    filtered = filtered[filtered['purchase_day']<pd.Timedelta(days=30)]\n",
    "    filtered['purchase_day'] = pd.DatetimeIndex(filtered['purchase_day']).day\n",
    "\n",
    "    purch = filtered.groupby(['purchase_day'])['userId'].count()\n",
    "    probabil = [0 for x in range(0,31)]\n",
    "\n",
    "    for x in purch.iteritems():\n",
    "        day = x[0]\n",
    "        probabil[day] = x[1]/nr_of_users\n",
    "\n",
    "    ax = sns.barplot(y=probabil, x=[i for i in range(0, 31)])\n",
    "    ax.set_xlabel('Day after registration')\n",
    "    ax.set_ylabel('Probability (sum of purchases/number of users who have at least one purchase)')\n",
    "    ax.set_title('Probability of purchase during the first month after registration', fontsize=18)\n",
    "\n",
    "    plt.tick_params(axis='x', labelsize=8)\n",
    "    plt.tight_layout()\n",
    "\n",
    "    plt.show()"
   ]
  },
  {
   "cell_type": "markdown",
   "metadata": {},
   "source": [
    "Shows how probable is user's purchase during the first month after sign up."
   ]
  },
  {
   "cell_type": "code",
   "execution_count": 106,
   "metadata": {
    "collapsed": true
   },
   "outputs": [],
   "source": [
    "def to_percent(y, position):\n",
    "    s = str(y)\n",
    "    if matplotlib.rcParams['text.usetex'] is True:\n",
    "        return s + r'$\\%$'\n",
    "    else:\n",
    "        return s + '%'"
   ]
  },
  {
   "cell_type": "code",
   "execution_count": 60,
   "metadata": {
    "collapsed": false
   },
   "outputs": [
    {
     "name": "stdout",
     "output_type": "stream",
     "text": [
      "range(0, 3088)\n",
      "range(0, 3088, 10)\n"
     ]
    }
   ],
   "source": [
    "def h_pd_igd_weekly_user_count_of_purchases():\n",
    "    conv = drop_nulls(global_conv, ['timestamp'])\n",
    "\n",
    "    conv['week'] = pd.DatetimeIndex(conv['timestamp']).week\n",
    "    conv['year'] = pd.DatetimeIndex(conv['timestamp']).year\n",
    "\n",
    "    grouped = conv.groupby(['year', 'week'])['quantity'].sum()\n",
    "    aver = math.floor(grouped.mean())\n",
    "\n",
    "    purch_sum = sum(grouped.values)\n",
    "    mu = math.floor(grouped.mean())\n",
    "\n",
    "    counts = poisson.rvs(mu, size=100)\n",
    "    bins = range(0, max(counts)+2)\n",
    "    bins = bins[0::10]\n",
    "\n",
    "    #Histogram\n",
    "    weights=100*np.ones_like(grouped.values)/len(grouped.values)\n",
    "    ax = plt.hist(grouped.values, bins=bins, align=\"left\", histtype=\"step\", color=\"black\", label='Histogram of the data') \n",
    "\n",
    "    #Poisson Distribution\n",
    "    x = range(0,2*max(counts))\n",
    "    prob = poisson.pmf(x, mu)*100\n",
    "    plt.plot(x, prob, label='Poisson Distribution')\n",
    "\n",
    "    #Inverse Gamma Distribution\n",
    "    y = grouped.values\n",
    "    mle = math.floor(np.mean(y))\n",
    "    rv = invgamma(1)\n",
    "\n",
    "    x = np.linspace(-10, np.minimum(rv.dist.b, max(grouped.values)))\n",
    "    h = plt.plot(x, rv.pdf(x)*100000, label='Inverse Gamma Distribution')\n",
    "\n",
    "    plt.tick_params(axis='x', labelsize=8)\n",
    "    plt.legend(bbox_to_anchor=(0.7, 0.9), loc=1, borderaxespad=0.)\n",
    "    plt.title('Poisson Distribution of weekly users\\' count of purchases', fontsize=18)\n",
    "\n",
    "    ax = plt.gca()\n",
    "\n",
    "    plt.tight_layout()\n",
    "    plt.show()"
   ]
  },
  {
   "cell_type": "markdown",
   "metadata": {},
   "source": [
    "Shows histogram, Poisson Distribution and Inverse Gamma Distribution of weekly users' count of purchases."
   ]
  },
  {
   "cell_type": "code",
   "execution_count": null,
   "metadata": {
    "collapsed": false,
    "scrolled": true
   },
   "outputs": [],
   "source": [
    "#def number_of_active_users_per_month_and_number_of_registered():\n",
    "#number of active users per month\n",
    "users = global_users\n",
    "conv = drop_nulls(global_conv, ['timestamp'])\n",
    "\n",
    "conv['month'] = pd.DatetimeIndex(conv['timestamp']).month\n",
    "conv['year'] = pd.DatetimeIndex(conv['timestamp']).year\n",
    "\n",
    "joined = pd.merge(users, conv, left_on='userId', right_on='userId', how='inner')\n",
    "grouped = joined.groupby(['year', 'month'])['userId'].unique()\n",
    "\n",
    "x_labels = []\n",
    "x_ticks = []\n",
    "for i, item in enumerate(grouped.iteritems()):\n",
    "    if(item[0][0] == 0):#degenerated data (0th month)\n",
    "        continue\n",
    "    x_labels.append(str(item[0][0])+\" / \"+str(item[0][1]))\n",
    "    x_ticks.append(i)\n",
    "\n",
    "y = []\n",
    "for item in grouped.iteritems():\n",
    "    y.append(len(item[1]))\n",
    "\n",
    "fig = plt.figure()\n",
    "ax = fig.add_subplot(1, 1, 1)\n",
    "ax.set(xticks=range(len(x_labels)), xticklabels=x_labels)\n",
    "\n",
    "plt.plot(x_ticks, y)\n",
    "\n",
    "#overall number of registered users per month\n",
    "users = drop_nulls(global_users, ['signupTime', 'userId'])\n",
    "\n",
    "users['month'] = pd.DatetimeIndex(users['signupTime']).month\n",
    "users['year'] = pd.DatetimeIndex(users['signupTime']).year\n",
    "\n",
    "grouped = users.groupby(['year', 'month'])['userId'].count()\n",
    "sortedd = grouped.sort_index()\n",
    "\n",
    "for i, x in enumerate(grouped.iteritems()):\n",
    "    print(str(i)+\" \"+str(x))\n",
    "\n",
    "y =[]\n",
    "for i, x in enumerate(grouped):\n",
    "    if i != 0:\n",
    "        y.append(x+y[i-1])\n",
    "    else:\n",
    "        y.append(x)\n",
    "\n",
    "plt.plot(x_ticks, y, kind='bar')\n",
    "\n",
    "ax = plt.gca()\n",
    "ax.set_xlabel('Year and month')\n",
    "ax.set_ylabel('Quantity')\n",
    "ax.set_title('Number of active users per month and number of registered', fontsize=18)\n",
    "\n",
    "plt.xticks(rotation=70)\n",
    "plt.tight_layout()\n",
    "plt.show()"
   ]
  },
  {
   "cell_type": "markdown",
   "metadata": {},
   "source": [
    "Number of users who have at least one purchase in particular month."
   ]
  },
  {
   "cell_type": "code",
   "execution_count": 8,
   "metadata": {
    "collapsed": false
   },
   "outputs": [
    {
     "name": "stderr",
     "output_type": "stream",
     "text": [
      "/home/ducki13/anaconda3/lib/python3.5/site-packages/numpy/lib/arraysetops.py:379: FutureWarning:\n",
      "\n",
      "elementwise comparison failed; returning scalar instead, but in the future will perform elementwise comparison\n",
      "\n"
     ]
    }
   ],
   "source": [
    "#def variance_sum_of_revenue_per_user_in_each_month():\n",
    "users = drop_nulls(global_users, ['userId'])\n",
    "conv = drop_nulls(global_conv, ['timestamp'])\n",
    "\n",
    "conv['conv_month'] = pd.DatetimeIndex(conv['timestamp']).month\n",
    "conv['conv_year'] = pd.DatetimeIndex(conv['timestamp']).year\n",
    "\n",
    "users['signup_month'] = pd.DatetimeIndex(users['signupTime']).month\n",
    "users['signup_year'] = pd.DatetimeIndex(users['signupTime']).year\n",
    "\n",
    "joined = pd.merge(users, conv, left_on='userId', right_on='userId', how='inner')\n",
    "grouped = joined.groupby(['conv_year', 'conv_month', 'userId'])['price'].sum()\n",
    "grouped = grouped.sort_index()\n",
    "signup_grouped = users.groupby(['signup_year', 'signup_month'])['userId'].count()\n",
    "signup_grouped = signup_grouped.sort_index()\n",
    "for i, x in enumerate(signup_grouped):\n",
    "    if i != 0:\n",
    "        signup_grouped[i] += signup_grouped[i-1]\n",
    "\n",
    "signed = []\n",
    "for i in range(0, 3):\n",
    "    signed.append([])\n",
    "    for j in range(0, 13):\n",
    "        signed[i].append(0)\n",
    "\n",
    "for i, year_id in enumerate(signup_grouped.index.labels[0]):\n",
    "    month_id = signup_grouped.index.labels[1][i]\n",
    "    year = signup_grouped.index.levels[0][year_id]\n",
    "    month = signup_grouped.index.levels[1][month_id]\n",
    "    signed[year-2013][month] = signup_grouped[i]\n",
    "\n",
    "res = []\n",
    "for i in range(0, 3):\n",
    "    res.append([])\n",
    "    for j in range(0, 13):\n",
    "        res[i].append(0)\n",
    "\n",
    "#count variance for each month\n",
    "m = -1\n",
    "y = -1\n",
    "data = []\n",
    "values = grouped.values\n",
    "for i, year_id in enumerate(grouped.index.labels[0]):\n",
    "    month_id = grouped.index.labels[1][i]\n",
    "    year = grouped.index.levels[0][year_id]\n",
    "    month = grouped.index.levels[1][month_id]\n",
    "    if(i != 0 and (y != year or m != month)) or (i == len(grouped.index.labels[0])-1):\n",
    "        if i == len(grouped.index.labels[0])-1:\n",
    "            data.append(values[i])\n",
    "        if signed[y-2013][m] > 0:\n",
    "            if i == len(grouped.index.labels[0])-1:\n",
    "                y = year\n",
    "                m = month\n",
    "            data.extend([0] * (signed[y-2013][m] - len(data)))\n",
    "            res[y-2013][m] = statistics.variance(data)\n",
    "        data = []\n",
    "    data.append(values[i])\n",
    "    y = year\n",
    "    m = month\n",
    "\n",
    "variance = []\n",
    "labels = []                                                 \n",
    "for i in range(0, 3):\n",
    "    for j in range(0, 12):\n",
    "        variance.append(res[i][j+1])\n",
    "        labels.append(str(j+1)+\" / \"+str(i+2013))\n",
    "\n",
    "ax = sns.barplot(y=variance, x=labels)\n",
    "ax.set_xlabel('Year and month')\n",
    "ax.set_ylabel('Variance')\n",
    "ax.set_title('Variance: sum of prices of purchases for each user in each month after sign up', fontsize=18)\n",
    "\n",
    "plt.tick_params(axis='x', labelsize=10)\n",
    "plt.xticks(rotation=70)\n",
    "plt.tight_layout()\n",
    "\n",
    "plt.show()"
   ]
  },
  {
   "cell_type": "markdown",
   "metadata": {},
   "source": [
    "Shows variance in revenue among active users in each month."
   ]
  },
  {
   "cell_type": "code",
   "execution_count": 25,
   "metadata": {
    "collapsed": true
   },
   "outputs": [],
   "source": [
    "def stanDev(values):\n",
    "    length = len(values)\n",
    "    m = statistics.mean(values)\n",
    "    total_sum = 0\n",
    "    for i in range(length):\n",
    "        total_sum += (values[i]-m)**2\n",
    " \n",
    "    return math.sqrt(total_sum/length)"
   ]
  },
  {
   "cell_type": "code",
   "execution_count": 26,
   "metadata": {
    "collapsed": true
   },
   "outputs": [],
   "source": [
    "def normDistr(x, m, stDev):\n",
    "    return (math.e**((-((x-m)**2))/(2*stDev)))/(math.sqrt(stDev)*math.sqrt(2*math.pi))"
   ]
  },
  {
   "cell_type": "code",
   "execution_count": 34,
   "metadata": {
    "collapsed": false
   },
   "outputs": [],
   "source": [
    "def normal_distribution_weekly_revenue:\n",
    "    conv = drop_nulls(global_conv, ['timestamp'])\n",
    "\n",
    "    conv['year'] = pd.DatetimeIndex(conv['timestamp']).year\n",
    "    conv['week'] = pd.DatetimeIndex(conv['timestamp']).week\n",
    "\n",
    "    grouped = conv.groupby(['year', 'week'])['price'].sum()\n",
    "\n",
    "    _mean = statistics.mean(grouped.values)\n",
    "    _stDev = stanDev(grouped.values)\n",
    "\n",
    "    x = np.linspace(0,max(grouped.values)+100,100)\n",
    "    y = norm.pdf(x, loc=_mean, scale=_stDev)\n",
    "\n",
    "    pylab.plot(x,y)\n",
    "    plt.title(\"Normal Distribution of Weekly Revenue\")\n",
    "    pylab.show()"
   ]
  },
  {
   "cell_type": "markdown",
   "metadata": {
    "collapsed": true
   },
   "source": [
    "Shows normal distribution of weekly revenue."
   ]
  }
 ],
 "metadata": {
  "kernelspec": {
   "display_name": "Python 3",
   "language": "python",
   "name": "python3"
  },
  "language_info": {
   "codemirror_mode": {
    "name": "ipython",
    "version": 3
   },
   "file_extension": ".py",
   "mimetype": "text/x-python",
   "name": "python",
   "nbconvert_exporter": "python",
   "pygments_lexer": "ipython3",
   "version": "3.5.0"
  }
 },
 "nbformat": 4,
 "nbformat_minor": 0
}
