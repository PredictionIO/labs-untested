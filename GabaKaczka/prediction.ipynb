{
 "cells": [
  {
   "cell_type": "code",
   "execution_count": 25,
   "metadata": {
    "collapsed": false
   },
   "outputs": [],
   "source": [
    "import math\n",
    "import statistics\n",
    "import numpy\n",
    "import csv\n",
    "import scipy as sp\n",
    "from scipy import interpolate\n",
    "from scipy.stats import poisson\n",
    "from scipy.stats import norm\n",
    "import pandas as pd\n",
    "import numpy as np\n",
    "import matplotlib.pyplot as plt\n",
    "import random\n",
    "import seaborn as sns\n",
    "import pylab\n",
    "from scipy.stats import kendalltau\n",
    "import matplotlib\n",
    "from matplotlib.ticker import FuncFormatter, MultipleLocator\n",
    "import matplotlib.cm as cm\n",
    "from matplotlib.widgets import Slider\n",
    "from matplotlib.ticker import FuncFormatter\n",
    "import matplotlib.ticker as ticker\n",
    "import plotly.plotly as py\n",
    "import cufflinks as cf\n",
    "import plotly.graph_objs as go\n",
    "py.sign_in('PythonAPI', 'ubpiol2cve')"
   ]
  },
  {
   "cell_type": "code",
   "execution_count": 26,
   "metadata": {
    "collapsed": false
   },
   "outputs": [
    {
     "ename": "KeyboardInterrupt",
     "evalue": "",
     "output_type": "error",
     "traceback": [
      "\u001b[1;31m---------------------------------------------------------------------------\u001b[0m",
      "\u001b[1;31mKeyboardInterrupt\u001b[0m                         Traceback (most recent call last)",
      "\u001b[1;32m<ipython-input-26-6a1951e1ad6d>\u001b[0m in \u001b[0;36m<module>\u001b[1;34m()\u001b[0m\n\u001b[0;32m      5\u001b[0m \u001b[0mglobal_items\u001b[0m \u001b[1;33m=\u001b[0m \u001b[0mpd\u001b[0m\u001b[1;33m.\u001b[0m\u001b[0mread_csv\u001b[0m\u001b[1;33m(\u001b[0m\u001b[1;34m'../../fb2015/items.csv'\u001b[0m\u001b[1;33m,\u001b[0m \u001b[0mheader\u001b[0m\u001b[1;33m=\u001b[0m\u001b[1;32mNone\u001b[0m\u001b[1;33m)\u001b[0m\u001b[1;31m#.sample(frac=0.03)\u001b[0m\u001b[1;33m\u001b[0m\u001b[0m\n\u001b[0;32m      6\u001b[0m \u001b[0mglobal_items\u001b[0m\u001b[1;33m.\u001b[0m\u001b[0mcolumns\u001b[0m \u001b[1;33m=\u001b[0m \u001b[1;33m[\u001b[0m\u001b[1;34m'itemId'\u001b[0m\u001b[1;33m,\u001b[0m \u001b[1;34m'style'\u001b[0m\u001b[1;33m,\u001b[0m \u001b[1;34m'personality'\u001b[0m\u001b[1;33m,\u001b[0m \u001b[1;34m'color'\u001b[0m\u001b[1;33m,\u001b[0m \u001b[1;34m'theme'\u001b[0m\u001b[1;33m,\u001b[0m \u001b[1;34m'price'\u001b[0m\u001b[1;33m,\u001b[0m \u001b[1;34m'category'\u001b[0m\u001b[1;33m]\u001b[0m\u001b[1;33m\u001b[0m\u001b[0m\n\u001b[1;32m----> 7\u001b[1;33m \u001b[0mglobal_users_ads\u001b[0m \u001b[1;33m=\u001b[0m \u001b[0mpd\u001b[0m\u001b[1;33m.\u001b[0m\u001b[0mread_csv\u001b[0m\u001b[1;33m(\u001b[0m\u001b[1;34m'../../fb2015/users_ads.csv'\u001b[0m\u001b[1;33m,\u001b[0m \u001b[0mheader\u001b[0m\u001b[1;33m=\u001b[0m\u001b[1;32mNone\u001b[0m\u001b[1;33m)\u001b[0m\u001b[1;31m#.sample(frac=0.03)\u001b[0m\u001b[1;33m\u001b[0m\u001b[0m\n\u001b[0m\u001b[0;32m      8\u001b[0m \u001b[0mglobal_users_ads\u001b[0m\u001b[1;33m.\u001b[0m\u001b[0mcolumns\u001b[0m \u001b[1;33m=\u001b[0m \u001b[1;33m[\u001b[0m\u001b[1;34m'userId'\u001b[0m\u001b[1;33m,\u001b[0m \u001b[1;34m'utmSource'\u001b[0m\u001b[1;33m,\u001b[0m \u001b[1;34m'utmCampaign'\u001b[0m\u001b[1;33m,\u001b[0m \u001b[1;34m'utmMedium'\u001b[0m\u001b[1;33m,\u001b[0m \u001b[1;34m'utmTerm'\u001b[0m\u001b[1;33m,\u001b[0m \u001b[1;34m'utmContent'\u001b[0m\u001b[1;33m]\u001b[0m\u001b[1;33m\u001b[0m\u001b[0m\n",
      "\u001b[1;32m/home/gaba/anaconda3/lib/python3.5/site-packages/pandas/io/parsers.py\u001b[0m in \u001b[0;36mparser_f\u001b[1;34m(filepath_or_buffer, sep, dialect, compression, doublequote, escapechar, quotechar, quoting, skipinitialspace, lineterminator, header, index_col, names, prefix, skiprows, skipfooter, skip_footer, na_values, true_values, false_values, delimiter, converters, dtype, usecols, engine, delim_whitespace, as_recarray, na_filter, compact_ints, use_unsigned, low_memory, buffer_lines, warn_bad_lines, error_bad_lines, keep_default_na, thousands, comment, decimal, parse_dates, keep_date_col, dayfirst, date_parser, memory_map, float_precision, nrows, iterator, chunksize, verbose, encoding, squeeze, mangle_dupe_cols, tupleize_cols, infer_datetime_format, skip_blank_lines)\u001b[0m\n\u001b[0;32m    489\u001b[0m                     skip_blank_lines=skip_blank_lines)\n\u001b[0;32m    490\u001b[0m \u001b[1;33m\u001b[0m\u001b[0m\n\u001b[1;32m--> 491\u001b[1;33m         \u001b[1;32mreturn\u001b[0m \u001b[0m_read\u001b[0m\u001b[1;33m(\u001b[0m\u001b[0mfilepath_or_buffer\u001b[0m\u001b[1;33m,\u001b[0m \u001b[0mkwds\u001b[0m\u001b[1;33m)\u001b[0m\u001b[1;33m\u001b[0m\u001b[0m\n\u001b[0m\u001b[0;32m    492\u001b[0m \u001b[1;33m\u001b[0m\u001b[0m\n\u001b[0;32m    493\u001b[0m     \u001b[0mparser_f\u001b[0m\u001b[1;33m.\u001b[0m\u001b[0m__name__\u001b[0m \u001b[1;33m=\u001b[0m \u001b[0mname\u001b[0m\u001b[1;33m\u001b[0m\u001b[0m\n",
      "\u001b[1;32m/home/gaba/anaconda3/lib/python3.5/site-packages/pandas/io/parsers.py\u001b[0m in \u001b[0;36m_read\u001b[1;34m(filepath_or_buffer, kwds)\u001b[0m\n\u001b[0;32m    276\u001b[0m         \u001b[1;32mreturn\u001b[0m \u001b[0mparser\u001b[0m\u001b[1;33m\u001b[0m\u001b[0m\n\u001b[0;32m    277\u001b[0m \u001b[1;33m\u001b[0m\u001b[0m\n\u001b[1;32m--> 278\u001b[1;33m     \u001b[1;32mreturn\u001b[0m \u001b[0mparser\u001b[0m\u001b[1;33m.\u001b[0m\u001b[0mread\u001b[0m\u001b[1;33m(\u001b[0m\u001b[1;33m)\u001b[0m\u001b[1;33m\u001b[0m\u001b[0m\n\u001b[0m\u001b[0;32m    279\u001b[0m \u001b[1;33m\u001b[0m\u001b[0m\n\u001b[0;32m    280\u001b[0m _parser_defaults = {\n",
      "\u001b[1;32m/home/gaba/anaconda3/lib/python3.5/site-packages/pandas/io/parsers.py\u001b[0m in \u001b[0;36mread\u001b[1;34m(self, nrows)\u001b[0m\n\u001b[0;32m    738\u001b[0m                 \u001b[1;32mraise\u001b[0m \u001b[0mValueError\u001b[0m\u001b[1;33m(\u001b[0m\u001b[1;34m'skip_footer not supported for iteration'\u001b[0m\u001b[1;33m)\u001b[0m\u001b[1;33m\u001b[0m\u001b[0m\n\u001b[0;32m    739\u001b[0m \u001b[1;33m\u001b[0m\u001b[0m\n\u001b[1;32m--> 740\u001b[1;33m         \u001b[0mret\u001b[0m \u001b[1;33m=\u001b[0m \u001b[0mself\u001b[0m\u001b[1;33m.\u001b[0m\u001b[0m_engine\u001b[0m\u001b[1;33m.\u001b[0m\u001b[0mread\u001b[0m\u001b[1;33m(\u001b[0m\u001b[0mnrows\u001b[0m\u001b[1;33m)\u001b[0m\u001b[1;33m\u001b[0m\u001b[0m\n\u001b[0m\u001b[0;32m    741\u001b[0m \u001b[1;33m\u001b[0m\u001b[0m\n\u001b[0;32m    742\u001b[0m         \u001b[1;32mif\u001b[0m \u001b[0mself\u001b[0m\u001b[1;33m.\u001b[0m\u001b[0moptions\u001b[0m\u001b[1;33m.\u001b[0m\u001b[0mget\u001b[0m\u001b[1;33m(\u001b[0m\u001b[1;34m'as_recarray'\u001b[0m\u001b[1;33m)\u001b[0m\u001b[1;33m:\u001b[0m\u001b[1;33m\u001b[0m\u001b[0m\n",
      "\u001b[1;32m/home/gaba/anaconda3/lib/python3.5/site-packages/pandas/io/parsers.py\u001b[0m in \u001b[0;36mread\u001b[1;34m(self, nrows)\u001b[0m\n\u001b[0;32m   1185\u001b[0m     \u001b[1;32mdef\u001b[0m \u001b[0mread\u001b[0m\u001b[1;33m(\u001b[0m\u001b[0mself\u001b[0m\u001b[1;33m,\u001b[0m \u001b[0mnrows\u001b[0m\u001b[1;33m=\u001b[0m\u001b[1;32mNone\u001b[0m\u001b[1;33m)\u001b[0m\u001b[1;33m:\u001b[0m\u001b[1;33m\u001b[0m\u001b[0m\n\u001b[0;32m   1186\u001b[0m         \u001b[1;32mtry\u001b[0m\u001b[1;33m:\u001b[0m\u001b[1;33m\u001b[0m\u001b[0m\n\u001b[1;32m-> 1187\u001b[1;33m             \u001b[0mdata\u001b[0m \u001b[1;33m=\u001b[0m \u001b[0mself\u001b[0m\u001b[1;33m.\u001b[0m\u001b[0m_reader\u001b[0m\u001b[1;33m.\u001b[0m\u001b[0mread\u001b[0m\u001b[1;33m(\u001b[0m\u001b[0mnrows\u001b[0m\u001b[1;33m)\u001b[0m\u001b[1;33m\u001b[0m\u001b[0m\n\u001b[0m\u001b[0;32m   1188\u001b[0m         \u001b[1;32mexcept\u001b[0m \u001b[0mStopIteration\u001b[0m\u001b[1;33m:\u001b[0m\u001b[1;33m\u001b[0m\u001b[0m\n\u001b[0;32m   1189\u001b[0m             \u001b[1;32mif\u001b[0m \u001b[0mself\u001b[0m\u001b[1;33m.\u001b[0m\u001b[0m_first_chunk\u001b[0m\u001b[1;33m:\u001b[0m\u001b[1;33m\u001b[0m\u001b[0m\n",
      "\u001b[1;31mKeyboardInterrupt\u001b[0m: "
     ]
    }
   ],
   "source": [
    "global_users = pd.read_csv('../../fb2015/users.csv', header=None)#.sample(frac=0.03)\n",
    "global_users.columns = ['userId', 'registerCountry', 'signupTime']\n",
    "global_conv = pd.read_csv('../../fb2015/conversions.csv', header=None)#.sample(frac=0.03)\n",
    "global_conv.columns = ['userId', 'itemId', 'price', 'quantity', 'timestamp']\n",
    "global_items = pd.read_csv('../../fb2015/items.csv', header=None)#.sample(frac=0.03)\n",
    "global_items.columns = ['itemId', 'style', 'personality', 'color', 'theme', 'price', 'category']\n",
    "global_users_ads = pd.read_csv('../../fb2015/users_ads.csv', header=None)#.sample(frac=0.03)\n",
    "global_users_ads.columns = ['userId', 'utmSource', 'utmCampaign', 'utmMedium', 'utmTerm', 'utmContent']"
   ]
  },
  {
   "cell_type": "markdown",
   "metadata": {},
   "source": [
    "Obtains data from files."
   ]
  },
  {
   "cell_type": "code",
   "execution_count": 2,
   "metadata": {
    "collapsed": true
   },
   "outputs": [],
   "source": [
    "def drop_nulls(table, columns):\n",
    "    table = table.dropna(subset=columns)\n",
    "    for col in columns:\n",
    "        table = table[~table[col].isin(['None'])]\n",
    "    return table"
   ]
  },
  {
   "cell_type": "markdown",
   "metadata": {},
   "source": [
    "Drops NaN, None values from given data."
   ]
  },
  {
   "cell_type": "code",
   "execution_count": null,
   "metadata": {
    "collapsed": false
   },
   "outputs": [],
   "source": [
    "def number_of_new_users_per_month():\n",
    "    users = drop_nulls(global_users, ['signupTime', 'userId'])\n",
    "\n",
    "    users['month'] = pd.DatetimeIndex(users['signupTime']).month\n",
    "    users['year'] = pd.DatetimeIndex(users['signupTime']).year\n",
    "\n",
    "    grouped = users.groupby(['year', 'month'])['userId'].count()\n",
    "    sortedd = grouped.sort_index()\n",
    "\n",
    "    ax = sortedd.plot(kind='bar')\n",
    "\n",
    "    ax.set_xlabel('Month')\n",
    "    ax.set_ylabel('Number of new users')\n",
    "    ax.set_title(\"Number of new users per month.\", fontsize=18)\n",
    "\n",
    "    plt.xticks(rotation=70)\n",
    "    plt.tight_layout()\n",
    "    plt.show()"
   ]
  },
  {
   "cell_type": "markdown",
   "metadata": {},
   "source": [
    "Displays number of newly registered users per month."
   ]
  },
  {
   "cell_type": "code",
   "execution_count": null,
   "metadata": {
    "collapsed": false
   },
   "outputs": [],
   "source": [
    "def number_of_conversions_per_month():\n",
    "    conv = drop_nulls(global_conv, ['timestamp'])\n",
    "\n",
    "    conv['month'] = pd.DatetimeIndex(conv['timestamp']).month\n",
    "    conv['year'] = pd.DatetimeIndex(conv['timestamp']).year\n",
    "\n",
    "    grouped = conv.groupby(['year', 'month']).count()\n",
    "    sortedd = grouped.sort_index()\n",
    "\n",
    "    ax = sortedd.plot(legend=None)\n",
    "    ax.set_xlabel('Month')\n",
    "    ax.set_ylabel('Number of conversions')\n",
    "    ax.set_title(\"Number of conversions per month.\", fontsize=18)\n",
    "\n",
    "    plt.xticks(rotation=70)\n",
    "    plt.tight_layout()\n",
    "\n",
    "    plt.show()"
   ]
  },
  {
   "cell_type": "markdown",
   "metadata": {},
   "source": [
    "Displays number of conversions per month."
   ]
  },
  {
   "cell_type": "code",
   "execution_count": null,
   "metadata": {
    "collapsed": true
   },
   "outputs": [],
   "source": [
    "def number_of_items_purchased_per_month():\n",
    "    conv = drop_nulls(global_conv, ['timestamp', 'quantity'])\n",
    "\n",
    "    conv['month'] = pd.DatetimeIndex(conv['timestamp']).month\n",
    "    conv['year'] = pd.DatetimeIndex(conv['timestamp']).year\n",
    "\n",
    "    grouped = conv.groupby(['year', 'month'])['quantity'].sum()\n",
    "    sortedd = grouped.sort_index()\n",
    "\n",
    "    ax = sortedd.plot(kind='bar')\n",
    "    ax.set_xlabel('Month')\n",
    "    ax.set_ylabel('Number of items')\n",
    "    ax.set_title(\"Number of items purchased per month.\", fontsize=18)\n",
    "\n",
    "    plt.xticks(rotation=70)\n",
    "    plt.tight_layout()\n",
    "\n",
    "    plt.show()"
   ]
  },
  {
   "cell_type": "markdown",
   "metadata": {},
   "source": [
    "Displays number of items purchased per month."
   ]
  },
  {
   "cell_type": "code",
   "execution_count": null,
   "metadata": {
    "collapsed": false
   },
   "outputs": [],
   "source": [
    "def revenue_per_month():\n",
    "    conv = drop_nulls(global_conv, ['timestamp', 'price'])\n",
    "\n",
    "    conv['month'] = pd.DatetimeIndex(conv['timestamp']).month\n",
    "    conv['year'] = pd.DatetimeIndex(conv['timestamp']).year\n",
    "    grouped = conv.groupby(['year', 'month'])['price'].sum()\n",
    "    sortedd = grouped.sort_index()\n",
    "\n",
    "    ax = sortedd.plot() \n",
    "    ax.set_xlabel('Month')\n",
    "    ax.set_ylabel('Revenue')\n",
    "    ax.set_title(\"Revenue per month.\", fontsize=18)\n",
    "\n",
    "    plt.xticks(rotation=70)\n",
    "    plt.tight_layout()\n",
    "\n",
    "    plt.show()"
   ]
  },
  {
   "cell_type": "markdown",
   "metadata": {},
   "source": [
    "Displays income per month."
   ]
  },
  {
   "cell_type": "code",
   "execution_count": null,
   "metadata": {
    "collapsed": false
   },
   "outputs": [],
   "source": [
    "def number_of_purchases_per_user_in_the_first_week_after_registration():\n",
    "    #does not include users without purchase in the first week after registration\n",
    "    users = drop_nulls(global_users, ['userId', 'signupTime'])\n",
    "    conv = drop_nulls(global_conv, ['userId', 'quantity', 'timestamp'])\n",
    "\n",
    "    users['signupTime'] =  pd.DatetimeIndex(users['signupTime'])\n",
    "    users['week_after'] = pd.DatetimeIndex(users['signupTime'])+pd.Timedelta(days=7)\n",
    "    conv['timestamp'] = pd.DatetimeIndex(conv['timestamp'])\n",
    "\n",
    "    joined = pd.merge(users, conv, left_on='userId', right_on='userId', how='inner')\n",
    "    grouped = joined[joined['timestamp'] <= joined['week_after']].groupby('userId')['quantity'].sum()\n",
    "\n",
    "    ax = grouped.plot(kind='bar')\n",
    "    ax.set_xlabel('User id')\n",
    "    ax.set_ylabel('Quantity')\n",
    "    ax.set_title(\"Number of items purchased in the first week after registration, grouped by userId.\", fontsize=18)\n",
    "\n",
    "    plt.xticks(rotation=70)\n",
    "    plt.tight_layout()\n",
    "\n",
    "    plt.show()"
   ]
  },
  {
   "cell_type": "markdown",
   "metadata": {},
   "source": [
    "Displays number of items purchased during the first week after signing in."
   ]
  },
  {
   "cell_type": "code",
   "execution_count": null,
   "metadata": {
    "collapsed": false
   },
   "outputs": [],
   "source": [
    "def number_of_items_purchased_from_particular_category_grouped_by_country(category):\n",
    "    category = 2346301904\n",
    "    conv = drop_nulls(global_conv, ['quantity'])\n",
    "    items = drop_nulls(global_items, ['category'])\n",
    "    users = drop_nulls(global_users, ['registerCountry'])\n",
    "\n",
    "    joined_items_conv = pd.merge(items, conv, left_on='itemId', right_on='itemId', how='inner')\n",
    "    joined = pd.merge(joined_items_conv, users, left_on='userId', right_on='userId', how='inner')\n",
    "\n",
    "    filtered = joined[joined['category']==category]\n",
    "    grouped = filtered.groupby('registerCountry')['quantity'].sum()\n",
    "\n",
    "    ax = grouped.plot(kind='bar')\n",
    "    ax.set_xlabel('Category')\n",
    "    ax.set_ylabel('Quantity')\n",
    "    ax.set_title(\"Number of items from \"+str(category)+\" category, grouped by country.\", fontsize=18)\n",
    "\n",
    "    plt.xticks(rotation=70)\n",
    "    plt.tight_layout()\n",
    "    plt.show()"
   ]
  },
  {
   "cell_type": "markdown",
   "metadata": {},
   "source": [
    "Displays number of items from particular category purchased by people from all countries."
   ]
  },
  {
   "cell_type": "code",
   "execution_count": null,
   "metadata": {
    "collapsed": false
   },
   "outputs": [],
   "source": [
    "def number_of_items_purchased_in_particular_country_grouped_by_category(country):\n",
    "    country = 'United States'\n",
    "    conv = drop_nulls(global_conv, ['quantity'])\n",
    "    items = drop_nulls(global_items, ['category'])\n",
    "    users = drop_nulls(global_users, ['registerCountry'])\n",
    "\n",
    "    joined_items_conv = pd.merge(items, conv, left_on='itemId', right_on='itemId', how='inner')\n",
    "    joined = pd.merge(joined_items_conv, users, left_on='userId', right_on='userId', how='inner')\n",
    "\n",
    "    filtered = joined[joined['registerCountry']==country]\n",
    "    grouped = filtered.groupby('category')['quantity'].sum()\n",
    "\n",
    "    ax = grouped.plot(kind='bar')\n",
    "    ax.set_xlabel('Category')\n",
    "    ax.set_ylabel('Quantity')\n",
    "    ax.set_title(\"Number of items purchased in \" + country + \", grouped by category.\", fontsize=18)\n",
    "\n",
    "    plt.xticks(rotation=70)\n",
    "    plt.tight_layout()\n",
    "    plt.show()"
   ]
  },
  {
   "cell_type": "markdown",
   "metadata": {},
   "source": [
    "Displays number of items from all cattegories purchased in particular country."
   ]
  },
  {
   "cell_type": "code",
   "execution_count": 15,
   "metadata": {
    "collapsed": false
   },
   "outputs": [],
   "source": [
    "def number_of_purchased_items_grouped_by_categories_in_all_countries():\n",
    "    conv = drop_nulls(global_conv, ['quantity'])\n",
    "    items = drop_nulls(global_items, ['category'])\n",
    "    users = drop_nulls(global_users, ['registerCountry'])\n",
    "\n",
    "    joined_items_conv = pd.merge(items, conv, left_on='itemId', right_on='itemId', how='inner')\n",
    "    joined = pd.merge(joined_items_conv, users, left_on='userId', right_on='userId', how='inner')\n",
    "\n",
    "    y_labels = []\n",
    "    x_labels = []\n",
    "    y_ticks = []\n",
    "    x_ticks = []\n",
    "\n",
    "    for i, row in enumerate(joined['registerCountry'].unique()):\n",
    "        y_labels.append(row)\n",
    "        y_ticks.append(i)\n",
    "\n",
    "    for i, row in enumerate(joined['category'].unique()):\n",
    "        x_labels.append(row)\n",
    "        x_ticks.append(i)\n",
    "\n",
    "    fig = plt.figure()\n",
    "    ax = fig.add_subplot(1, 1, 1)\n",
    "\n",
    "    for j, country in enumerate(y_labels):\n",
    "        r = np.random.rand(1)\n",
    "        color = cm.rainbow(np.linspace(r, r+1, 1))       \n",
    "        for i, category in enumerate(x_labels):\n",
    "            countryFiltered = joined[joined['registerCountry']==country]\n",
    "            filtered = countryFiltered[countryFiltered['category']==category]\n",
    "            area=filtered['quantity'].sum()\n",
    "            ax.scatter(x=i, y=j, s=area, c=color, alpha=0.7)  \n",
    "\n",
    "    ax.set(xticks=range(len(x_labels)), xticklabels=x_labels,\n",
    "       yticks=range(len(y_labels)), yticklabels=y_labels)\n",
    "\n",
    "    ax.set_xlabel('Category')\n",
    "    ax.set_ylabel('Country')\n",
    "    ax.set_title('Sum of purchased items, grouped by country and category.', fontsize=18)\n",
    "\n",
    "    plt.tick_params(axis='x')\n",
    "    plt.xticks(rotation=90)\n",
    "    plt.tight_layout()\n",
    "\n",
    "    plt.show()"
   ]
  },
  {
   "cell_type": "markdown",
   "metadata": {},
   "source": [
    "Displays general view on sum of purchased items grouped by country and category."
   ]
  },
  {
   "cell_type": "code",
   "execution_count": 4,
   "metadata": {
    "collapsed": false
   },
   "outputs": [
    {
     "name": "stderr",
     "output_type": "stream",
     "text": [
      "/home/ducki13/anaconda3/lib/python3.5/site-packages/numpy/lib/arraysetops.py:379: FutureWarning: elementwise comparison failed; returning scalar instead, but in the future will perform elementwise comparison\n",
      "  mask |= (ar1 == a)\n",
      "/home/ducki13/anaconda3/lib/python3.5/site-packages/matplotlib/collections.py:590: FutureWarning: elementwise comparison failed; returning scalar instead, but in the future will perform elementwise comparison\n",
      "  if self._edgecolors == str('face'):\n"
     ]
    }
   ],
   "source": [
    "def number_of_purchased_items_after_seeing_campaigns_grouped_by_categories():\n",
    "    conv = drop_nulls(global_conv, ['timestamp'])\n",
    "    users_ads = drop_nulls(global_users_ads, ['utmCampaign'])\n",
    "    users = drop_nulls(global_users, ['signupTime'])\n",
    "    items = drop_nulls(global_items, ['category'])\n",
    "\n",
    "    users['week_after'] = pd.DatetimeIndex(users['signupTime'])+pd.Timedelta(days=7)\n",
    "    conv['timestamp'] = pd.DatetimeIndex(conv['timestamp'])\n",
    "\n",
    "    joined = pd.merge(users, users_ads, left_on='userId', right_on='userId', how='inner')\n",
    "    joined = pd.merge(joined, conv, left_on='userId', right_on='userId', how='inner')\n",
    "    joined = pd.merge(joined, items, left_on='itemId', right_on='itemId', how='inner')\n",
    "\n",
    "    filtered = joined[joined['timestamp'] <= joined['week_after']]\n",
    "\n",
    "    y_labels = []\n",
    "    x_labels = []\n",
    "    y_ticks = []\n",
    "    x_ticks = []\n",
    "    x = []\n",
    "    y = []\n",
    "\n",
    "    for i, row in enumerate(filtered['utmCampaign'].unique()):\n",
    "        y_labels.append(row)\n",
    "        y_ticks.append(i)\n",
    "        y.append(i)\n",
    "\n",
    "    for i, row in enumerate(filtered['category'].unique()):\n",
    "        x_labels.append(row)\n",
    "        x_ticks.append(i)\n",
    "        x.append(i)\n",
    "\n",
    "    fig = plt.figure()\n",
    "    ax = fig.add_subplot(1, 1, 1)\n",
    "\n",
    "    for j, utmCampaign in enumerate(y_labels):\n",
    "        r = np.random.rand(1)\n",
    "        color = cm.rainbow(np.linspace(r, r+1, 1))       \n",
    "        for i, category in enumerate(x_labels):\n",
    "            utmCampaignFiltered = filtered[filtered['utmCampaign']==utmCampaign]\n",
    "            categoryFiltered = utmCampaignFiltered[utmCampaignFiltered['category']==category]\n",
    "            area=categoryFiltered['quantity'].sum()\n",
    "            ax.scatter(x=i, y=j, s=area, c=color, alpha=0.7)  \n",
    "\n",
    "    ax.set(xticks=range(len(x_labels)), xticklabels=x_labels,\n",
    "       yticks=range(len(y_labels)), yticklabels=y_labels)\n",
    "\n",
    "    ax.set_xlabel('Category')\n",
    "    ax.set_ylabel('utmCampaign')\n",
    "    ax.set_title('Sum of purchased items in the first week after signing in, grouped by campaigns and category.', fontsize=18)\n",
    "\n",
    "    plt.tick_params(axis='x', labelsize=8)\n",
    "    plt.xticks(rotation=70)\n",
    "    plt.tight_layout()\n",
    "\n",
    "    plt.show()"
   ]
  },
  {
   "cell_type": "markdown",
   "metadata": {},
   "source": [
    "Displays general view on sum of purchased items in the first week after signing in, connected with campaigns being seen, grouped by category and campaign."
   ]
  },
  {
   "cell_type": "code",
   "execution_count": 2,
   "metadata": {
    "collapsed": false
   },
   "outputs": [],
   "source": [
    "def average_number_of_purchased_items_during_the_first_month_after_signing_in():\n",
    "    conv = drop_nulls(global_conv, ['timestamp', 'quantity'])\n",
    "    users = drop_nulls(global_users, ['signupTime', 'userId'])\n",
    "\n",
    "    users['signupTime'] = pd.DatetimeIndex(users['signupTime'])\n",
    "    conv['timestamp'] = pd.DatetimeIndex(conv['timestamp'])\n",
    "\n",
    "    joined = pd.merge(users, conv, left_on='userId', right_on='userId', how='inner')\n",
    "    joined['purchase_day'] = pd.to_timedelta(joined['timestamp'])-pd.to_timedelta(joined['signupTime'])\n",
    "\n",
    "    filtered = joined[joined['purchase_day']>=pd.Timedelta(days=0)]\n",
    "    filtered = filtered[filtered['purchase_day']<pd.Timedelta(days=30)]\n",
    "    filtered['purchase_day'] = pd.DatetimeIndex(filtered['purchase_day']).day\n",
    "\n",
    "    aver = filtered.groupby(['purchase_day', 'userId'])['quantity'].sum()\n",
    "\n",
    "    summ = [0 for x in range(0,31)]\n",
    "    countt = [0 for x in range(0,31)]\n",
    "    average = [0 for x in range(0,31)]\n",
    "\n",
    "    for x in aver.iteritems():\n",
    "        day = x[0][0]\n",
    "        quantitySum = x[1]\n",
    "        summ[day] += quantitySum\n",
    "        countt[day] += 1\n",
    "\n",
    "    for y in range(0, 31):\n",
    "        if countt[y] != 0:\n",
    "            average[y] = summ[y]/countt[y]\n",
    "\n",
    "    ax = sns.barplot(y=average, x=[i for i in range(0, 31)])\n",
    "    ax.set_xlabel('Day after signing in')\n",
    "    ax.set_ylabel('Average quantity')\n",
    "    ax.set_title('Average sum of purchases (quantities) during first month after signing in.', fontsize=18)\n",
    "\n",
    "    plt.tick_params(axis='x', labelsize=8)\n",
    "    plt.tight_layout()\n",
    "\n",
    "    plt.show()"
   ]
  },
  {
   "cell_type": "markdown",
   "metadata": {},
   "source": [
    "Displays average sum of purchases during first month after signing in."
   ]
  },
  {
   "cell_type": "code",
   "execution_count": 6,
   "metadata": {
    "collapsed": false
   },
   "outputs": [
    {
     "data": {
      "text/plain": [
       "'https://plot.ly/~PythonAPI/1438'"
      ]
     },
     "execution_count": 6,
     "metadata": {},
     "output_type": "execute_result"
    }
   ],
   "source": [
    "def distribution_number_of_purchases_per_user_in_the_first_week_after_registration():\n",
    "    users = drop_nulls(global_users, ['signupTime'])\n",
    "    conv = drop_nulls(global_conv, ['timestamp', 'quantity'])\n",
    "\n",
    "    users['signupTime'] =  pd.DatetimeIndex(users['signupTime'])\n",
    "    users['week_after'] = pd.DatetimeIndex(users['signupTime'])+pd.Timedelta(days=7)\n",
    "    conv['timestamp'] = pd.DatetimeIndex(conv['timestamp'])\n",
    "\n",
    "    joined = pd.merge(users, conv, left_on='userId', right_on='userId', how='inner')\n",
    "    filtered = joined[joined['timestamp'] <= joined['week_after']]\n",
    "    grouped = filtered.groupby('userId')['quantity'].sum()\n",
    "\n",
    "    d = dict()\n",
    "    for x in grouped:\n",
    "        if x not in d.keys():\n",
    "            d[x] = 1\n",
    "        else:\n",
    "            d[x] += 1\n",
    "\n",
    "    d[0] = len(joined[~joined['userId'].isin(filtered['userId'].unique())].groupby('userId'))\n",
    "\n",
    "    layout = go.Layout(\n",
    "        title='Distribution of sum of purchases per user during first week after registration',\n",
    "        xaxis=dict(\n",
    "            title='Number of purchased products',\n",
    "            titlefont=dict(\n",
    "                family='Courier New, monospace',\n",
    "                size=18,\n",
    "                color='#7f7f7f'\n",
    "            )\n",
    "        ),\n",
    "        yaxis=dict(\n",
    "            title='Number of users',\n",
    "            titlefont=dict(\n",
    "                family='Courier New, monospace',\n",
    "                size=18,\n",
    "                color='#7f7f7f'\n",
    "            )\n",
    "        )\n",
    "    )\n",
    "    data = [go.Bar(x=list(d.keys()), y=list(d.values()))]\n",
    "    fig = go.Figure(data=data, layout=layout)\n",
    "    py.plot(fig, filename='pandas-bar-chart')"
   ]
  },
  {
   "cell_type": "markdown",
   "metadata": {},
   "source": [
    "Shows distribution of how many items users have bought during first week after sign up."
   ]
  },
  {
   "cell_type": "code",
   "execution_count": 17,
   "metadata": {
    "collapsed": false
   },
   "outputs": [
    {
     "name": "stderr",
     "output_type": "stream",
     "text": [
      "/home/gaba/anaconda3/lib/python3.5/site-packages/numpy/lib/arraysetops.py:379: FutureWarning:\n",
      "\n",
      "elementwise comparison failed; returning scalar instead, but in the future will perform elementwise comparison\n",
      "\n",
      "/home/gaba/anaconda3/lib/python3.5/site-packages/matplotlib/__init__.py:892: UserWarning:\n",
      "\n",
      "axes.color_cycle is deprecated and replaced with axes.prop_cycle; please use the latter.\n",
      "\n"
     ]
    }
   ],
   "source": [
    "def probability_of_purchase_during_the_first_month_after_registration():\n",
    "    conv = drop_nulls(global_conv, ['timestamp', 'quantity'])\n",
    "    users = drop_nulls(global_users, ['signupTime'])\n",
    "\n",
    "    users['signupTime'] = pd.DatetimeIndex(users['signupTime'])\n",
    "    conv['timestamp'] = pd.DatetimeIndex(conv['timestamp'])\n",
    "\n",
    "    joined = pd.merge(users, conv, left_on='userId', right_on='userId', how='inner')\n",
    "    joined['purchase_day'] = pd.to_timedelta(joined['timestamp'])-pd.to_timedelta(joined['signupTime'])\n",
    "\n",
    "    nr_of_users = len(joined.groupby(['userId']))\n",
    "\n",
    "    filtered = joined[joined['purchase_day']>=pd.Timedelta(days=0)]\n",
    "    filtered = filtered[filtered['purchase_day']<pd.Timedelta(days=30)]\n",
    "    filtered['purchase_day'] = pd.DatetimeIndex(filtered['purchase_day']).day\n",
    "\n",
    "    purch = filtered.groupby(['purchase_day'])['userId'].count()\n",
    "    probabil = [0 for x in range(0,31)]\n",
    "\n",
    "    for x in purch.iteritems():\n",
    "        day = x[0]\n",
    "        probabil[day] = x[1]/nr_of_users\n",
    "\n",
    "    ax = sns.barplot(y=probabil, x=[i for i in range(0, 31)])\n",
    "    ax.set_xlabel('Day after registration')\n",
    "    ax.set_ylabel('Probability (sum of purchases/number of users who have at least one purchase)')\n",
    "    ax.set_title('Probability of purchase during the first month after registration', fontsize=18)\n",
    "\n",
    "    plt.tick_params(axis='x', labelsize=8)\n",
    "    plt.tight_layout()\n",
    "\n",
    "    plt.show()"
   ]
  },
  {
   "cell_type": "markdown",
   "metadata": {},
   "source": [
    "Shows how probable is user's purchase during the first month after sign up."
   ]
  },
  {
   "cell_type": "code",
   "execution_count": 106,
   "metadata": {
    "collapsed": true
   },
   "outputs": [],
   "source": [
    "def to_percent(y, position):\n",
    "    s = str(y)\n",
    "    if matplotlib.rcParams['text.usetex'] is True:\n",
    "        return s + r'$\\%$'\n",
    "    else:\n",
    "        return s + '%'"
   ]
  },
  {
   "cell_type": "code",
   "execution_count": 33,
   "metadata": {
    "collapsed": false,
    "scrolled": true
   },
   "outputs": [
    {
     "name": "stdout",
     "output_type": "stream",
     "text": [
      "[ 0.          0.10204082  0.20408163  0.30612245  0.40816327  0.51020408\n",
      "  0.6122449   0.71428571  0.81632653  0.91836735  1.02040816  1.12244898\n",
      "  1.2244898   1.32653061  1.42857143  1.53061224  1.63265306  1.73469388\n",
      "  1.83673469  1.93877551  2.04081633  2.14285714  2.24489796  2.34693878\n",
      "  2.44897959  2.55102041  2.65306122  2.75510204  2.85714286  2.95918367\n",
      "  3.06122449  3.16326531  3.26530612  3.36734694  3.46938776  3.57142857\n",
      "  3.67346939  3.7755102   3.87755102  3.97959184  4.08163265  4.18367347\n",
      "  4.28571429  4.3877551   4.48979592  4.59183673  4.69387755  4.79591837\n",
      "  4.89795918  5.        ]\n"
     ]
    }
   ],
   "source": [
    "#def inverse_gamma_distribution(alpha, beta, gamma, mi):\n",
    "from scipy.stats import invgamma\n",
    "numargs = invgamma.numargs\n",
    "\n",
    "y = [i for i in range(0, 5)]\n",
    "\n",
    "mle = np.mean(y)\n",
    "rv = invgamma(mle)\n",
    "x = np.linspace(0, np.minimum(rv.dist.b, 5))\n",
    "print(x)\n",
    "\n",
    "h = plt.plot(x, rv.pdf(x))\n",
    "plt.show()"
   ]
  },
  {
   "cell_type": "code",
   "execution_count": 32,
   "metadata": {
    "collapsed": false
   },
   "outputs": [
    {
     "name": "stdout",
     "output_type": "stream",
     "text": [
      "Y:\n",
      "[  38    3    2    7   10   11   33   10   10    5    9    2    2    3    2\n",
      "    3    8    9   21   20   21   26   22   85   37   24   42   52   61   57\n",
      "   69   33   56   33   43   38   48   67   74   71   96  146  130  136  204\n",
      "  269  218  158  164  283  188  198  189  163  187  180  182  244  181  232\n",
      "  233  234  216  247  235  251  227  202  212  219  211  237  210  193  234\n",
      "  288  261  338  269  287  293  315  334  345  483  417  339  324  378  402\n",
      "  415  370  360  451  485  508  740  677  523  383  364  259  674  541  477\n",
      "  501  562  585  575  568  666  595  514  455  523  560  540  747  714  583\n",
      "  495  630  685  561  696  638  582  866  691  627  707  560  514  514  490\n",
      "  475 1103  685  185]\n",
      "rv.pdf(x):\n",
      "[ nan   0.   0.   0.   0.   0.   0.   0.   0.   0.   0.   0.   0.   0.   0.\n",
      "   0.   0.   0.   0.   0.   0.   0.   0.   0.   0.   0.   0.   0.   0.   0.\n",
      "   0.   0.   0.   0.   0.   0.   0.   0.   0.   0.   0.   0.   0.   0.   0.\n",
      "   0.   0.   0.   0.   0.]\n",
      "MLE:\n",
      "294.73381295\n",
      "X:\n",
      "[    0.            22.71428571    45.42857143    68.14285714    90.85714286\n",
      "   113.57142857   136.28571429   159.           181.71428571   204.42857143\n",
      "   227.14285714   249.85714286   272.57142857   295.28571429   318.\n",
      "   340.71428571   363.42857143   386.14285714   408.85714286   431.57142857\n",
      "   454.28571429   477.           499.71428571   522.42857143   545.14285714\n",
      "   567.85714286   590.57142857   613.28571429   636.           658.71428571\n",
      "   681.42857143   704.14285714   726.85714286   749.57142857   772.28571429\n",
      "   795.           817.71428571   840.42857143   863.14285714   885.85714286\n",
      "   908.57142857   931.28571429   954.           976.71428571   999.42857143\n",
      "  1022.14285714  1044.85714286  1067.57142857  1090.28571429  1113.        ]\n"
     ]
    }
   ],
   "source": [
    "#def poisson_distribution_weekly_user_count_of_purchases_2():\n",
    "conv = drop_nulls(global_conv, ['timestamp'])\n",
    "\n",
    "conv['week'] = pd.DatetimeIndex(conv['timestamp']).week\n",
    "conv['year'] = pd.DatetimeIndex(conv['timestamp']).year\n",
    "\n",
    "grouped = conv.groupby(['year', 'week'])['quantity'].sum()\n",
    "aver = math.floor(grouped.mean())\n",
    "\n",
    "purch_sum = sum(grouped.values)\n",
    "mu = math.floor(grouped.mean())\n",
    "\n",
    "counts = poisson.rvs(mu, size=100)\n",
    "bins = range(0, max(counts)+2)\n",
    "bins = bins[0::10]\n",
    "\n",
    "#Histogram\n",
    "weights=np.ones_like(grouped.values)/len(grouped.values)#100*\n",
    "ax = plt.hist(grouped.values, weights=weights, bins=bins, align=\"left\", histtype=\"step\", color=\"black\", label='Histogram of the data') \n",
    "\n",
    "#Poisson\n",
    "x = range(0,2*max(counts))\n",
    "prob = poisson.pmf(x, mu)#*100\n",
    "plt.plot(x, prob, label='Poisson Distribution')\n",
    "\n",
    "#inverse gamma distribution\n",
    "numargs = invgamma.numargs\n",
    "y = grouped.values\n",
    "y = y[0]\n",
    "mle = np.mean(y)\n",
    "rv = invgamma(mle)\n",
    "x = np.linspace(0, np.minimum(rv.dist.b, max(grouped.values)))\n",
    "print(\"Y:\")\n",
    "print(y)\n",
    "print(\"rv.pdf(x):\")\n",
    "print(rv.pdf(x))\n",
    "print(\"MLE:\")\n",
    "print(mle)\n",
    "print(\"X:\")\n",
    "print(x)\n",
    "h = plt.plot(x, rv.pdf(x)*100)\n",
    "#plt.show()\n",
    "\n",
    "plt.tick_params(axis='x', labelsize=8)\n",
    "plt.legend(bbox_to_anchor=(0.7, 0.9), loc=2, borderaxespad=0.)\n",
    "plt.title('Poisson Distribution of weekly users\\' count of purchases', fontsize=18)\n",
    "\n",
    "ax = plt.gca()\n",
    "ax.set_xlabel('Quantity')\n",
    "ax.set_ylabel('Percent')\n",
    "\n",
    "plt.tight_layout()\n",
    "plt.show()"
   ]
  },
  {
   "cell_type": "code",
   "execution_count": null,
   "metadata": {
    "collapsed": false,
    "scrolled": true
   },
   "outputs": [],
   "source": [
    "#def number_of_active_users_per_month():\n",
    "#number of active users per month\n",
    "users = global_users\n",
    "conv = drop_nulls(global_conv, ['timestamp'])\n",
    "\n",
    "conv['month'] = pd.DatetimeIndex(conv['timestamp']).month\n",
    "conv['year'] = pd.DatetimeIndex(conv['timestamp']).year\n",
    "\n",
    "joined = pd.merge(users, conv, left_on='userId', right_on='userId', how='inner')\n",
    "grouped = joined.groupby(['year', 'month'])['userId'].unique()\n",
    "\n",
    "x_labels = []\n",
    "x_ticks = []\n",
    "for i, item in enumerate(grouped.iteritems()):\n",
    "    if(item[0][0] == 0):#degenerated data (0th month)\n",
    "        continue\n",
    "    x_labels.append(str(item[0][0])+\" / \"+str(item[0][1]))\n",
    "    x_ticks.append(i)\n",
    "\n",
    "y = []\n",
    "for item in grouped.iteritems():\n",
    "    y.append(len(item[1]))\n",
    "\n",
    "fig = plt.figure()\n",
    "ax = fig.add_subplot(1, 1, 1)\n",
    "ax.set(xticks=range(len(x_labels)), xticklabels=x_labels)\n",
    "\n",
    "plt.plot(x_ticks, y)\n",
    "\n",
    "#overall number of registered users per month\n",
    "users = drop_nulls(global_users, ['signupTime', 'userId'])\n",
    "\n",
    "users['month'] = pd.DatetimeIndex(users['signupTime']).month\n",
    "users['year'] = pd.DatetimeIndex(users['signupTime']).year\n",
    "\n",
    "grouped = users.groupby(['year', 'month'])['userId'].count()\n",
    "sortedd = grouped.sort_index()\n",
    "\n",
    "for i, x in enumerate(grouped.iteritems()):\n",
    "    print(str(i)+\" \"+str(x))\n",
    "\n",
    "y =[]\n",
    "for i, x in enumerate(grouped):\n",
    "    if i != 0:\n",
    "        y.append(x+y[i-1])\n",
    "    else:\n",
    "        y.append(x)\n",
    "\n",
    "plt.plot(x_ticks, y, kind='bar')\n",
    "plt.xticks(rotation=70)\n",
    "plt.tight_layout()\n",
    "plt.show()"
   ]
  },
  {
   "cell_type": "markdown",
   "metadata": {},
   "source": [
    "Number of users who have at least one purchase in particular month."
   ]
  },
  {
   "cell_type": "code",
   "execution_count": 13,
   "metadata": {
    "collapsed": false
   },
   "outputs": [
    {
     "name": "stdout",
     "output_type": "stream",
     "text": [
      "len=33\n",
      "13\n",
      "y:0 m:1 i:0\n",
      "y:0 m:2 i:1\n",
      "y:0 m:3 i:2\n",
      "y:0 m:4 i:3\n",
      "y:0 m:5 i:4\n",
      "y:0 m:6 i:5\n",
      "y:0 m:7 i:6\n",
      "y:0 m:8 i:7\n",
      "y:0 m:9 i:8\n",
      "y:0 m:10 i:9\n",
      "y:0 m:11 i:10\n",
      "y:0 m:12 i:11\n",
      "y:1 m:1 i:12\n",
      "y:1 m:2 i:13\n",
      "y:1 m:3 i:14\n",
      "y:1 m:4 i:15\n",
      "y:1 m:5 i:16\n",
      "y:1 m:6 i:17\n",
      "y:1 m:7 i:18\n",
      "y:1 m:8 i:19\n",
      "y:1 m:9 i:20\n",
      "y:1 m:10 i:21\n",
      "y:1 m:11 i:22\n",
      "y:1 m:12 i:23\n",
      "y:2 m:1 i:24\n",
      "y:2 m:2 i:25\n",
      "y:2 m:3 i:26\n",
      "y:2 m:4 i:27\n",
      "y:2 m:5 i:28\n",
      "y:2 m:6 i:29\n",
      "y:2 m:7 i:30\n",
      "y:2 m:8 i:31\n",
      "y:2 m:9 i:32\n"
     ]
    },
    {
     "name": "stderr",
     "output_type": "stream",
     "text": [
      "/home/gaba/anaconda3/lib/python3.5/site-packages/matplotlib/__init__.py:892: UserWarning:\n",
      "\n",
      "axes.color_cycle is deprecated and replaced with axes.prop_cycle; please use the latter.\n",
      "\n"
     ]
    }
   ],
   "source": [
    "#TODO\n",
    "#def variance_sum_of_revenue_for_items_purchased_during_first_month_after_signup():\n",
    "users = drop_nulls(global_users, ['userId'])\n",
    "conv = drop_nulls(global_conv, ['timestamp'])\n",
    "\n",
    "conv['conv_month'] = pd.DatetimeIndex(conv['timestamp']).month\n",
    "conv['conv_year'] = pd.DatetimeIndex(conv['timestamp']).year\n",
    "\n",
    "users['signup_month'] = pd.DatetimeIndex(users['signupTime']).month\n",
    "users['signup_year'] = pd.DatetimeIndex(users['signupTime']).year\n",
    "\n",
    "joined = pd.merge(users, conv, left_on='userId', right_on='userId', how='inner')\n",
    "grouped = joined.groupby(['conv_year', 'conv_month', 'userId'])['price'].sum()\n",
    "grouped = grouped.sort_index()\n",
    "signup_grouped = users.groupby(['signup_year', 'signup_month'])['userId'].count()\n",
    "signup_grouped = signup_grouped.sort_index()\n",
    "for i, x in enumerate(signup_grouped):\n",
    "    if i != 0:\n",
    "        signup_grouped[i] += signup_grouped[i-1]\n",
    "\n",
    "signed = []\n",
    "for i in range(0, 3):\n",
    "    signed.append([])\n",
    "    for j in range(0, 13):\n",
    "        signed[i].append(0)\n",
    "\n",
    "print(\"len=\"+str(len(signup_grouped)))\n",
    "print(len(signed[0]))\n",
    "for i, year_id in enumerate(signup_grouped.index.labels[0]):\n",
    "    month_id = signup_grouped.index.labels[1][i]\n",
    "    year = signup_grouped.index.levels[0][year_id]\n",
    "    month = signup_grouped.index.levels[1][month_id]\n",
    "    print(\"y:\"+str(year-2013)+\" m:\"+str(month)+\" i:\"+str(i))\n",
    "    signed[year-2013][month] = signup_grouped[i]\n",
    "    \n",
    "res = []\n",
    "for i in range(0, 3):\n",
    "    res.append([])\n",
    "    for j in range(0, 13):\n",
    "        res[i].append(0)\n",
    "\n",
    "#count variance for each month\n",
    "m = -1\n",
    "y = -1\n",
    "data = []\n",
    "for i, year_id in enumerate(grouped.index.labels[0]):\n",
    "    month_id = grouped.index.labels[1][i]\n",
    "    year = grouped.index.levels[0][year_id]\n",
    "    month = grouped.index.levels[1][month_id]\n",
    "    if(i != 0 and (y != year or m != month)) or (i == len(grouped.index.labels[0])-1):\n",
    "        if i == len(grouped.index.labels[0])-1:\n",
    "            data.append(grouped[i])\n",
    "        if signed[y-2013][m] > 0:\n",
    "            data.extend([0] * (signed[y-2013][m] - len(data)))\n",
    "            res[y-2013][m] = statistics.variance(data)\n",
    "        data = []\n",
    "\n",
    "    data.append(grouped[i])\n",
    "    y = year\n",
    "    m = month\n",
    "\n",
    "variance = []\n",
    "labels = []                                                 \n",
    "for i in range(0, 3):\n",
    "    for j in range(0, 13):\n",
    "        variance.append(res[i][j])\n",
    "        labels.append(str(j)+\" / \"+str(i+2013))\n",
    "                                                 \n",
    "ax = sns.barplot(y=variance, x=labels)\n",
    "ax.set_xlabel('Year and month')\n",
    "ax.set_ylabel('Variance')\n",
    "ax.set_title('Variance: sum of prices of purchases for each user in each month after sign up', fontsize=18)\n",
    "\n",
    "plt.tick_params(axis='x', labelsize=10)\n",
    "plt.xticks(rotation=70)\n",
    "plt.tight_layout()\n",
    "\n",
    "plt.show()"
   ]
  },
  {
   "cell_type": "code",
   "execution_count": 14,
   "metadata": {
    "collapsed": true
   },
   "outputs": [],
   "source": [
    "def stanDev(values):\n",
    "    length = len(values)\n",
    "    m = statistics.mean(values)\n",
    "    total_sum = 0\n",
    "    for i in range(length):\n",
    "        total_sum += (values[i]-m)**2\n",
    " \n",
    "    return math.sqrt(total_sum/length)"
   ]
  },
  {
   "cell_type": "code",
   "execution_count": 15,
   "metadata": {
    "collapsed": true
   },
   "outputs": [],
   "source": [
    "def normDistr(x, m, stDev):\n",
    "    return (math.e**((-((x-m)**2))/(2*stDev)))/(math.sqrt(stDev)*math.sqrt(2*math.pi))"
   ]
  },
  {
   "cell_type": "code",
   "execution_count": 24,
   "metadata": {
    "collapsed": false
   },
   "outputs": [
    {
     "data": {
      "text/plain": [
       "'\\nval = []\\nidx = []\\n_mean = statistics.mean(grouped.values)\\n_stDev = stanDev(grouped.values)\\n\\ngrouped.values.sort()\\n#for x in grouped.values:\\nnorm(loc=_mean, scale=_stDev)\\nprint(norm.rvs(size=100))\\n    #a = normDistr(x, _mean, _stDev)\\n    #val.append(a)\\n#    idx.append(x)\\n\\n'"
      ]
     },
     "execution_count": 24,
     "metadata": {},
     "output_type": "execute_result"
    }
   ],
   "source": [
    "#def normal_distribution_weekly_revenue:\n",
    "conv = drop_nulls(global_conv, ['timestamp'])\n",
    "\n",
    "conv['year'] = pd.DatetimeIndex(conv['timestamp']).year\n",
    "conv['week'] = pd.DatetimeIndex(conv['timestamp']).week\n",
    "\n",
    "grouped = conv.groupby(['year', 'week'])['price'].sum()\n",
    "\n",
    "_mean = statistics.mean(grouped.values)\n",
    "_stDev = stanDev(grouped.values)\n",
    "\n",
    "x = np.linspace(0,10000,10)\n",
    "y = norm.pdf(x, loc=_mean, scale=_stDev)\n",
    "\n",
    "pylab.plot(x,y)\n",
    "pylab.show()\n",
    "#bins = range(0, math.floor(max(grouped.values))+2)\n",
    "#bins = bins[0::100]\n",
    "\n",
    "#Histogram\n",
    "#weights=np.ones_like(grouped.values)/len(grouped.values)#100*\n",
    "#ax = plt.hist(grouped.values, weights=weights, bins=bins, align=\"left\", histtype=\"step\", color=\"black\", label='Histogram of the data') \n",
    "\n",
    "\n",
    "#plt.show()\n"
   ]
  },
  {
   "cell_type": "code",
   "execution_count": null,
   "metadata": {
    "collapsed": true
   },
   "outputs": [],
   "source": [
    "Shows normal dirtibution of revenue among "
   ]
  }
 ],
 "metadata": {
  "kernelspec": {
   "display_name": "Python 3",
   "language": "python",
   "name": "python3"
  },
  "language_info": {
   "codemirror_mode": {
    "name": "ipython",
    "version": 3
   },
   "file_extension": ".py",
   "mimetype": "text/x-python",
   "name": "python",
   "nbconvert_exporter": "python",
   "pygments_lexer": "ipython3",
   "version": "3.5.0"
  }
 },
 "nbformat": 4,
 "nbformat_minor": 0
}
