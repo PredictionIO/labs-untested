{
 "cells": [
  {
   "cell_type": "code",
   "execution_count": 44,
   "metadata": {
    "collapsed": false
   },
   "outputs": [],
   "source": [
    "import csv\n",
    "import pandas as pd\n",
    "import numpy as np\n",
    "import matplotlib.pyplot as plt\n",
    "import random"
   ]
  },
  {
   "cell_type": "code",
   "execution_count": 45,
   "metadata": {
    "collapsed": true
   },
   "outputs": [],
   "source": [
    "def get_data(location):\n",
    "    data = pd.read_csv(location, header=None)\n",
    "    data = data.sample(frac=0.03)\n",
    "   \n",
    "    if location.endswith('users.csv'):\n",
    "        data.columns = ['userId', 'registerCountry', 'signupTime']\n",
    "    elif location.endswith('conversions.csv'):\n",
    "        data.columns = ['userId', 'itemId', 'price', 'quantity', 'timestamp']\n",
    "    elif location.endswith('items.csv'):\n",
    "        data.columns = ['itemId', 'style', 'personality', 'color', 'theme', 'price', 'category']\n",
    "    elif location.endswith('users_ads.csv'):\n",
    "        data.columns = ['userId', 'utmSource', 'utmCampaign']\n",
    "    return data\n"
   ]
  },
  {
   "cell_type": "markdown",
   "metadata": {},
   "source": [
    "Obtains data from files."
   ]
  },
  {
   "cell_type": "code",
   "execution_count": 46,
   "metadata": {
    "collapsed": true
   },
   "outputs": [],
   "source": [
    "def getYearMonth(s):\n",
    "    return s.split(\"-\")[1]+\"-\"+s.split(\"-\")[2].split(\" \")[0]"
   ]
  },
  {
   "cell_type": "markdown",
   "metadata": {},
   "source": [
    "Util function: extracts months from dates."
   ]
  },
  {
   "cell_type": "code",
   "execution_count": 47,
   "metadata": {
    "collapsed": false
   },
   "outputs": [],
   "source": [
    " def number_of_new_users_per_month():\n",
    "    users = get_data('../../fb2015/users.csv')\n",
    "    users['month'] = pd.DatetimeIndex(users['signupTime']).month\n",
    "    users['year'] = pd.DatetimeIndex(users['signupTime']).year\n",
    "    users_per_yearmonth = users.groupby(['year', 'month'])['userId'].count()\n",
    "    users_per_yearmonth = users_per_yearmonth.sort_index()\n",
    "    users_per_yearmonth.plot(kind='bar')\n",
    "    plt.show()"
   ]
  },
  {
   "cell_type": "markdown",
   "metadata": {},
   "source": [
    "Displays number of newly registered users per month."
   ]
  },
  {
   "cell_type": "code",
   "execution_count": 48,
   "metadata": {
    "collapsed": false
   },
   "outputs": [],
   "source": [
    "def number_of_conversions_per_month():\n",
    "    conv = get_data('../../fb2015/conversions.csv')\n",
    "    conv['month'] = pd.DatetimeIndex(conv['timestamp']).month\n",
    "    conv['year'] = pd.DatetimeIndex(conv['timestamp']).year\n",
    "    conv_per_yearmonth = conv.groupby(['year', 'month']).count()\n",
    "    conv_per_yearmonth = conv_per_yearmonth.sort_index()\n",
    "    conv_per_yearmonth.plot()\n",
    "    plt.show()"
   ]
  },
  {
   "cell_type": "markdown",
   "metadata": {},
   "source": [
    "Displays number of conversions per month."
   ]
  },
  {
   "cell_type": "code",
   "execution_count": 49,
   "metadata": {
    "collapsed": true
   },
   "outputs": [],
   "source": [
    "def number_of_items_purchased_per_month():\n",
    "    conv = get_data('../../fb2015/conversions.csv')\n",
    "    conv['month'] = pd.DatetimeIndex(conv['timestamp']).month\n",
    "    conv['year'] = pd.DatetimeIndex(conv['timestamp']).year\n",
    "    conv_per_yearmonth = conv.groupby(['year', 'month'])['quantity'].count()\n",
    "    conv_per_yearmonth = conv_per_yearmonth.sort_index()\n",
    "    conv_per_yearmonth.plot()\n",
    "    plt.show()"
   ]
  },
  {
   "cell_type": "markdown",
   "metadata": {},
   "source": [
    "Displays number of items purchased per month."
   ]
  },
  {
   "cell_type": "code",
   "execution_count": 50,
   "metadata": {
    "collapsed": true
   },
   "outputs": [],
   "source": [
    "def income_per_month():\n",
    "    conv = get_data('../../fb2015/conversions.csv')\n",
    "    conv['month'] = pd.DatetimeIndex(conv['timestamp']).month\n",
    "    conv['year'] = pd.DatetimeIndex(conv['timestamp']).year\n",
    "    conv_per_yearmonth = conv.groupby(['year', 'month'])['price'].sum()\n",
    "    conv_per_yearmonth = conv_per_yearmonth.sort_index()\n",
    "    conv_per_yearmonth.plot()\n",
    "    plt.show()"
   ]
  },
  {
   "cell_type": "markdown",
   "metadata": {},
   "source": [
    "Displays income per month."
   ]
  },
  {
   "cell_type": "code",
   "execution_count": 51,
   "metadata": {
    "collapsed": false
   },
   "outputs": [],
   "source": [
    "def number_of_purchases_per_user_in_the_first_week():\n",
    "    users = get_data('../../fb2015/users.csv')\n",
    "    users['week_after'] = pd.DatetimeIndex(users['signupTime'])+pd.Timedelta(days=7)\n",
    "    \n",
    "    conv = get_data('../../fb2015/conversions.csv')\n",
    "    conv['timestamp'] = pd.DatetimeIndex(conv['timestamp'])\n",
    "    \n",
    "    joined = pd.merge(users, conv, left_on='userId', right_on='userId', how='inner')\n",
    "    conversions_per_user_in_the_first_week = joined[joined['timestamp'] <= joined['week_after']].groupby('userId')['quantity'].sum()\n",
    "    \n",
    "    conversions_per_user_in_the_first_week.plot(kind='bar')\n",
    "    plt.show()"
   ]
  },
  {
   "cell_type": "markdown",
   "metadata": {},
   "source": [
    "Displays number of items purchased during the first week after signing in."
   ]
  },
  {
   "cell_type": "code",
   "execution_count": 52,
   "metadata": {
    "collapsed": false
   },
   "outputs": [],
   "source": [
    "def number_of_items_from_particular_category_purchased_in_all_countries():\n",
    "    conv = get_data('../../fb2015/conversions.csv')\n",
    "    items = get_data('../../fb2015/items.csv')\n",
    "    \n",
    "    joined = pd.merge(items, conv, left_on='itemId', right_on='itemId', how='inner')\n",
    "    joined.groupby('category')\n",
    "    print(joined)\n",
    "    #count_of_items = conv.groupby('category').count()\n",
    "    #count_of_items.plot()\n",
    "    #plt.show()"
   ]
  },
  {
   "cell_type": "markdown",
   "metadata": {},
   "source": [
    "Displays number of items from particular category purchased by people from all countries."
   ]
  },
  {
   "cell_type": "code",
   "execution_count": 53,
   "metadata": {
    "collapsed": true
   },
   "outputs": [],
   "source": [
    "def number_of_items_from_categories_purchased_in_particular_country():\n",
    "    pass"
   ]
  },
  {
   "cell_type": "markdown",
   "metadata": {},
   "source": [
    "Displays number of items from all cattegories purchased in particular country."
   ]
  },
  {
   "cell_type": "code",
   "execution_count": 54,
   "metadata": {
    "collapsed": false
   },
   "outputs": [
    {
     "name": "stdout",
     "output_type": "stream",
     "text": [
      "0      3732213\n",
      "1      5067387\n",
      "2      3703645\n",
      "3        91491\n",
      "4      5319649\n",
      "5      3272627\n",
      "6      1622407\n",
      "7        52228\n",
      "8      1539564\n",
      "9       758482\n",
      "10      188839\n",
      "11      326601\n",
      "12     3395682\n",
      "13     1990273\n",
      "14     1953927\n",
      "15     5479129\n",
      "16     4769731\n",
      "17      271540\n",
      "18     3898707\n",
      "19     4135754\n",
      "20     2738577\n",
      "21     1551157\n",
      "22     1341836\n",
      "23      946193\n",
      "24     4553338\n",
      "25     3547783\n",
      "26     1871113\n",
      "27     3414433\n",
      "28     2161396\n",
      "29     3745087\n",
      "        ...   \n",
      "303    5445387\n",
      "304    4621106\n",
      "305     631222\n",
      "306    4137829\n",
      "307     873097\n",
      "308    2782920\n",
      "309    5281519\n",
      "310     133441\n",
      "311    4337910\n",
      "312    3779014\n",
      "313      15791\n",
      "314    3418985\n",
      "315     194317\n",
      "316     669786\n",
      "317    3631387\n",
      "318    2756470\n",
      "319    4455090\n",
      "320     154605\n",
      "321     823058\n",
      "322     265696\n",
      "323    2774471\n",
      "324    3795471\n",
      "325    3236026\n",
      "326     102765\n",
      "327     690275\n",
      "328    3110443\n",
      "329       3155\n",
      "330    2127020\n",
      "331    2722956\n",
      "332      34979\n",
      "Name: userId, dtype: int64\n"
     ]
    }
   ],
   "source": [
    "number_of_items_from_particular_category_purchased_in_all_countries()"
   ]
  },
  {
   "cell_type": "code",
   "execution_count": 55,
   "metadata": {
    "collapsed": true
   },
   "outputs": [],
   "source": [
    "#conversions_per_user = conv.groupby(['userId'])['timestamp', 'quantity']\n",
    "#print(conversions_per_user_in_the_first_week)\n",
    "#pd.DatetimeIndex(users['signupTime']).month\n",
    "#users['month'] = pd.DatetimeIndex(users['signupTime']).month\n",
    "#users['year'] = pd.DatetimeIndex(users['signupTime']).year\n",
    "#print(users)\n",
    "\n",
    "#conv['month'] = pd.DatetimeIndex(conv['timestamp']).month\n",
    "#conv['year'] = pd.DatetimeIndex(conv['timestamp']).year\n",
    "\n",
    "#conversions_per_user = pd.concat([users, conv], axis=1, join='inner')\n",
    "\n",
    "\n",
    "#conversions_per_user = pd.concat([users, conv], axis=1, join='inner')\n",
    "\n",
    "#conversions_per_user = conv[conv.timestamp < users.signupTime]\n",
    "\n",
    "#for x in conversions_per_user:\n",
    "#    print(x)\n",
    "#print(conversions_per_yearmonth)\n",
    "\n",
    "#conv = get_data('fb2015/conversions_part.csv')\n",
    "#users = get_data('fb2015/users_part.csv')\n",
    "#result = pd.concat([users, conv], axis=1, join='inner')\n",
    "\n",
    "#data = get_data('fb2015/users.csv')\n",
    "#data['signupTime'] = pd.to_datetime(data['signupTime'])#month\n",
    "#data['yearmonth'] = data['signupTime'].apply(lambda x: getYearMonth(x))\n",
    "#data.set_index(['signupTime'])\n",
    "#print(data['signupTime'].month)\n",
    "#ts = data.groupby(['yearmonth'].sum()#groupby([lambda x: x.year, lambda x: x.month]).sum()\n",
    "#ts.plot()\n",
    "#plt.show() \n",
    "#print(ts)\n",
    "#dates.groupby()\n",
    "#\n",
    "#print(data['yearmonth'])\n",
    "#ts = data['yearmonth'].cumsum()\n",
    "#ts = data['signupTime'].groupby([lambda x: x.year, lambda x: x.month]).sum()\n",
    "#df = pandas.DataFrame(np.random.randn(100, 4), columns=list('ABCD'))\n",
    "\n",
    "#In [120]: rows = random.sample(df.index, 10)\n",
    "#rindex =  np.array(sample(xrange(len(data)), 10))\n",
    "#rows = random.sample(data.index, 10)\n",
    "\n",
    "#data = data.ix[rows]\n",
    "\n",
    "# get 10 random rows from df\n",
    "#data = data.ix[rindex]"
   ]
  }
 ],
 "metadata": {
  "kernelspec": {
   "display_name": "Python 3",
   "language": "python",
   "name": "python3"
  },
  "language_info": {
   "codemirror_mode": {
    "name": "ipython",
    "version": 3
   },
   "file_extension": ".py",
   "mimetype": "text/x-python",
   "name": "python",
   "nbconvert_exporter": "python",
   "pygments_lexer": "ipython3",
   "version": "3.5.0"
  }
 },
 "nbformat": 4,
 "nbformat_minor": 0
}
