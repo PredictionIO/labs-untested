{
 "cells": [
  {
   "cell_type": "code",
   "execution_count": 1,
   "metadata": {
    "collapsed": false
   },
   "outputs": [],
   "source": [
    "import csv\n",
    "import pandas\n",
    "import numpy as np\n",
    "import matplotlib.pyplot as plt\n",
    "import time\n",
    "import datetime\n",
    "import matplotlib\n",
    "import seaborn as sns\n",
    "from sklearn.decomposition import PCA\n",
    "from mpl_toolkits.mplot3d import Axes3D\n",
    "from sklearn import decomposition\n",
    "\n",
    "users = pandas.read_csv(\"data/users.csv\", header=None)\n",
    "conversions = pandas.read_csv(\"data/conversions.csv\", header=None)\n",
    "items = pandas.read_csv(\"data/items.csv\", header=None)\n",
    "users_ads = pandas.read_csv(\"data/users_ads.csv\", header=None)\n",
    "views = pandas.read_csv(\"data/views.csv\", header=None, low_memory=False)"
   ]
  },
  {
   "cell_type": "markdown",
   "metadata": {},
   "source": [
    "Renaming dataframes columns for comfy reading"
   ]
  },
  {
   "cell_type": "code",
   "execution_count": 2,
   "metadata": {
    "collapsed": false
   },
   "outputs": [],
   "source": [
    "users.columns = ['userId', 'registerCountry', 'signupTime']\n",
    "conversions.columns = ['userId', 'itemId', 'price', 'quantity', 'timestamp']\n",
    "items.columns = ['itemId', 'style', 'personality', 'color', 'theme', 'price', 'category']\n",
    "users_ads.columns = ['userId', 'utmSource', 'utmCampaign', 'utmMedium', 'utmTerm', 'utmContent']\n",
    "views.columns = ['userId', 'itemId', 'timestamp', 'pagetype']"
   ]
  },
  {
   "cell_type": "code",
   "execution_count": 3,
   "metadata": {
    "collapsed": false
   },
   "outputs": [],
   "source": [
    "users.signupTime = pandas.to_datetime(users.signupTime)\n",
    "conversions.timestamp = pandas.to_datetime(conversions.timestamp)\n",
    "views.timestamp = pandas.to_datetime(views.timestamp)"
   ]
  },
  {
   "cell_type": "markdown",
   "metadata": {
    "collapsed": true
   },
   "source": [
    "I only am doing it to make the work on the charts a bit faster: choosing only 20% of each dataset."
   ]
  },
  {
   "cell_type": "code",
   "execution_count": 4,
   "metadata": {
    "collapsed": false
   },
   "outputs": [],
   "source": [
    "import random\n",
    "def random_subset(df, percent):\n",
    "    new_size  = int(percent*len(df.index))\n",
    "    subset = random.sample(set(df.index), new_size)\n",
    "    return df.ix[subset]\n",
    "\n",
    "users_small = random_subset(users, 0.2)\n",
    "items_small = random_subset(items, 0.2)\n",
    "users_ads_small = random_subset(users_ads, 0.2)\n",
    "conversions_small = random_subset(conversions, 0.2)\n",
    "# views_small = random_subset(views, 0.2)"
   ]
  },
  {
   "cell_type": "markdown",
   "metadata": {},
   "source": [
    "A simple plot showing how many people (participating in any conversion) bought particular number of items."
   ]
  },
  {
   "cell_type": "code",
   "execution_count": 5,
   "metadata": {
    "collapsed": false,
    "scrolled": true
   },
   "outputs": [
    {
     "name": "stderr",
     "output_type": "stream",
     "text": [
      "/usr/local/lib/python3.4/dist-packages/matplotlib/backends/backend_gtk3.py:215: Warning: Source ID 7 was not found when attempting to remove it\n",
      "  GLib.source_remove(self._idle_event_id)\n"
     ]
    }
   ],
   "source": [
    "# for each user, how many items he purchased\n",
    "counts = conversions.userId.value_counts()\n",
    "# for each count of purchases/client, how many is them?\n",
    "# so: how many clients purchased k items\n",
    "counts2 = counts.value_counts()\n",
    "counts2 = counts2.sort_index()\n",
    "# tmp = pandas.Series(counts.index, index=counts.values)\n",
    "counts2.plot()\n",
    "plt.show()"
   ]
  },
  {
   "cell_type": "markdown",
   "metadata": {
    "collapsed": true
   },
   "source": [
    "Plot saying when users registered."
   ]
  },
  {
   "cell_type": "code",
   "execution_count": 18,
   "metadata": {
    "collapsed": false
   },
   "outputs": [
    {
     "name": "stderr",
     "output_type": "stream",
     "text": [
      "/usr/local/lib/python3.4/dist-packages/matplotlib/backends/backend_gtk3.py:215: Warning: Source ID 5219 was not found when attempting to remove it\n",
      "  GLib.source_remove(self._idle_event_id)\n"
     ]
    }
   ],
   "source": [
    "df_per_month = users.signupTime.value_counts()\n",
    "df_per_month = df_per_month.sort_index()\n",
    "f, ax = sns.plt.subplots(1, sharex=False, sharey=False)\n",
    "ax.set_title(\"User registrations in time\", fontsize=20)\n",
    "for tick in ax.xaxis.get_major_ticks():\n",
    "    tick.label.set_fontsize(14) \n",
    "for tick in ax.yaxis.get_major_ticks():\n",
    "    tick.label.set_fontsize(14) \n",
    "df_per_month.plot(x=range(1,13), ax=ax)\n",
    "plt.show()"
   ]
  },
  {
   "cell_type": "markdown",
   "metadata": {},
   "source": [
    "Evolve timestamp to year, month, day and hour."
   ]
  },
  {
   "cell_type": "code",
   "execution_count": 6,
   "metadata": {
    "collapsed": false
   },
   "outputs": [],
   "source": [
    "def add_year_to_hr(df, timename):\n",
    "    df['month'] = pandas.DatetimeIndex(df[timename]).month\n",
    "    df['year'] = pandas.DatetimeIndex(df[timename]).year\n",
    "    df['day'] = pandas.DatetimeIndex(df[timename]).day\n",
    "    df['hour'] = pandas.DatetimeIndex(df[timename]).hour\n",
    "    return df"
   ]
  },
  {
   "cell_type": "markdown",
   "metadata": {},
   "source": [
    "How much ppl spend each hour?"
   ]
  },
  {
   "cell_type": "code",
   "execution_count": 7,
   "metadata": {
    "collapsed": true
   },
   "outputs": [],
   "source": [
    "conversions = add_year_to_hr(conversions, \"timestamp\")\n",
    "users = add_year_to_hr(users, \"signupTime\")"
   ]
  },
  {
   "cell_type": "code",
   "execution_count": 20,
   "metadata": {
    "collapsed": false
   },
   "outputs": [
    {
     "name": "stderr",
     "output_type": "stream",
     "text": [
      "/usr/local/lib/python3.4/dist-packages/matplotlib/backends/backend_gtk3.py:215: Warning: Source ID 6757 was not found when attempting to remove it\n",
      "  GLib.source_remove(self._idle_event_id)\n"
     ]
    }
   ],
   "source": [
    "sum_per_hour = []\n",
    "for i in range(0,24):\n",
    "    sum_per_hour.append(conversions[conversions.hour == i].price.sum())\n",
    "\n",
    "f, ax = sns.plt.subplots(1, sharex=False, sharey=False)\n",
    "ax.set_title(\"Conversions distribution during the day\", fontsize=20)\n",
    "for tick in ax.xaxis.get_major_ticks():\n",
    "    tick.label.set_fontsize(14) \n",
    "for tick in ax.yaxis.get_major_ticks():\n",
    "    tick.label.set_fontsize(14) \n",
    "pandas.Series(sum_per_hour).plot(ax=ax)\n",
    "plt.show()"
   ]
  },
  {
   "cell_type": "markdown",
   "metadata": {},
   "source": [
    "and each day of the month"
   ]
  },
  {
   "cell_type": "code",
   "execution_count": 23,
   "metadata": {
    "collapsed": false
   },
   "outputs": [
    {
     "name": "stderr",
     "output_type": "stream",
     "text": [
      "/usr/local/lib/python3.4/dist-packages/matplotlib/backends/backend_gtk3.py:215: Warning: Source ID 7629 was not found when attempting to remove it\n",
      "  GLib.source_remove(self._idle_event_id)\n"
     ]
    }
   ],
   "source": [
    "sum_per_day = []\n",
    "for i in range(1,32):\n",
    "    sum_per_day.append(conversions[conversions.day == i].price.sum())\n",
    "\n",
    "f, ax = sns.plt.subplots(1, sharex=False, sharey=False)\n",
    "ax.set_title(\"Conversions distribution during the days of the month\", fontsize=20)\n",
    "for tick in ax.xaxis.get_major_ticks():\n",
    "    tick.label.set_fontsize(14) \n",
    "for tick in ax.yaxis.get_major_ticks():\n",
    "    tick.label.set_fontsize(14) \n",
    "pandas.Series(sum_per_day).plot(ax=ax)\n",
    "plt.show()"
   ]
  },
  {
   "cell_type": "markdown",
   "metadata": {},
   "source": [
    "How many users registered each month?"
   ]
  },
  {
   "cell_type": "code",
   "execution_count": 27,
   "metadata": {
    "collapsed": false
   },
   "outputs": [
    {
     "name": "stderr",
     "output_type": "stream",
     "text": [
      "/usr/local/lib/python3.4/dist-packages/matplotlib/backends/backend_gtk3.py:215: Warning: Source ID 8180 was not found when attempting to remove it\n",
      "  GLib.source_remove(self._idle_event_id)\n",
      "/usr/local/lib/python3.4/dist-packages/matplotlib/backends/backend_gtk3.py:215: Warning: Source ID 8183 was not found when attempting to remove it\n",
      "  GLib.source_remove(self._idle_event_id)\n",
      "/usr/local/lib/python3.4/dist-packages/matplotlib/backends/backend_gtk3.py:215: Warning: Source ID 8182 was not found when attempting to remove it\n",
      "  GLib.source_remove(self._idle_event_id)\n"
     ]
    }
   ],
   "source": [
    "users_per_month = users.month.value_counts()\n",
    "users_per_month = users_per_month.sort_index()\n",
    "f, ax = sns.plt.subplots(1, sharex=False, sharey=False)\n",
    "ax.set_title(\"Mow many users registered each month?\", fontsize=20)\n",
    "for tick in ax.xaxis.get_major_ticks():\n",
    "    tick.label.set_fontsize(14) \n",
    "for tick in ax.yaxis.get_major_ticks():\n",
    "    tick.label.set_fontsize(14) \n",
    "\n",
    "users_per_month.plot(x=range(1,13), ax=ax)\n",
    "\n",
    "plt.show()"
   ]
  },
  {
   "cell_type": "markdown",
   "metadata": {},
   "source": [
    "What time do users usually register?"
   ]
  },
  {
   "cell_type": "code",
   "execution_count": 28,
   "metadata": {
    "collapsed": false
   },
   "outputs": [
    {
     "name": "stderr",
     "output_type": "stream",
     "text": [
      "/usr/local/lib/python3.4/dist-packages/matplotlib/backends/backend_gtk3.py:215: Warning: Source ID 8847 was not found when attempting to remove it\n",
      "  GLib.source_remove(self._idle_event_id)\n"
     ]
    }
   ],
   "source": [
    "f, ax = sns.plt.subplots(1, sharex=False, sharey=False)\n",
    "ax.set_title(\"Hours of registration\", fontsize=20)\n",
    "for tick in ax.xaxis.get_major_ticks():\n",
    "    tick.label.set_fontsize(14) \n",
    "for tick in ax.yaxis.get_major_ticks():\n",
    "    tick.label.set_fontsize(14) \n",
    "\n",
    "sum_per_hour = []\n",
    "    \n",
    "for i in range(0,24):\n",
    "    sum_per_hour.append(users[users.hour == i].hour.size)\n",
    "\n",
    "pandas.Series(sum_per_hour).plot()\n",
    "plt.show()"
   ]
  },
  {
   "cell_type": "markdown",
   "metadata": {},
   "source": [
    "Fist attempt to perform PCA (analysis of items price, cathegory and color split by theme). It is not working correctly yet, did not manage to fix it."
   ]
  },
  {
   "cell_type": "code",
   "execution_count": 14,
   "metadata": {
    "collapsed": false
   },
   "outputs": [
    {
     "name": "stderr",
     "output_type": "stream",
     "text": [
      "/usr/local/lib/python3.4/dist-packages/matplotlib/collections.py:590: FutureWarning: elementwise comparison failed; returning scalar instead, but in the future will perform elementwise comparison\n",
      "  if self._edgecolors == str('face'):\n",
      "/usr/local/lib/python3.4/dist-packages/matplotlib/backends/backend_gtk3.py:215: Warning: Source ID 250 was not found when attempting to remove it\n",
      "  GLib.source_remove(self._idle_event_id)\n"
     ]
    }
   ],
   "source": [
    "X = np.array([items_small.price.values,\n",
    "              items_small.category.values,\n",
    "              items_small.color.values])\n",
    "\n",
    "y = np.array([items_small.theme.values])\n",
    "\n",
    "fig = plt.figure(1)\n",
    "plt.clf()\n",
    "ax = Axes3D(fig, rect=[0, 0, .95, 1], elev=48, azim=134)\n",
    "\n",
    "plt.cla()\n",
    "pca = decomposition.PCA(n_components=2)\n",
    "pca.fit(X)\n",
    "X = pca.transform(X)\n",
    "\n",
    "# y = np.choose(y, [1, 2]).astype(np.float)\n",
    "ax.scatter(X[0], X[1], X[2], c=[1,2], cmap=plt.cm.spectral)\n",
    "\n",
    "x_surf = [X[:, 0].min(), X[:, 0].max(),\n",
    "          X[:, 0].min(), X[:, 0].max()]\n",
    "y_surf = [X[:, 0].max(), X[:, 0].max(),\n",
    "          X[:, 0].min(), X[:, 0].min()]\n",
    "x_surf = np.array(x_surf)\n",
    "y_surf = np.array(y_surf)\n",
    "v0 = pca.transform(pca.components_[[0]])\n",
    "v0 /= v0[-1]\n",
    "v1 = pca.transform(pca.components_[[1]])\n",
    "v1 /= v1[-1]\n",
    "\n",
    "ax.w_xaxis.set_ticklabels([])\n",
    "ax.w_yaxis.set_ticklabels([])\n",
    "ax.w_zaxis.set_ticklabels([])\n",
    "\n",
    "plt.show()"
   ]
  },
  {
   "cell_type": "markdown",
   "metadata": {},
   "source": [
    "Merging dataframes - creating a frame containing full information about transactions (with redundancies, so cannot be applied to views, as it is too big). Will be useful for a single customer journey visualization I am working on now."
   ]
  },
  {
   "cell_type": "code",
   "execution_count": 28,
   "metadata": {
    "collapsed": false
   },
   "outputs": [
    {
     "name": "stdout",
     "output_type": "stream",
     "text": [
      "['userId' 'itemId' 'price_x' 'quantity' 'timestamp' 'month_x' 'year_x'\n",
      " 'day_x' 'hour_x' 'registerCountry' 'signupTime' 'month_y' 'year_y' 'day_y'\n",
      " 'hour_y' 'style' 'personality' 'color' 'theme' 'price_y' 'category']\n"
     ]
    }
   ],
   "source": [
    "full_info_conversions = conversions.merge(users, how='inner', on='userId')\n",
    "full_info_conversions = full_info_conversions.merge(items, how='inner', on='itemId')\n",
    "print(full_info_conversions.columns.values)"
   ]
  },
  {
   "cell_type": "markdown",
   "metadata": {},
   "source": [
    "A single customer journey.\n",
    "\n",
    "Printing plots connected with user's activity: for now buying and views."
   ]
  },
  {
   "cell_type": "code",
   "execution_count": 52,
   "metadata": {
    "collapsed": false
   },
   "outputs": [
    {
     "data": {
      "image/png": "[encoded data removed]",
      "text/plain": [
       "<matplotlib.figure.Figure at 0x7f13d01f0780>"
      ]
     },
     "metadata": {},
     "output_type": "display_data"
    }
   ],
   "source": [
    "def single_customer_journey(myId):\n",
    "    user_full_info_conversions = full_info_conversions[full_info_conversions.userId==myId]\n",
    "    %matplotlib inline\n",
    "    sns.set()\n",
    "    main_title = \"Showing journey for customer \" + str(myId);\n",
    "    f, (ax1, ax2, ax3, ax4) = sns.plt.subplots(4, sharex=False, sharey=False)\n",
    "    f.suptitle(main_title, fontsize=16)\n",
    "    f.set_size_inches(15,30)\n",
    "    \n",
    "    df_per_month = user_full_info_conversions.timestamp.value_counts()\n",
    "    df_per_month = df_per_month.sort_index()\n",
    "    sns.barplot(y=df_per_month.values, x=df_per_month.index, ax=ax1)\n",
    "    ax1.set_title(\"When did this user buy how many stuff?\")\n",
    "    ax1.set_xlabel(\"time\")\n",
    "\n",
    "    spending = user_full_info_conversions.price_y * user_full_info_conversions.quantity\n",
    "    spending.index = user_full_info_conversions.timestamp\n",
    "    spending = spending.sort_index()\n",
    "    df_sp = pandas.DataFrame()\n",
    "    df_sp['spending'] = spending\n",
    "#     df_sp.plot(kind=\"scatter\", x=spending.index, y=spending.values, ax=ax2)\n",
    "    ax2.set_title(\"How much did the user spend in time?\")\n",
    "    ax2.set_xlabel(\"time\")\n",
    "    \n",
    "    views_of_user = views[views.userId==myId]\n",
    "    df_per_month = views_of_user.timestamp.value_counts()\n",
    "    df_per_month = df_per_month.sort_index()\n",
    "    sns.barplot(y=df_per_month.values, x=df_per_month.index, ax=ax3)\n",
    "    ax3.set_title(\"How many objects did the user check out?\")\n",
    "    ax3.set_xlabel(\"time\")\n",
    "    \n",
    "    sns.plt.show()\n",
    "    \n",
    "single_customer_journey(5275381)"
   ]
  },
  {
   "cell_type": "code",
   "execution_count": null,
   "metadata": {
    "collapsed": true
   },
   "outputs": [],
   "source": []
  },
  {
   "cell_type": "code",
   "execution_count": null,
   "metadata": {
    "collapsed": true
   },
   "outputs": [],
   "source": []
  }
 ],
 "metadata": {
  "kernelspec": {
   "display_name": "Python 3",
   "language": "python",
   "name": "python3"
  },
  "language_info": {
   "codemirror_mode": {
    "name": "ipython",
    "version": 3
   },
   "file_extension": ".py",
   "mimetype": "text/x-python",
   "name": "python",
   "nbconvert_exporter": "python",
   "pygments_lexer": "ipython3",
   "version": "3.4.3"
  }
 },
 "nbformat": 4,
 "nbformat_minor": 0
}
