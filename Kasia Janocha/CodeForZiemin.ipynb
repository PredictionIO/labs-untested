{
 "cells": [
  {
   "cell_type": "code",
   "execution_count": 9,
   "metadata": {
    "collapsed": true
   },
   "outputs": [],
   "source": [
    "import csv\n",
    "import pandas\n",
    "import numpy as np\n",
    "import matplotlib.pyplot as plt\n",
    "import time\n",
    "import datetime\n",
    "import matplotlib\n",
    "import seaborn as sns\n",
    "from sklearn.decomposition import PCA\n",
    "from mpl_toolkits.mplot3d import Axes3D\n",
    "from sklearn import decomposition\n",
    "\n",
    "users = pandas.read_csv(\"data/users.csv\", header=None)\n",
    "conversions = pandas.read_csv(\"data/conversions.csv\", header=None)\n",
    "items = pandas.read_csv(\"data/items.csv\", header=None)\n",
    "users_ads = pandas.read_csv(\"data/users_ads.csv\", header=None)\n",
    "views = pandas.read_csv(\"data/views.csv\", header=None, low_memory=False)\n",
    "\n",
    "users.columns = ['userId', 'registerCountry', 'signupTime']\n",
    "conversions.columns = ['userId', 'itemId', 'price', 'quantity', 'timestamp']\n",
    "items.columns = ['itemId', 'style', 'personality', 'color', 'theme', 'price', 'category']\n",
    "users_ads.columns = ['userId', 'utmSource', 'utmCampaign', 'utmMedium', 'utmTerm', 'utmContent']\n",
    "views.columns = ['userId', 'itemId', 'timestamp', 'pagetype']\n",
    "\n",
    "users.signupTime = pandas.to_datetime(users.signupTime)\n",
    "conversions.timestamp = pandas.to_datetime(conversions.timestamp)\n",
    "views.timestamp = pandas.to_datetime(views.timestamp)"
   ]
  },
  {
   "cell_type": "code",
   "execution_count": 10,
   "metadata": {
    "collapsed": true
   },
   "outputs": [],
   "source": [
    "import random\n",
    "def random_subset(df, percent):\n",
    "    new_size  = int(percent*len(df.index))\n",
    "    subset = random.sample(set(df.index), new_size)\n",
    "    return df.ix[subset]\n",
    "\n",
    "users_small = random_subset(users, 0.2)\n",
    "items_small = random_subset(items, 0.2)\n",
    "users_ads_small = random_subset(users_ads, 0.2)\n",
    "conversions_small = random_subset(conversions, 0.2)\n",
    "# views_small = random_subset(views, 0.2)"
   ]
  },
  {
   "cell_type": "code",
   "execution_count": 11,
   "metadata": {
    "collapsed": false
   },
   "outputs": [
    {
     "name": "stdout",
     "output_type": "stream",
     "text": [
      "['userId' 'itemId' 'price_x' 'quantity' 'timestamp' 'registerCountry'\n",
      " 'signupTime' 'style' 'personality' 'color' 'theme' 'price_y' 'category']\n"
     ]
    }
   ],
   "source": [
    "full_info_conversions = conversions.merge(users, how='inner', on='userId')\n",
    "full_info_conversions = full_info_conversions.merge(items, how='inner', on='itemId')\n",
    "print(full_info_conversions.columns.values)"
   ]
  },
  {
   "cell_type": "code",
   "execution_count": 12,
   "metadata": {
    "collapsed": false
   },
   "outputs": [
    {
     "name": "stdout",
     "output_type": "stream",
     "text": [
      "['userId' 'itemId_x' 'price_x' 'quantity' 'timestamp_x' 'registerCountry'\n",
      " 'signupTime' 'style' 'personality' 'color' 'theme' 'price_y' 'category'\n",
      " 'itemId_y' 'timestamp_y' 'pagetype']\n"
     ]
    }
   ],
   "source": [
    "full_info_views_conversions = full_info_conversions.merge(views, how='inner', on='userId')\n",
    "print(full_info_views_conversions.columns.values)"
   ]
  },
  {
   "cell_type": "markdown",
   "metadata": {},
   "source": [
    "Printing charts for people who had max k views and bought something"
   ]
  },
  {
   "cell_type": "code",
   "execution_count": 107,
   "metadata": {
    "collapsed": false
   },
   "outputs": [],
   "source": [
    "def mean_or_zero(series):\n",
    "    if series.size == 0:\n",
    "        return 0.0\n",
    "    return series.mean()\n",
    "\n",
    "def charts_max_k_views_bought_something(period_of_time_days, k):\n",
    "    df = full_info_views_conversions[full_info_views_conversions.timestamp_x <= full_info_views_conversions.signupTime + pandas.Timedelta(period_of_time_days)]\n",
    "    df['spending'] = df.price_y * df.quantity\n",
    "\n",
    "    sns.set()\n",
    "    f, (axes) = sns.plt.subplots(3, sharex=False, sharey=False)\n",
    "    main_title = \"Charts binned by number of initial views (max \" + str(k) + \" views) during first \" + str(period_of_time_days) + \" days after registration\" \n",
    "    f.suptitle(main_title)\n",
    "    f.suptitle(main_title)\n",
    "    f.set_size_inches(15,30)\n",
    "    f.tight_layout(pad=1, w_pad=1, h_pad=13)\n",
    "    plt.subplots_adjust(top=0.91)\n",
    "    \n",
    "    sum_df = pandas.DataFrame()\n",
    "    sum_df['userId'] = df.userId\n",
    "    sum_df['quantity'] = df.quantity\n",
    "    sum_df['spending']  = df.spending\n",
    "    sum_df['number_views'] = np.ones(sum_df.spending.size)\n",
    "    \n",
    "    sum_df = sum_df.groupby('userId').sum()\n",
    "\n",
    "    mean_spending_k=[]\n",
    "    for i in range(k):\n",
    "        mean_spending_k.append(mean_or_zero((sum_df[sum_df.number_views == i]).spending))\n",
    "    mean_spending_k_series = pandas.Series(mean_spending_k, index=range(k))\n",
    "    mean_spending_k_series.plot(ax=axes[0],kind='bar')\n",
    "    axes[0].set_title(\"Average spending\", fontsize=16)\n",
    "    axes[1].set_xlabel(\"Number of views\")\n",
    "    axes[1].set_ylabel(\"Mean spending\")\n",
    "    \n",
    "    mean_quantity_k=[]\n",
    "    for i in range(k):\n",
    "        mean_quantity_k.append(mean_or_zero((sum_df[sum_df.number_views == i]).quantity))\n",
    "    mean_quantity_k = pandas.Series(mean_quantity_k, index=range(k))\n",
    "    mean_quantity_k.plot(ax=axes[1],kind='bar')\n",
    "    axes[1].set_title(\"Mean quantity of bought objects\", fontsize=13)\n",
    "    axes[1].set_xlabel(\"Number of views\")\n",
    "    axes[1].set_ylabel(\"Mean quantity\")\n",
    "\n",
    "    plt.show()"
   ]
  },
  {
   "cell_type": "code",
   "execution_count": null,
   "metadata": {
    "collapsed": false
   },
   "outputs": [],
   "source": [
    "charts_max_k_views_bought_something(10, 20)"
   ]
  },
  {
   "cell_type": "code",
   "execution_count": null,
   "metadata": {
    "collapsed": true
   },
   "outputs": [],
   "source": []
  }
 ],
 "metadata": {
  "kernelspec": {
   "display_name": "Python 3",
   "language": "python",
   "name": "python3"
  },
  "language_info": {
   "codemirror_mode": {
    "name": "ipython",
    "version": 3
   },
   "file_extension": ".py",
   "mimetype": "text/x-python",
   "name": "python",
   "nbconvert_exporter": "python",
   "pygments_lexer": "ipython3",
   "version": "3.4.3"
  }
 },
 "nbformat": 4,
 "nbformat_minor": 0
}
