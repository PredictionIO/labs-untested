{
 "cells": [
  {
   "cell_type": "code",
   "execution_count": 2,
   "metadata": {
    "collapsed": true
   },
   "outputs": [],
   "source": [
    "import csv\n",
    "import pandas\n",
    "import numpy as np\n",
    "import matplotlib.pyplot as plt\n",
    "import time\n",
    "import datetime\n",
    "import matplotlib\n",
    "import seaborn as sns\n",
    "from sklearn.decomposition import PCA\n",
    "from mpl_toolkits.mplot3d import Axes3D\n",
    "from sklearn import decomposition\n",
    "\n",
    "users = pandas.read_csv(\"data/users.csv\", header=None)\n",
    "conversions = pandas.read_csv(\"data/conversions.csv\", header=None)\n",
    "items = pandas.read_csv(\"data/items.csv\", header=None)\n",
    "users_ads = pandas.read_csv(\"data/users_ads.csv\", header=None)\n",
    "views = pandas.read_csv(\"data/views.csv\", header=None, low_memory=False)\n",
    "\n",
    "users.columns = ['userId', 'registerCountry', 'signupTime']\n",
    "conversions.columns = ['userId', 'itemId', 'price', 'quantity', 'timestamp']\n",
    "items.columns = ['itemId', 'style', 'personality', 'color', 'theme', 'price', 'category']\n",
    "users_ads.columns = ['userId', 'utmSource', 'utmCampaign', 'utmMedium', 'utmTerm', 'utmContent']\n",
    "views.columns = ['userId', 'itemId', 'timestamp', 'pagetype']\n",
    "\n",
    "users.signupTime = pandas.to_datetime(users.signupTime)\n",
    "conversions.timestamp = pandas.to_datetime(conversions.timestamp)\n",
    "views.timestamp = pandas.to_datetime(views.timestamp)"
   ]
  },
  {
   "cell_type": "code",
   "execution_count": 3,
   "metadata": {
    "collapsed": true
   },
   "outputs": [],
   "source": [
    "import random\n",
    "def random_subset(df, percent):\n",
    "    new_size  = int(percent*len(df.index))\n",
    "    subset = random.sample(set(df.index), new_size)\n",
    "    return df.ix[subset]\n",
    "\n",
    "users_small = random_subset(users, 0.2)\n",
    "items_small = random_subset(items, 0.2)\n",
    "users_ads_small = random_subset(users_ads, 0.2)\n",
    "conversions_small = random_subset(conversions, 0.2)\n",
    "# views_small = random_subset(views, 0.2)"
   ]
  },
  {
   "cell_type": "code",
   "execution_count": 4,
   "metadata": {
    "collapsed": false
   },
   "outputs": [
    {
     "name": "stdout",
     "output_type": "stream",
     "text": [
      "['userId' 'itemId' 'price_x' 'quantity' 'timestamp' 'registerCountry'\n",
      " 'signupTime' 'style' 'personality' 'color' 'theme' 'price_y' 'category']\n"
     ]
    }
   ],
   "source": [
    "full_info_conversions = conversions.merge(users, how='inner', on='userId')\n",
    "full_info_conversions = full_info_conversions.merge(items, how='inner', on='itemId')\n",
    "print(full_info_conversions.columns.values)"
   ]
  },
  {
   "cell_type": "code",
   "execution_count": 25,
   "metadata": {
    "collapsed": false
   },
   "outputs": [
    {
     "name": "stdout",
     "output_type": "stream",
     "text": [
      "['userId' 'itemId_x' 'price_x' 'quantity' 'timestamp_x' 'registerCountry'\n",
      " 'signupTime' 'style' 'personality' 'color' 'theme' 'price_y' 'category'\n",
      " 'itemId_y' 'timestamp_y' 'pagetype']\n",
      "['userId' 'itemId' 'timestamp' 'pagetype']\n"
     ]
    }
   ],
   "source": [
    "full_info_views_conversions = full_info_conversions.merge(views, how='inner', on='userId')\n",
    "print(full_info_views_conversions.columns.values)\n",
    "print(views.columns.values)"
   ]
  },
  {
   "cell_type": "code",
   "execution_count": 65,
   "metadata": {
    "collapsed": false
   },
   "outputs": [
    {
     "name": "stderr",
     "output_type": "stream",
     "text": [
      "/usr/local/lib/python3.4/dist-packages/ipykernel/__main__.py:3: SettingWithCopyWarning: \n",
      "A value is trying to be set on a copy of a slice from a DataFrame.\n",
      "Try using .loc[row_indexer,col_indexer] = value instead\n",
      "\n",
      "See the caveats in the documentation: http://pandas.pydata.org/pandas-docs/stable/indexing.html#indexing-view-versus-copy\n",
      "  app.launch_new_instance()\n"
     ]
    }
   ],
   "source": [
    "filter = ~full_info_conversions.userId.isin(full_info_views_conversions.userId)\n",
    "zero_views_and_have_conversions = full_info_conversions[filter]\n",
    "zero_views_and_have_conversions['spending'] = zero_views_and_have_conversions.price_y * zero_views_and_have_conversions.quantity"
   ]
  },
  {
   "cell_type": "markdown",
   "metadata": {},
   "source": [
    "Printing charts for people who had max k views and bought something"
   ]
  },
  {
   "cell_type": "code",
   "execution_count": 62,
   "metadata": {
    "collapsed": false
   },
   "outputs": [],
   "source": [
    "def mean_or_zero(series):\n",
    "    if series.size == 0:\n",
    "        return 0.0\n",
    "    return series.mean()\n",
    "import math\n",
    "\n",
    "def charts_max_k_views_bought_something(period_of_time_days, k):\n",
    "    df = full_info_views_conversions[full_info_views_conversions.timestamp_x <= full_info_views_conversions.signupTime + pandas.Timedelta(period_of_time_days)]\n",
    "    df['spending'] = df.price_y * df.quantity\n",
    "\n",
    "    sns.set()\n",
    "    f, (axes) = sns.plt.subplots(3, sharex=False, sharey=False)\n",
    "    main_title = \"Charts binned by number of initial views (max \" + str(k) + \" views) during first \" + str(period_of_time_days) + \" days after registration\" \n",
    "    f.suptitle(main_title)\n",
    "    f.suptitle(main_title)\n",
    "    f.set_size_inches(15,30)\n",
    "    f.tight_layout(pad=1, w_pad=1, h_pad=13)\n",
    "    plt.subplots_adjust(top=0.91)\n",
    "    \n",
    "    sum_df = pandas.DataFrame()\n",
    "    sum_df['userId'] = df.userId\n",
    "    sum_df['quantity'] = df.quantity\n",
    "    sum_df['spending']  = df.spending\n",
    "    sum_df['number_views'] = np.ones(sum_df.spending.size)\n",
    "    \n",
    "    sum_df = sum_df.groupby('userId').sum()\n",
    "\n",
    "    mean_spending_k=[]\n",
    "    for i in range(k):\n",
    "        mean_spending_k.append((sum_df[sum_df.number_views == i]).spending.mean())\n",
    "    if math.isnan(mean_spending_k[0]):\n",
    "        mean_spending_k[0] = zero_views_and_have_conversions.spending.mean()\n",
    "\n",
    "    mean_spending_k_series = pandas.Series(mean_spending_k, index=range(k))\n",
    "    mean_spending_k_series.plot(ax=axes[0],kind='bar')\n",
    "    axes[0].set_title(\"Average spending\", fontsize=16)\n",
    "    axes[0].set_xlabel(\"Number of views\")\n",
    "    axes[0].set_ylabel(\"Mean spending\")\n",
    "    \n",
    "    mean_quantity_k=[]\n",
    "    for i in range(k):\n",
    "        mean_quantity_k.append((sum_df[sum_df.number_views == i]).quantity.mean())\n",
    "    if math.isnan(mean_quantity_k[0]):\n",
    "        mean_quantity_k[0] = zero_views_and_have_conversions.quantity.mean()\n",
    "\n",
    "    mean_quantity_k = pandas.Series(mean_quantity_k, index=range(k))\n",
    "    mean_quantity_k.plot(ax=axes[1],kind='bar')\n",
    "    axes[1].set_title(\"Mean quantity of bought objects\", fontsize=13)\n",
    "    axes[1].set_xlabel(\"Number of views\")\n",
    "    axes[1].set_ylabel(\"Mean quantity\")\n",
    "\n",
    "    amount_of_people_k=[]\n",
    "    for i in range(k):\n",
    "        amount_of_people_k.append((sum_df[sum_df.number_views == i]).quantity.size)\n",
    "    amount_of_people_k[0] = zero_views_and_have_conversions.userId.size\n",
    "    amount_of_people_k = pandas.Series(mean_quantity_k, index=range(k))\n",
    "    amount_of_people_k.plot(ax=axes[2],kind='bar')\n",
    "    axes[2].set_title(\"Amount of people who had x views and have transactions\", fontsize=13)\n",
    "    axes[2].set_xlabel(\"Number of views\")\n",
    "    axes[2].set_ylabel(\"Amount of people\") \n",
    "    \n",
    "    plt.show()"
   ]
  },
  {
   "cell_type": "code",
   "execution_count": 63,
   "metadata": {
    "collapsed": false
   },
   "outputs": [
    {
     "name": "stderr",
     "output_type": "stream",
     "text": [
      "/usr/local/lib/python3.4/dist-packages/ipykernel/__main__.py:9: SettingWithCopyWarning: \n",
      "A value is trying to be set on a copy of a slice from a DataFrame.\n",
      "Try using .loc[row_indexer,col_indexer] = value instead\n",
      "\n",
      "See the caveats in the documentation: http://pandas.pydata.org/pandas-docs/stable/indexing.html#indexing-view-versus-copy\n"
     ]
    },
    {
     "ename": "AttributeError",
     "evalue": "'DataFrame' object has no attribute 'spending'",
     "output_type": "error",
     "traceback": [
      "\u001b[1;31m---------------------------------------------------------------------------\u001b[0m",
      "\u001b[1;31mAttributeError\u001b[0m                            Traceback (most recent call last)",
      "\u001b[1;32m<ipython-input-63-75d320ddb4ad>\u001b[0m in \u001b[0;36m<module>\u001b[1;34m()\u001b[0m\n\u001b[1;32m----> 1\u001b[1;33m \u001b[0mcharts_max_k_views_bought_something\u001b[0m\u001b[1;33m(\u001b[0m\u001b[1;36m10\u001b[0m\u001b[1;33m,\u001b[0m \u001b[1;36m20\u001b[0m\u001b[1;33m)\u001b[0m\u001b[1;33m\u001b[0m\u001b[0m\n\u001b[0m",
      "\u001b[1;32m<ipython-input-62-c22635e1bd23>\u001b[0m in \u001b[0;36mcharts_max_k_views_bought_something\u001b[1;34m(period_of_time_days, k)\u001b[0m\n\u001b[0;32m     30\u001b[0m         \u001b[0mmean_spending_k\u001b[0m\u001b[1;33m.\u001b[0m\u001b[0mappend\u001b[0m\u001b[1;33m(\u001b[0m\u001b[1;33m(\u001b[0m\u001b[0msum_df\u001b[0m\u001b[1;33m[\u001b[0m\u001b[0msum_df\u001b[0m\u001b[1;33m.\u001b[0m\u001b[0mnumber_views\u001b[0m \u001b[1;33m==\u001b[0m \u001b[0mi\u001b[0m\u001b[1;33m]\u001b[0m\u001b[1;33m)\u001b[0m\u001b[1;33m.\u001b[0m\u001b[0mspending\u001b[0m\u001b[1;33m.\u001b[0m\u001b[0mmean\u001b[0m\u001b[1;33m(\u001b[0m\u001b[1;33m)\u001b[0m\u001b[1;33m)\u001b[0m\u001b[1;33m\u001b[0m\u001b[0m\n\u001b[0;32m     31\u001b[0m     \u001b[1;32mif\u001b[0m \u001b[0mmath\u001b[0m\u001b[1;33m.\u001b[0m\u001b[0misnan\u001b[0m\u001b[1;33m(\u001b[0m\u001b[0mmean_spending_k\u001b[0m\u001b[1;33m[\u001b[0m\u001b[1;36m0\u001b[0m\u001b[1;33m]\u001b[0m\u001b[1;33m)\u001b[0m\u001b[1;33m:\u001b[0m\u001b[1;33m\u001b[0m\u001b[0m\n\u001b[1;32m---> 32\u001b[1;33m         \u001b[0mmean_spending_k\u001b[0m\u001b[1;33m[\u001b[0m\u001b[1;36m0\u001b[0m\u001b[1;33m]\u001b[0m \u001b[1;33m=\u001b[0m \u001b[0mzero_views_and_have_conversions\u001b[0m\u001b[1;33m.\u001b[0m\u001b[0mspending\u001b[0m\u001b[1;33m.\u001b[0m\u001b[0mmean\u001b[0m\u001b[1;33m(\u001b[0m\u001b[1;33m)\u001b[0m\u001b[1;33m\u001b[0m\u001b[0m\n\u001b[0m\u001b[0;32m     33\u001b[0m \u001b[1;33m\u001b[0m\u001b[0m\n\u001b[0;32m     34\u001b[0m     \u001b[0mmean_spending_k_series\u001b[0m \u001b[1;33m=\u001b[0m \u001b[0mpandas\u001b[0m\u001b[1;33m.\u001b[0m\u001b[0mSeries\u001b[0m\u001b[1;33m(\u001b[0m\u001b[0mmean_spending_k\u001b[0m\u001b[1;33m,\u001b[0m \u001b[0mindex\u001b[0m\u001b[1;33m=\u001b[0m\u001b[0mrange\u001b[0m\u001b[1;33m(\u001b[0m\u001b[0mk\u001b[0m\u001b[1;33m)\u001b[0m\u001b[1;33m)\u001b[0m\u001b[1;33m\u001b[0m\u001b[0m\n",
      "\u001b[1;32m/usr/local/lib/python3.4/dist-packages/pandas/core/generic.py\u001b[0m in \u001b[0;36m__getattr__\u001b[1;34m(self, name)\u001b[0m\n\u001b[0;32m   2244\u001b[0m                 \u001b[1;32mreturn\u001b[0m \u001b[0mself\u001b[0m\u001b[1;33m[\u001b[0m\u001b[0mname\u001b[0m\u001b[1;33m]\u001b[0m\u001b[1;33m\u001b[0m\u001b[0m\n\u001b[0;32m   2245\u001b[0m             raise AttributeError(\"'%s' object has no attribute '%s'\" %\n\u001b[1;32m-> 2246\u001b[1;33m                                  (type(self).__name__, name))\n\u001b[0m\u001b[0;32m   2247\u001b[0m \u001b[1;33m\u001b[0m\u001b[0m\n\u001b[0;32m   2248\u001b[0m     \u001b[1;32mdef\u001b[0m \u001b[0m__setattr__\u001b[0m\u001b[1;33m(\u001b[0m\u001b[0mself\u001b[0m\u001b[1;33m,\u001b[0m \u001b[0mname\u001b[0m\u001b[1;33m,\u001b[0m \u001b[0mvalue\u001b[0m\u001b[1;33m)\u001b[0m\u001b[1;33m:\u001b[0m\u001b[1;33m\u001b[0m\u001b[0m\n",
      "\u001b[1;31mAttributeError\u001b[0m: 'DataFrame' object has no attribute 'spending'"
     ]
    }
   ],
   "source": [
    "charts_max_k_views_bought_something(10, 20)"
   ]
  },
  {
   "cell_type": "code",
   "execution_count": null,
   "metadata": {
    "collapsed": true
   },
   "outputs": [],
   "source": []
  }
 ],
 "metadata": {
  "kernelspec": {
   "display_name": "Python 3",
   "language": "python",
   "name": "python3"
  },
  "language_info": {
   "codemirror_mode": {
    "name": "ipython",
    "version": 3
   },
   "file_extension": ".py",
   "mimetype": "text/x-python",
   "name": "python",
   "nbconvert_exporter": "python",
   "pygments_lexer": "ipython3",
   "version": "3.4.3"
  }
 },
 "nbformat": 4,
 "nbformat_minor": 0
}
