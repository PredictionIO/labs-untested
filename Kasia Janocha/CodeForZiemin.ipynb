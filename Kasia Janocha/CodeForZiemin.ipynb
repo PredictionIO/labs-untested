{
 "cells": [
  {
   "cell_type": "markdown",
   "metadata": {
    "collapsed": false
   },
   "source": [
    "Reading the data from csv  files as dataframes."
   ]
  },
  {
   "cell_type": "code",
   "execution_count": null,
   "metadata": {
    "collapsed": true
   },
   "outputs": [],
   "source": [
    "import csv\n",
    "import pandas\n",
    "import numpy as np\n",
    "import matplotlib.pyplot as plt\n",
    "import time\n",
    "import datetime\n",
    "import matplotlib\n",
    "import seaborn as sns\n",
    "from sklearn.decomposition import PCA\n",
    "from mpl_toolkits.mplot3d import Axes3D\n",
    "from sklearn import decomposition\n",
    "\n",
    "users = pandas.read_csv(\"data/users.csv\", header=None)\n",
    "conversions = pandas.read_csv(\"data/conversions.csv\", header=None)\n",
    "items = pandas.read_csv(\"data/items.csv\", header=None)\n",
    "users_ads = pandas.read_csv(\"data/users_ads.csv\", header=None)\n",
    "views = pandas.read_csv(\"data/views.csv\", header=None, low_memory=False)\n",
    "\n",
    "users.columns = ['userId', 'registerCountry', 'signupTime']\n",
    "conversions.columns = ['userId', 'itemId', 'price', 'quantity', 'timestamp']\n",
    "items.columns = ['itemId', 'style', 'personality', 'color', 'theme', 'price', 'category']\n",
    "users_ads.columns = ['userId', 'utmSource', 'utmCampaign', 'utmMedium', 'utmTerm', 'utmContent']\n",
    "views.columns = ['userId', 'itemId', 'timestamp', 'pagetype']\n",
    "\n",
    "users.signupTime = pandas.to_datetime(users.signupTime)\n",
    "conversions.timestamp = pandas.to_datetime(conversions.timestamp)\n",
    "views.timestamp = pandas.to_datetime(views.timestamp)"
   ]
  },
  {
   "cell_type": "markdown",
   "metadata": {},
   "source": [
    "A  fragment of code presenting user data as real vectors. Using sparse data in order to be able  to operate on it quickly and feed it to scikit-learn algorithms."
   ]
  },
  {
   "cell_type": "code",
   "execution_count": 11,
   "metadata": {
    "collapsed": false
   },
   "outputs": [
    {
     "name": "stdout",
     "output_type": "stream",
     "text": [
      "333363\n"
     ]
    },
    {
     "name": "stderr",
     "output_type": "stream",
     "text": [
      "/usr/local/lib/python3.4/dist-packages/numpy/core/fromnumeric.py:2641: VisibleDeprecationWarning: `rank` is deprecated; use the `ndim` attribute or function instead. To find the rank of a matrix see `numpy.linalg.matrix_rank`.\n",
      "  VisibleDeprecationWarning)\n"
     ]
    }
   ],
   "source": [
    "from scipy.sparse import lil_matrix, kron,identity\n",
    "from scipy.sparse.linalg import lsqr\n",
    "\n",
    "users.signupTime = pandas.to_datetime(users.signupTime)\n",
    "conversions.timestamp = pandas.to_datetime(conversions.timestamp)\n",
    "\n",
    "item_indices = items.itemId.value_counts().index\n",
    "item_indices = pandas.Series(range(len(item_indices)), index = item_indices)\n",
    "\n",
    "user_indices = users.userId.value_counts().index\n",
    "user_indices = pandas.Series(range(len(user_indices)), index = user_indices)\n",
    "\n",
    "def users_as_real_vectors(users_df):\n",
    "    user_number_of_purchases = lil_matrix((user_indices.size, item_indices.size))\n",
    "    for index, row in conversions.iterrows():\n",
    "        if not (row.itemId in item_indices.index) or not (row.userId in user_indices.index):\n",
    "            continue\n",
    "        item_index = item_indices[row.itemId]\n",
    "        user_index = user_indices[row.userId]\n",
    "        user_number_of_purchases[user_index, item_index] += row.quantity\n",
    "    print(user_number_of_purchases.size)\n",
    "    return user_number_of_purchases\n",
    "\n",
    "usr = users_as_real_vectors(users)"
   ]
  },
  {
   "cell_type": "markdown",
   "metadata": {},
   "source": [
    "Generating a random sample of data in order to enable quick analysis/debug in the ipython notebook."
   ]
  },
  {
   "cell_type": "code",
   "execution_count": 12,
   "metadata": {
    "collapsed": true
   },
   "outputs": [],
   "source": [
    "import random\n",
    "def random_subset(df, percent):\n",
    "    new_size  = int(percent*len(df.index))\n",
    "    subset = random.sample(set(df.index), new_size)\n",
    "    return df.ix[subset]\n",
    "\n",
    "users_small = random_subset(users, 0.2)\n",
    "items_small = random_subset(items, 0.2)\n",
    "users_ads_small = random_subset(users_ads, 0.2)\n",
    "conversions_small = random_subset(conversions, 0.2)\n",
    "# views_small = random_subset(views, 0.2)"
   ]
  },
  {
   "cell_type": "markdown",
   "metadata": {},
   "source": [
    "Joined data-frame containing information about conversions. Printing out the column names..."
   ]
  },
  {
   "cell_type": "code",
   "execution_count": null,
   "metadata": {
    "collapsed": true
   },
   "outputs": [],
   "source": [
    "full_info_conversions = conversions.merge(users, how='inner', on='userId')\n",
    "full_info_conversions = full_info_conversions.merge(items, how='inner', on='itemId')\n",
    "print(full_info_conversions.columns.values)"
   ]
  },
  {
   "cell_type": "markdown",
   "metadata": {},
   "source": [
    "...and sizes of frames with our  data for ease of use."
   ]
  },
  {
   "cell_type": "code",
   "execution_count": 13,
   "metadata": {
    "collapsed": false
   },
   "outputs": [
    {
     "name": "stdout",
     "output_type": "stream",
     "text": [
      "338613\n",
      "338884\n",
      "156927\n"
     ]
    }
   ],
   "source": [
    "print(full_info_conversions.index.size)\n",
    "print(conversions.index.size)\n",
    "print(full_info_conversions.userId.value_counts().index.size)"
   ]
  },
  {
   "cell_type": "markdown",
   "metadata": {},
   "source": [
    "Joined data-frame with information about conversions."
   ]
  },
  {
   "cell_type": "code",
   "execution_count": 14,
   "metadata": {
    "collapsed": false
   },
   "outputs": [
    {
     "name": "stdout",
     "output_type": "stream",
     "text": [
      "['userId' 'itemId_x' 'price_x' 'quantity' 'timestamp_x' 'registerCountry'\n",
      " 'signupTime' 'style' 'personality' 'color' 'theme' 'price_y' 'category'\n",
      " 'itemId_y' 'timestamp_y' 'pagetype']\n",
      "['userId' 'itemId' 'timestamp' 'pagetype']\n"
     ]
    }
   ],
   "source": [
    "full_info_views_conversions = full_info_conversions.merge(views, how='inner', on='userId')\n",
    "print(full_info_views_conversions.columns.values)\n",
    "print(views.columns.values)"
   ]
  },
  {
   "cell_type": "markdown",
   "metadata": {},
   "source": [
    "Filtering the irrelevant data out."
   ]
  },
  {
   "cell_type": "code",
   "execution_count": 15,
   "metadata": {
    "collapsed": false
   },
   "outputs": [
    {
     "name": "stderr",
     "output_type": "stream",
     "text": [
      "/usr/local/lib/python3.4/dist-packages/ipykernel/__main__.py:3: SettingWithCopyWarning: \n",
      "A value is trying to be set on a copy of a slice from a DataFrame.\n",
      "Try using .loc[row_indexer,col_indexer] = value instead\n",
      "\n",
      "See the caveats in the documentation: http://pandas.pydata.org/pandas-docs/stable/indexing.html#indexing-view-versus-copy\n",
      "  app.launch_new_instance()\n"
     ]
    }
   ],
   "source": [
    "filter = ~full_info_conversions.userId.isin(full_info_views_conversions.userId)\n",
    "zero_views_and_have_conversions = full_info_conversions[filter]\n",
    "zero_views_and_have_conversions['spending'] = zero_views_and_have_conversions.price_y * zero_views_and_have_conversions.quantity"
   ]
  },
  {
   "cell_type": "markdown",
   "metadata": {},
   "source": [
    "### Printing charts for people who had max k views and bought something.\n",
    "\n",
    "The method work in following way: we bin the statistics (correspondingly, total average spending, total mean quantity of transactions, quantity of people with transactions) due  to number of views in the first period_of_time_days days. The code produces bin charts describing the data."
   ]
  },
  {
   "cell_type": "code",
   "execution_count": 22,
   "metadata": {
    "collapsed": false
   },
   "outputs": [],
   "source": [
    "def mean_or_zero(series):\n",
    "    if series.size == 0:\n",
    "        return 0.0\n",
    "    return series.mean()\n",
    "import math\n",
    "\n",
    "def charts_max_k_views_bought_something(period_of_time_days, k):\n",
    "    df = full_info_views_conversions[full_info_views_conversions.timestamp_x <= full_info_views_conversions.signupTime + pandas.Timedelta(period_of_time_days)]\n",
    "    df['spending'] = df.price_y * df.quantity\n",
    "\n",
    "    sns.set()\n",
    "    f, (axes) = sns.plt.subplots(3, sharex=False, sharey=False)\n",
    "    main_title = \"Charts binned by number of initial views (max \" + str(k) + \" views) during first \" + str(period_of_time_days) + \" days after registration\" \n",
    "    f.suptitle(main_title,fontsize=20)\n",
    "    f.set_size_inches(15,30)\n",
    "    f.tight_layout(pad=1, w_pad=1, h_pad=13)\n",
    "    plt.subplots_adjust(top=0.91)\n",
    "    \n",
    "    sum_df = pandas.DataFrame()\n",
    "    sum_df['userId'] = df.userId\n",
    "    sum_df['quantity'] = df.quantity\n",
    "    sum_df['spending']  = df.spending\n",
    "    sum_df['number_views'] = np.ones(sum_df.spending.size)\n",
    "    \n",
    "    sum_df = sum_df.groupby('userId').sum()\n",
    "\n",
    "    mean_spending_k=[]\n",
    "    for i in range(k):\n",
    "        mean_spending_k.append((sum_df[sum_df.number_views == i]).spending.mean())\n",
    "    if math.isnan(mean_spending_k[0]):\n",
    "        mean_spending_k[0] = zero_views_and_have_conversions.spending.mean()\n",
    "\n",
    "    mean_spending_k_series = pandas.Series(mean_spending_k, index=range(k))\n",
    "    mean_spending_k_series.plot(ax=axes[0],kind='bar')\n",
    "    axes[0].set_title(\"Average spending\", fontsize=16)\n",
    "    axes[0].set_xlabel(\"Number of views\", fontsize=13)\n",
    "    axes[0].set_ylabel(\"Mean spending\", fontsize=13)\n",
    "    \n",
    "    mean_quantity_k=[]\n",
    "    for i in range(k):\n",
    "        mean_quantity_k.append((sum_df[sum_df.number_views == i]).quantity.mean())\n",
    "    if math.isnan(mean_quantity_k[0]):\n",
    "        mean_quantity_k[0] = zero_views_and_have_conversions.quantity.mean()\n",
    "\n",
    "    mean_quantity_k = pandas.Series(mean_quantity_k, index=range(k))\n",
    "    mean_quantity_k.plot(ax=axes[1],kind='bar')\n",
    "    axes[1].set_title(\"Mean quantity of bought objects\", fontsize=16)\n",
    "    axes[1].set_xlabel(\"Number of views\", fontsize=13)\n",
    "    axes[1].set_ylabel(\"Mean quantity\", fontsize=13)\n",
    "\n",
    "    amount_of_people_k=[]\n",
    "    for i in range(k):\n",
    "        amount_of_people_k.append((sum_df[sum_df.number_views == i]).quantity.size)\n",
    "    amount_of_people_k[0] = zero_views_and_have_conversions.userId.size\n",
    "    amount_of_people_k = pandas.Series(mean_quantity_k, index=range(k))\n",
    "    amount_of_people_k.plot(ax=axes[2],kind='bar')\n",
    "    axes[2].set_title(\"Amount of people who had x views and have transactions\", fontsize=16)\n",
    "    axes[2].set_xlabel(\"Number of views\", fontsize=13)\n",
    "    axes[2].set_ylabel(\"Amount of people\", fontsize=13) \n",
    "    \n",
    "    plt.show()"
   ]
  },
  {
   "cell_type": "code",
   "execution_count": 23,
   "metadata": {
    "collapsed": false
   },
   "outputs": [
    {
     "name": "stderr",
     "output_type": "stream",
     "text": [
      "/usr/local/lib/python3.4/dist-packages/ipykernel/__main__.py:9: SettingWithCopyWarning: \n",
      "A value is trying to be set on a copy of a slice from a DataFrame.\n",
      "Try using .loc[row_indexer,col_indexer] = value instead\n",
      "\n",
      "See the caveats in the documentation: http://pandas.pydata.org/pandas-docs/stable/indexing.html#indexing-view-versus-copy\n",
      "/usr/local/lib/python3.4/dist-packages/matplotlib/__init__.py:872: UserWarning: axes.color_cycle is deprecated and replaced with axes.prop_cycle; please use the latter.\n",
      "  warnings.warn(self.msg_depr % (key, alt_key))\n"
     ]
    }
   ],
   "source": [
    "charts_max_k_views_bought_something(10, 20)"
   ]
  },
  {
   "cell_type": "code",
   "execution_count": 71,
   "metadata": {
    "collapsed": true
   },
   "outputs": [],
   "source": []
  }
 ],
 "metadata": {
  "kernelspec": {
   "display_name": "Python 3",
   "language": "python",
   "name": "python3"
  },
  "language_info": {
   "codemirror_mode": {
    "name": "ipython",
    "version": 3
   },
   "file_extension": ".py",
   "mimetype": "text/x-python",
   "name": "python",
   "nbconvert_exporter": "python",
   "pygments_lexer": "ipython3",
   "version": "3.4.3"
  }
 },
 "nbformat": 4,
 "nbformat_minor": 0
}
